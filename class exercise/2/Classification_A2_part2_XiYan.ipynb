{
 "cells": [
  {
   "cell_type": "markdown",
   "id": "0ca57a1f",
   "metadata": {},
   "source": [
    "# Classification Exercise - part 2\n",
    "## 95-791 Data Mining (Fall 2021) \n",
    "#### Name: Xi Yan\n",
    "#### Date: Thursday, November 11th\n"
   ]
  },
  {
   "cell_type": "markdown",
   "id": "6ca37784",
   "metadata": {},
   "source": [
    "### Changing the author field and file name.\n",
    "\n",
    " (a) Change the `name:` field on the ipynb document from Your Name Here to your own name.\n",
    "\n",
    " (b) Rename this file to \"Classification_A2_part2_YourHameHere.ipynb\", where YourNameHere is changed to your own name.\n",
    "\n",
    "\n",
    "### Installing and loading packages\n",
    "\n",
    "Before you begin this exercise make sure you have installed all the required libraries. Load the libraries as indicated below."
   ]
  },
  {
   "cell_type": "markdown",
   "id": "95624d66",
   "metadata": {},
   "source": [
    "You only need to install libraries once.  Once they're installed, you may use them by **importing** the libraries using the `import` command.  For today's lab, you'll want to run the following code\n"
   ]
  },
  {
   "cell_type": "code",
   "execution_count": 1,
   "id": "1e5f4897",
   "metadata": {},
   "outputs": [],
   "source": [
    "import numpy as np\n",
    "import pandas as pd\n",
    "import seaborn as sns\n",
    "from matplotlib import pyplot as plt\n",
    "import plotly.express as px\n",
    "from sklearn.metrics import confusion_matrix, classification_report\n",
    "from sklearn.model_selection import train_test_split\n",
    "from sklearn import metrics, preprocessing\n",
    "from sklearn.datasets import load_breast_cancer\n",
    "%matplotlib inline\n",
    "plt.style.use('seaborn-white')"
   ]
  },
  {
   "cell_type": "markdown",
   "id": "fe5467ea",
   "metadata": {},
   "source": [
    "The dataset - Heart failure clinical records Data Set- we will be working with comes from UCI's Machine Learning Repository. \n",
    "\n",
    "This dataset contains thirteen (13) clinical features:\n",
    "\n",
    "- age: age of the patient (years)\n",
    "- anaemia: decrease of red blood cells or hemoglobin (boolean)\n",
    "- high blood pressure: if the patient has hypertension (boolean)\n",
    "- creatinine phosphokinase (CPK): level of the CPK enzyme in the blood (mcg/L)\n",
    "- diabetes: if the patient has diabetes (boolean)\n",
    "- ejection fraction: percentage of blood leaving the heart at each contraction (percentage)\n",
    "- platelets: platelets in the blood (kiloplatelets/mL)\n",
    "- sex: woman or man\n",
    "- serum creatinine: level of serum creatinine in the blood (mg/dL)\n",
    "- serum sodium: level of serum sodium in the blood (mEq/L)\n",
    "- smoking: if the patient smokes or not (boolean)\n",
    "- time: follow-up period (days)\n",
    "\n",
    "Target\n",
    "- death event: if the patient deceased during the follow-up period (boolean)"
   ]
  },
  {
   "cell_type": "markdown",
   "id": "072e7171",
   "metadata": {},
   "source": [
    "**Read the dataset and print the first 5 rows**"
   ]
  },
  {
   "cell_type": "code",
   "execution_count": 2,
   "id": "1b04cf44",
   "metadata": {},
   "outputs": [
    {
     "data": {
      "text/plain": "    age  anaemia  creatinine_phosphokinase  diabetes  ejection_fraction  \\\n0  75.0        0                       582         0                 20   \n1  55.0        0                      7861         0                 38   \n2  65.0        0                       146         0                 20   \n3  50.0        1                       111         0                 20   \n4  65.0        1                       160         1                 20   \n\n   high_blood_pressure  platelets  serum_creatinine  serum_sodium sex  \\\n0                    1  265000.00               1.9           130   F   \n1                    0  263358.03               1.1           136   F   \n2                    0  162000.00               1.3           129   F   \n3                    0  210000.00               1.9           137   F   \n4                    0  327000.00               2.7           116   M   \n\n   smoking  time  DEATH_EVENT  \n0        0     4            1  \n1        0     6            1  \n2        1     7            1  \n3        0     7            1  \n4        0     8            1  ",
      "text/html": "<div>\n<style scoped>\n    .dataframe tbody tr th:only-of-type {\n        vertical-align: middle;\n    }\n\n    .dataframe tbody tr th {\n        vertical-align: top;\n    }\n\n    .dataframe thead th {\n        text-align: right;\n    }\n</style>\n<table border=\"1\" class=\"dataframe\">\n  <thead>\n    <tr style=\"text-align: right;\">\n      <th></th>\n      <th>age</th>\n      <th>anaemia</th>\n      <th>creatinine_phosphokinase</th>\n      <th>diabetes</th>\n      <th>ejection_fraction</th>\n      <th>high_blood_pressure</th>\n      <th>platelets</th>\n      <th>serum_creatinine</th>\n      <th>serum_sodium</th>\n      <th>sex</th>\n      <th>smoking</th>\n      <th>time</th>\n      <th>DEATH_EVENT</th>\n    </tr>\n  </thead>\n  <tbody>\n    <tr>\n      <th>0</th>\n      <td>75.0</td>\n      <td>0</td>\n      <td>582</td>\n      <td>0</td>\n      <td>20</td>\n      <td>1</td>\n      <td>265000.00</td>\n      <td>1.9</td>\n      <td>130</td>\n      <td>F</td>\n      <td>0</td>\n      <td>4</td>\n      <td>1</td>\n    </tr>\n    <tr>\n      <th>1</th>\n      <td>55.0</td>\n      <td>0</td>\n      <td>7861</td>\n      <td>0</td>\n      <td>38</td>\n      <td>0</td>\n      <td>263358.03</td>\n      <td>1.1</td>\n      <td>136</td>\n      <td>F</td>\n      <td>0</td>\n      <td>6</td>\n      <td>1</td>\n    </tr>\n    <tr>\n      <th>2</th>\n      <td>65.0</td>\n      <td>0</td>\n      <td>146</td>\n      <td>0</td>\n      <td>20</td>\n      <td>0</td>\n      <td>162000.00</td>\n      <td>1.3</td>\n      <td>129</td>\n      <td>F</td>\n      <td>1</td>\n      <td>7</td>\n      <td>1</td>\n    </tr>\n    <tr>\n      <th>3</th>\n      <td>50.0</td>\n      <td>1</td>\n      <td>111</td>\n      <td>0</td>\n      <td>20</td>\n      <td>0</td>\n      <td>210000.00</td>\n      <td>1.9</td>\n      <td>137</td>\n      <td>F</td>\n      <td>0</td>\n      <td>7</td>\n      <td>1</td>\n    </tr>\n    <tr>\n      <th>4</th>\n      <td>65.0</td>\n      <td>1</td>\n      <td>160</td>\n      <td>1</td>\n      <td>20</td>\n      <td>0</td>\n      <td>327000.00</td>\n      <td>2.7</td>\n      <td>116</td>\n      <td>M</td>\n      <td>0</td>\n      <td>8</td>\n      <td>1</td>\n    </tr>\n  </tbody>\n</table>\n</div>"
     },
     "execution_count": 2,
     "metadata": {},
     "output_type": "execute_result"
    }
   ],
   "source": [
    "hf = pd.read_csv(\"heart_failure_clinical_records_dataset.csv\")\n",
    "hf.head()"
   ]
  },
  {
   "cell_type": "markdown",
   "id": "fd871722",
   "metadata": {},
   "source": [
    "**Check if there are any missing values**"
   ]
  },
  {
   "cell_type": "code",
   "execution_count": 3,
   "id": "4154a3a8",
   "metadata": {},
   "outputs": [
    {
     "name": "stdout",
     "output_type": "stream",
     "text": [
      "<class 'pandas.core.frame.DataFrame'>\n",
      "RangeIndex: 299 entries, 0 to 298\n",
      "Data columns (total 13 columns):\n",
      " #   Column                    Non-Null Count  Dtype  \n",
      "---  ------                    --------------  -----  \n",
      " 0   age                       299 non-null    float64\n",
      " 1   anaemia                   299 non-null    int64  \n",
      " 2   creatinine_phosphokinase  299 non-null    int64  \n",
      " 3   diabetes                  299 non-null    int64  \n",
      " 4   ejection_fraction         299 non-null    int64  \n",
      " 5   high_blood_pressure       299 non-null    int64  \n",
      " 6   platelets                 299 non-null    float64\n",
      " 7   serum_creatinine          299 non-null    float64\n",
      " 8   serum_sodium              299 non-null    int64  \n",
      " 9   sex                       299 non-null    object \n",
      " 10  smoking                   299 non-null    int64  \n",
      " 11  time                      299 non-null    int64  \n",
      " 12  DEATH_EVENT               299 non-null    int64  \n",
      "dtypes: float64(3), int64(9), object(1)\n",
      "memory usage: 30.5+ KB\n",
      "age                         0\n",
      "anaemia                     0\n",
      "creatinine_phosphokinase    0\n",
      "diabetes                    0\n",
      "ejection_fraction           0\n",
      "high_blood_pressure         0\n",
      "platelets                   0\n",
      "serum_creatinine            0\n",
      "serum_sodium                0\n",
      "sex                         0\n",
      "smoking                     0\n",
      "time                        0\n",
      "DEATH_EVENT                 0\n",
      "dtype: int64\n"
     ]
    }
   ],
   "source": [
    "hf.info()\n",
    "print(hf.isnull().sum(axis=0))"
   ]
  },
  {
   "cell_type": "markdown",
   "id": "58eaa0e1",
   "metadata": {},
   "source": [
    "**Before you go into modeling your data, you will need to turn `sex` into a numerical/binary columns.**\n",
    "\n",
    "**Hint: the easiest way would be to create [dummy variables](https://pandas.pydata.org/docs/reference/api/pandas.get_dummies.html)."
   ]
  },
  {
   "cell_type": "code",
   "execution_count": 4,
   "id": "0a67b5ad",
   "metadata": {},
   "outputs": [
    {
     "data": {
      "text/plain": "    age  anaemia  creatinine_phosphokinase  diabetes  ejection_fraction  \\\n0  75.0        0                       582         0                 20   \n1  55.0        0                      7861         0                 38   \n2  65.0        0                       146         0                 20   \n3  50.0        1                       111         0                 20   \n4  65.0        1                       160         1                 20   \n\n   high_blood_pressure  platelets  serum_creatinine  serum_sodium  sex  \\\n0                    1  265000.00               1.9           130    0   \n1                    0  263358.03               1.1           136    0   \n2                    0  162000.00               1.3           129    0   \n3                    0  210000.00               1.9           137    0   \n4                    0  327000.00               2.7           116    1   \n\n   smoking  time  DEATH_EVENT  \n0        0     4            1  \n1        0     6            1  \n2        1     7            1  \n3        0     7            1  \n4        0     8            1  ",
      "text/html": "<div>\n<style scoped>\n    .dataframe tbody tr th:only-of-type {\n        vertical-align: middle;\n    }\n\n    .dataframe tbody tr th {\n        vertical-align: top;\n    }\n\n    .dataframe thead th {\n        text-align: right;\n    }\n</style>\n<table border=\"1\" class=\"dataframe\">\n  <thead>\n    <tr style=\"text-align: right;\">\n      <th></th>\n      <th>age</th>\n      <th>anaemia</th>\n      <th>creatinine_phosphokinase</th>\n      <th>diabetes</th>\n      <th>ejection_fraction</th>\n      <th>high_blood_pressure</th>\n      <th>platelets</th>\n      <th>serum_creatinine</th>\n      <th>serum_sodium</th>\n      <th>sex</th>\n      <th>smoking</th>\n      <th>time</th>\n      <th>DEATH_EVENT</th>\n    </tr>\n  </thead>\n  <tbody>\n    <tr>\n      <th>0</th>\n      <td>75.0</td>\n      <td>0</td>\n      <td>582</td>\n      <td>0</td>\n      <td>20</td>\n      <td>1</td>\n      <td>265000.00</td>\n      <td>1.9</td>\n      <td>130</td>\n      <td>0</td>\n      <td>0</td>\n      <td>4</td>\n      <td>1</td>\n    </tr>\n    <tr>\n      <th>1</th>\n      <td>55.0</td>\n      <td>0</td>\n      <td>7861</td>\n      <td>0</td>\n      <td>38</td>\n      <td>0</td>\n      <td>263358.03</td>\n      <td>1.1</td>\n      <td>136</td>\n      <td>0</td>\n      <td>0</td>\n      <td>6</td>\n      <td>1</td>\n    </tr>\n    <tr>\n      <th>2</th>\n      <td>65.0</td>\n      <td>0</td>\n      <td>146</td>\n      <td>0</td>\n      <td>20</td>\n      <td>0</td>\n      <td>162000.00</td>\n      <td>1.3</td>\n      <td>129</td>\n      <td>0</td>\n      <td>1</td>\n      <td>7</td>\n      <td>1</td>\n    </tr>\n    <tr>\n      <th>3</th>\n      <td>50.0</td>\n      <td>1</td>\n      <td>111</td>\n      <td>0</td>\n      <td>20</td>\n      <td>0</td>\n      <td>210000.00</td>\n      <td>1.9</td>\n      <td>137</td>\n      <td>0</td>\n      <td>0</td>\n      <td>7</td>\n      <td>1</td>\n    </tr>\n    <tr>\n      <th>4</th>\n      <td>65.0</td>\n      <td>1</td>\n      <td>160</td>\n      <td>1</td>\n      <td>20</td>\n      <td>0</td>\n      <td>327000.00</td>\n      <td>2.7</td>\n      <td>116</td>\n      <td>1</td>\n      <td>0</td>\n      <td>8</td>\n      <td>1</td>\n    </tr>\n  </tbody>\n</table>\n</div>"
     },
     "execution_count": 4,
     "metadata": {},
     "output_type": "execute_result"
    }
   ],
   "source": [
    "hf['sex'] = pd.get_dummies(hf['sex'], drop_first=True)\n",
    "hf.head()"
   ]
  },
  {
   "cell_type": "markdown",
   "id": "ec4a8096",
   "metadata": {},
   "source": [
    "**We now need to divide our dataset into `X` and `y`.**"
   ]
  },
  {
   "cell_type": "code",
   "execution_count": 5,
   "id": "00cef082",
   "metadata": {},
   "outputs": [
    {
     "data": {
      "text/plain": "0      1\n1      1\n2      1\n3      1\n4      1\n      ..\n294    0\n295    0\n296    0\n297    0\n298    0\nName: DEATH_EVENT, Length: 299, dtype: int64"
     },
     "execution_count": 5,
     "metadata": {},
     "output_type": "execute_result"
    }
   ],
   "source": [
    "X = hf[hf.columns.difference(['DEATH_EVENT'])]\n",
    "feature_names = X.columns\n",
    "y = hf['DEATH_EVENT']\n",
    "y"
   ]
  },
  {
   "cell_type": "markdown",
   "id": "21c64bdd",
   "metadata": {},
   "source": [
    "**As any other classification or regression problem we are going to split our dataset into train and test datasets. Use a 20-80 ratio**"
   ]
  },
  {
   "cell_type": "code",
   "execution_count": 6,
   "id": "98d46ef5",
   "metadata": {},
   "outputs": [],
   "source": [
    "X_train, X_test, y_train, y_test = train_test_split(X,y,\n",
    "                                                    test_size=0.20,\n",
    "                                                    random_state=1)"
   ]
  },
  {
   "cell_type": "markdown",
   "id": "665dae2e",
   "metadata": {},
   "source": [
    "---\n",
    "\n",
    "### KNN\n",
    "\n",
    "We are going to try a kNN (k-Nearest Naighbours) as our first classifier You can read more about it [here](https://scikit-learn.org/stable/modules/neighbors.html) or in last lecture slides. These will be explained in detail during Monday's class. We can use KNN for classification, as well as regression and unsupervised learning. Take a look at the documentation for the KNN Classifier in [scikitlearn](https://scikit-learn.org/stable/modules/generated/sklearn.neighbors.KNeighborsClassifier.html#sklearn.neighbors.KNeighborsClassifier).\n",
    "\n",
    "There are default parameter for the KNNClassifier:\n",
    "- k=5 (Number of neighbors to use by default for kneighbors queries)\n",
    "- weights = ’uniform’ (All points in each neighborhood are weighted equally)\n",
    "- metric = ’minkowski’ (metric used to calculate [distances](https://scikit-learn.org/stable/modules/generated/sklearn.neighbors.DistanceMetric.html#sklearn.neighbors.DistanceMetric)) \n",
    "    - \tsum(|x - y|^p)^(1/p)  --> if p=2, then this is equivalent to the Euclidean distance. By default p=2\n"
   ]
  },
  {
   "cell_type": "code",
   "execution_count": 7,
   "id": "15902af5",
   "metadata": {},
   "outputs": [],
   "source": [
    "from sklearn.neighbors import KNeighborsClassifier\n",
    "from sklearn.metrics import confusion_matrix, ConfusionMatrixDisplay, classification_report"
   ]
  },
  {
   "cell_type": "markdown",
   "id": "d48828c7",
   "metadata": {},
   "source": [
    "**We first fit our KNN Classifier with our training data, and we will start by using the default number of neighbours.**"
   ]
  },
  {
   "cell_type": "code",
   "execution_count": 8,
   "id": "5dc08b42",
   "metadata": {},
   "outputs": [
    {
     "data": {
      "text/plain": "KNeighborsClassifier()"
     },
     "execution_count": 8,
     "metadata": {},
     "output_type": "execute_result"
    }
   ],
   "source": [
    "knn_hf = KNeighborsClassifier()\n",
    "knn_hf.fit(X_train, y_train)"
   ]
  },
  {
   "cell_type": "markdown",
   "id": "4b2f52a8",
   "metadata": {},
   "source": [
    "**We test our classifier with X_test, get their predictions. Use your test dataset to predict with your KNN classifier**"
   ]
  },
  {
   "cell_type": "code",
   "execution_count": 9,
   "id": "8ac3a2e7",
   "metadata": {},
   "outputs": [
    {
     "name": "stdout",
     "output_type": "stream",
     "text": [
      "[0 0 0 0 0 0 1 0 0 0 0 0 0 0 0 0 1 0 0 0 0 0 0 0 0 0 1 1 1 0 0 0 0 0 0 0 0\n",
      " 0 0 0 0 0 0 0 0 0 0 0 0 1 1 1 0 0 0 1 0 0 0 1]\n"
     ]
    }
   ],
   "source": [
    "y_pred = knn_hf.predict(X_test)\n",
    "print(y_pred)"
   ]
  },
  {
   "cell_type": "markdown",
   "id": "a9ec79ef",
   "metadata": {},
   "source": [
    "**Now we need to know how good was that classification!**\n",
    "\n",
    "$$Accuracy = \\frac{TP + TN}{n}$$\n",
    "\n",
    "Use your metrics.accuracy_score to obtain an accuracy score on your previous predictions"
   ]
  },
  {
   "cell_type": "code",
   "execution_count": 10,
   "id": "23723b17",
   "metadata": {},
   "outputs": [
    {
     "name": "stdout",
     "output_type": "stream",
     "text": [
      "0.6333333333333333\n"
     ]
    }
   ],
   "source": [
    "scores = metrics.accuracy_score(y_test,y_pred)\n",
    "print(scores)"
   ]
  },
  {
   "cell_type": "markdown",
   "id": "912aadcf",
   "metadata": {},
   "source": [
    "We can also calculate the confusion matrix for the classification we just performed.\n",
    "\n",
    "\n",
    "| Predicted\\Observed     | Event | Non-event   |\n",
    "| :---        |    :----:   |          ---: |\n",
    "| Event    | TP      | FP  |\n",
    "| Non-event   | FN       | TN    |\n",
    "\n",
    "**Calculate the [confusion matrix](https://scikit-learn.org/stable/modules/generated/sklearn.metrics.confusion_matrix.html) and [classification report](https://scikit-learn.org/stable/modules/generated/sklearn.metrics.classification_report.html) based on your y_test and your predictions. Print out your results.**"
   ]
  },
  {
   "cell_type": "code",
   "execution_count": 11,
   "id": "1ae8466a",
   "metadata": {},
   "outputs": [
    {
     "name": "stdout",
     "output_type": "stream",
     "text": [
      "[[37  9]\n",
      " [13  1]]\n",
      "              precision    recall  f1-score   support\n",
      "\n",
      "           0      0.740     0.804     0.771        46\n",
      "           1      0.100     0.071     0.083        14\n",
      "\n",
      "    accuracy                          0.633        60\n",
      "   macro avg      0.420     0.438     0.427        60\n",
      "weighted avg      0.591     0.633     0.610        60\n",
      "\n"
     ]
    }
   ],
   "source": [
    "cm_hf = confusion_matrix(y_test,y_pred)\n",
    "print(cm_hf)\n",
    "print(classification_report(y_test, y_pred, digits=3))"
   ]
  },
  {
   "cell_type": "markdown",
   "id": "9114dde7",
   "metadata": {},
   "source": [
    "**Are both your classes classified the same? Is there one harder to classify?**"
   ]
  },
  {
   "cell_type": "markdown",
   "id": "085442db",
   "metadata": {},
   "source": [
    "Yes, class 1 (Death) has a precision of .1, and its harder to classify. This dataset is unbalanced with a 46 vs 14 distribution."
   ]
  },
  {
   "cell_type": "markdown",
   "id": "c4e8e399",
   "metadata": {},
   "source": [
    "During last week's lectures we talked about the metrics you see in the classification report. Their definition are below.\n",
    "\n",
    "$$Recall = \\frac{TP}{TP + FN}$$\n",
    "\n",
    "$$Precision = \\frac{TP}{TP + FP} $$\n",
    "\n",
    "$$F_1 = 2•\\frac{precision•recall}{precision+recall} $$ Read more abiut the f1-score [here](https://scikit-learn.org/stable/modules/generated/sklearn.metrics.f1_score.html)"
   ]
  },
  {
   "cell_type": "markdown",
   "id": "57721939",
   "metadata": {},
   "source": [
    "**Use the [ConfusionMatrixDisplay](https://scikit-learn.org/stable/modules/generated/sklearn.metrics.ConfusionMatrixDisplay.html) to plot your confusion matrix and appropriate labels. After calculated it do a `.plot()` on it**"
   ]
  },
  {
   "cell_type": "code",
   "execution_count": 12,
   "id": "6eb50015",
   "metadata": {},
   "outputs": [
    {
     "data": {
      "text/plain": "<Figure size 432x288 with 2 Axes>",
      "image/png": "[encoded data removed]"
     },
     "metadata": {},
     "output_type": "display_data"
    }
   ],
   "source": [
    "dissplay_cm_hf= ConfusionMatrixDisplay(confusion_matrix=cm_hf,\n",
    "                                       display_labels=['No death (0)','death (1)'])\n",
    "dissplay_cm_hf.plot();"
   ]
  },
  {
   "cell_type": "markdown",
   "id": "8a3969a9",
   "metadata": {},
   "source": [
    "**How does this plot help us?**"
   ]
  },
  {
   "cell_type": "markdown",
   "id": "02a619e1",
   "metadata": {},
   "source": [
    "We can clearly see how many labels were predicted correctly. For example, for the label `death_event` there were 37 observations correctly classified, but 13 incorrectly classified as `no_death`."
   ]
  },
  {
   "cell_type": "markdown",
   "id": "28da0905",
   "metadata": {},
   "source": [
    "**As a final task use the [accuracy_score](https://scikit-learn.org/stable/modules/generated/sklearn.metrics.accuracy_score.html) and [precision_score](https://scikit-learn.org/stable/modules/generated/sklearn.metrics.precision_score.html) to print out each of these metrics seperately**"
   ]
  },
  {
   "cell_type": "code",
   "execution_count": 13,
   "id": "9eff31f5",
   "metadata": {},
   "outputs": [
    {
     "name": "stdout",
     "output_type": "stream",
     "text": [
      "Accuracy: 0.6333333333333333\n",
      "Precision: [0.74 0.1 ]\n"
     ]
    }
   ],
   "source": [
    "print(\"Accuracy: \"+str(metrics.accuracy_score(y_test, y_pred)))\n",
    "print(\"Precision: \"+str(metrics.precision_score(y_test, y_pred, average=None)))"
   ]
  },
  {
   "cell_type": "markdown",
   "id": "32a169e1",
   "metadata": {},
   "source": [
    "---\n",
    "\n",
    "### Naive Bayes\n",
    "\n",
    "Let's try a different classifier with the same dataset. This time we'll try a [Naive Bayes classifier](https://scikit-learn.org/stable/modules/naive_bayes.html)"
   ]
  },
  {
   "cell_type": "code",
   "execution_count": 14,
   "id": "68a59fdb",
   "metadata": {},
   "outputs": [],
   "source": [
    "from sklearn.naive_bayes import GaussianNB"
   ]
  },
  {
   "cell_type": "markdown",
   "id": "0b747012",
   "metadata": {},
   "source": [
    "**We need to fit a Naive Bayes classifier to our data. We will use X_test to make predictions with our classifier and print out its confusion matrix**\n",
    "\n",
    "As you might have already figured out, most scikit-learn models are classes, therefore we need:\n",
    "- Create an object if that class\n",
    "- Fit our train data to that object (to create a model)\n",
    "- Use our model to predict on our test data\n",
    "\n",
    "After these three steos you can use your predictions to create a confusion matrix and a classification report."
   ]
  },
  {
   "cell_type": "code",
   "execution_count": 15,
   "id": "4847ef2e",
   "metadata": {},
   "outputs": [
    {
     "name": "stdout",
     "output_type": "stream",
     "text": [
      "              precision    recall  f1-score   support\n",
      "\n",
      "           0      0.938     0.978     0.957        46\n",
      "           1      0.917     0.786     0.846        14\n",
      "\n",
      "    accuracy                          0.933        60\n",
      "   macro avg      0.927     0.882     0.902        60\n",
      "weighted avg      0.933     0.933     0.931        60\n",
      "\n"
     ]
    }
   ],
   "source": [
    "nb_hf = GaussianNB()\n",
    "nb_pred = nb_hf.fit(X_train, y_train).predict(X_test)\n",
    "cm_hf = confusion_matrix(y_test,nb_pred)\n",
    "print(classification_report(y_test, nb_pred, digits=3))"
   ]
  },
  {
   "cell_type": "markdown",
   "id": "3d32bdec",
   "metadata": {},
   "source": [
    "**How well did this model do compared to KNN?**"
   ]
  },
  {
   "cell_type": "markdown",
   "id": "e6861e3a",
   "metadata": {},
   "source": [
    "It did much better!! Precision for both classes is above 0.9. Class 1 is still harder to classify but not by much."
   ]
  },
  {
   "cell_type": "markdown",
   "id": "dea3b66c",
   "metadata": {},
   "source": [
    "**Use the ConfusionMatrixDisplay on your confusion matrix**"
   ]
  },
  {
   "cell_type": "code",
   "execution_count": 16,
   "id": "f4743c22",
   "metadata": {},
   "outputs": [
    {
     "data": {
      "text/plain": "<Figure size 432x288 with 2 Axes>",
      "image/png": "[encoded data removed]"
     },
     "metadata": {},
     "output_type": "display_data"
    }
   ],
   "source": [
    "dissplay_cm_hf = ConfusionMatrixDisplay(confusion_matrix=cm_hf,\n",
    "                                        display_labels=['No death (0)','death (1)'])\n",
    "dissplay_cm_hf.plot();"
   ]
  },
  {
   "cell_type": "markdown",
   "id": "e80137f7",
   "metadata": {},
   "source": [
    "---\n",
    "\n",
    "## STOP HERE\n",
    "\n",
    "We need to go over Logistic Regression before we get to the next part."
   ]
  },
  {
   "cell_type": "markdown",
   "id": "3004f90b",
   "metadata": {},
   "source": [
    "\n",
    "---\n",
    "\n",
    "### Logistic Regression\n",
    "\n",
    "**Let's try a third classifier with the same dataset. This time we'll try a [LogisticRegression](https://scikit-learn.org/stable/modules/generated/sklearn.linear_model.LogisticRegression.html)**"
   ]
  },
  {
   "cell_type": "code",
   "execution_count": 17,
   "id": "b50e6792",
   "metadata": {},
   "outputs": [],
   "source": [
    "from sklearn.linear_model import LogisticRegression"
   ]
  },
  {
   "cell_type": "markdown",
   "id": "21f22892",
   "metadata": {},
   "source": [
    "**We need to fit a LogisticRegression to our data. We will use X_test to make predictions with our classifier and print out its confusion matrix**\n",
    "\n",
    "As you might have already figured out, most scikit-learn models are classes, therefore we need:\n",
    "- Create an object if that class\n",
    "- Fit our train data to that object (to create a model)\n",
    "- Use our model to predict on our test data\n",
    "- Print out its classification_report()\n",
    "\n",
    "After these three steos you can use your predictions to create a confusion matrix and a classification report.\n",
    "\n",
    "*Warning: you might get a \"TOTAL NO. of ITERATIONS REACHED LIMIT.\" error when running this model. If this happens consider increasing the `max_iter` for the `LogisticRegression`.*"
   ]
  },
  {
   "cell_type": "code",
   "execution_count": 28,
   "id": "424442c6",
   "metadata": {},
   "outputs": [
    {
     "name": "stdout",
     "output_type": "stream",
     "text": [
      "              precision    recall  f1-score   support\n",
      "\n",
      "           0       0.91      0.89      0.90        46\n",
      "           1       0.67      0.71      0.69        14\n",
      "\n",
      "    accuracy                           0.85        60\n",
      "   macro avg       0.79      0.80      0.80        60\n",
      "weighted avg       0.85      0.85      0.85        60\n",
      "\n"
     ]
    },
    {
     "name": "stderr",
     "output_type": "stream",
     "text": [
      "/Users/nellyan45/.conda/envs/untitled/lib/python3.8/site-packages/sklearn/linear_model/_logistic.py:814: ConvergenceWarning: lbfgs failed to converge (status=1):\n",
      "STOP: TOTAL NO. of ITERATIONS REACHED LIMIT.\n",
      "\n",
      "Increase the number of iterations (max_iter) or scale the data as shown in:\n",
      "    https://scikit-learn.org/stable/modules/preprocessing.html\n",
      "Please also refer to the documentation for alternative solver options:\n",
      "    https://scikit-learn.org/stable/modules/linear_model.html#logistic-regression\n",
      "  n_iter_i = _check_optimize_result(\n"
     ]
    }
   ],
   "source": [
    "#your code here\n",
    "clf = LogisticRegression()\n",
    "clf.fit(X_train, y_train)\n",
    "y_pred = clf.predict(X_test)\n",
    "print(classification_report(y_test, y_pred))"
   ]
  },
  {
   "cell_type": "markdown",
   "id": "dfd7b311",
   "metadata": {},
   "source": [
    "**Use the ConfusionMatrixDisplay on your confusion matrix**"
   ]
  },
  {
   "cell_type": "code",
   "execution_count": 30,
   "id": "4ffae3fd",
   "metadata": {},
   "outputs": [
    {
     "data": {
      "text/plain": "<sklearn.metrics._plot.confusion_matrix.ConfusionMatrixDisplay at 0x7f8f01152040>"
     },
     "execution_count": 30,
     "metadata": {},
     "output_type": "execute_result"
    },
    {
     "data": {
      "text/plain": "<Figure size 432x288 with 2 Axes>",
      "image/png": "[encoded data removed]"
     },
     "metadata": {},
     "output_type": "display_data"
    }
   ],
   "source": [
    "#your code here\n",
    "cm_clf = confusion_matrix(y_test,y_pred)\n",
    "dissplay_cm_logit = ConfusionMatrixDisplay(confusion_matrix=cm_clf,\n",
    "                                        display_labels=['No death (0)','death (1)'])\n",
    "dissplay_cm_logit.plot()"
   ]
  },
  {
   "cell_type": "markdown",
   "id": "edbbec30",
   "metadata": {},
   "source": [
    "**How well did this model do compared to Naive Bayes?**"
   ]
  },
  {
   "cell_type": "markdown",
   "id": "079c5896",
   "metadata": {},
   "source": [
    "--> Your answer here\n",
    "It is slightly worse than the Naive Bayes"
   ]
  },
  {
   "cell_type": "markdown",
   "id": "2bb27111",
   "metadata": {},
   "source": [
    "**Overall which model (KNN, NB and LR) did better with this dataset?**"
   ]
  },
  {
   "cell_type": "markdown",
   "id": "b8108b36",
   "metadata": {},
   "source": [
    "--> Your answer here\n",
    "Naive Bayes does better among the two rest with this dataset"
   ]
  },
  {
   "cell_type": "markdown",
   "id": "aea9e671",
   "metadata": {},
   "source": [
    "---\n",
    "\n",
    "## ROC\n",
    "\n",
    "For this next part we are going to compare our three models. For this we will use [roc_curve](https://scikit-learn.org/stable/modules/generated/sklearn.metrics.roc_curve.html) to calculate our tpr, fpr and thresholds, and [roc_auc_score](https://scikit-learn.org/stable/modules/generated/sklearn.metrics.roc_auc_score.html) to calculate the AUC score."
   ]
  },
  {
   "cell_type": "code",
   "execution_count": 20,
   "id": "e6b636d3",
   "metadata": {},
   "outputs": [],
   "source": [
    "from sklearn.metrics import roc_curve\n",
    "from sklearn.metrics import roc_auc_score"
   ]
  },
  {
   "cell_type": "markdown",
   "id": "e45b4eaf",
   "metadata": {},
   "source": [
    "**For each model you have trained and used for prediction you can obtain the probabilities for 0 and 1 for each prediction (instead of the actual 0 or 1 result). Hint: instead of model.predict(), you can use model.predict_proba(dataset). Try this with your Naive Bayes first.**"
   ]
  },
  {
   "cell_type": "code",
   "execution_count": 36,
   "id": "8d77486d",
   "metadata": {},
   "outputs": [
    {
     "name": "stdout",
     "output_type": "stream",
     "text": [
      "Predictions:\n",
      " [0 0 1 0 0 0 0 0 1 0 0 1 1 0 1 0 0 0 0 0 0 1 0 1 0 0 0 0 0 0 0 0 0 0 0 1 0\n",
      " 0 0 0 1 0 0 0 0 1 0 0 1 0 0 0 0 1 0 0 0 0 0 0]\n",
      "probabilities of 0 outcome:\n",
      " [0.83514788 0.99537508 0.4730544  0.81232765 0.95136189 0.94231163\n",
      " 0.9831299  0.71105475 0.48237525 0.98422582 0.69174523 0.38620649\n",
      " 0.34198026 0.97884692 0.47202057 0.9892742  0.73094164 0.6754847\n",
      " 0.992919   0.5914391  0.94720769 0.36953861 0.82807259 0.26353468\n",
      " 0.82148636 0.71102822 0.9978306  0.7828452  0.84176365 0.85413696\n",
      " 0.88843424 0.99424447 0.88181734 0.99275393 0.66271567 0.46514907\n",
      " 0.94679423 0.80314062 0.70196515 0.97598232 0.01764695 0.90163017\n",
      " 0.82507464 0.94268738 0.64775419 0.16480662 0.91233128 0.90393386\n",
      " 0.47375784 0.93212171 0.99269974 0.98423931 0.89841192 0.28989828\n",
      " 0.77501063 0.95770804 0.96180994 0.97857091 0.93331642 0.71368979]\n",
      "probabilities of 1 outcome:\n",
      " [0.16485212 0.00462492 0.5269456  0.18767235 0.04863811 0.05768837\n",
      " 0.0168701  0.28894525 0.51762475 0.01577418 0.30825477 0.61379351\n",
      " 0.65801974 0.02115308 0.52797943 0.0107258  0.26905836 0.3245153\n",
      " 0.007081   0.4085609  0.05279231 0.63046139 0.17192741 0.73646532\n",
      " 0.17851364 0.28897178 0.0021694  0.2171548  0.15823635 0.14586304\n",
      " 0.11156576 0.00575553 0.11818266 0.00724607 0.33728433 0.53485093\n",
      " 0.05320577 0.19685938 0.29803485 0.02401768 0.98235305 0.09836983\n",
      " 0.17492536 0.05731262 0.35224581 0.83519338 0.08766872 0.09606614\n",
      " 0.52624216 0.06787829 0.00730026 0.01576069 0.10158808 0.71010172\n",
      " 0.22498937 0.04229196 0.03819006 0.02142909 0.06668358 0.28631021]\n"
     ]
    }
   ],
   "source": [
    "#probabilities for Naive Bayes Classifier\n",
    "nb_probs = nb_hf.predict_proba(X_test)\n",
    "print(\"Predictions:\\n\", nb_pred) #my predictions for NB\n",
    "print(\"probabilities of 0 outcome:\\n\", nb_probs[:, 0])\n",
    "print(\"probabilities of 1 outcome:\\n\", nb_probs[:, 1])"
   ]
  },
  {
   "cell_type": "markdown",
   "id": "ef800799",
   "metadata": {},
   "source": [
    "**We now have the probabilities, but we need to calculate the FPR and TPR according to each threshold. This will allow us to plot an ROC curve and calculate its AUC**\n",
    "\n",
    "```\n",
    "auc = roc_auc_score(data, probabilities)\n",
    "\n",
    "fpr, tpr, thresholds = roc_curve(data, probabilities)\n",
    "\n",
    "```\n",
    "\n",
    "*Hint: use the positives probabilities for the roc_curve*"
   ]
  },
  {
   "cell_type": "code",
   "execution_count": 54,
   "id": "b982ae4d",
   "metadata": {},
   "outputs": [
    {
     "name": "stdout",
     "output_type": "stream",
     "text": [
      "Thresholds:\n",
      " [1.98235305 0.98235305 0.61379351 0.53485093 0.51762475 0.33728433\n",
      " 0.3245153  0.26905836 0.22498937 0.08766872 0.06787829 0.0021694 ]\n",
      "FPR:\n",
      " [0.         0.         0.         0.02173913 0.02173913 0.08695652\n",
      " 0.08695652 0.2173913  0.2173913  0.54347826 0.54347826 1.        ]\n",
      "TPR:\n",
      " [0.         0.07142857 0.5        0.5        0.78571429 0.78571429\n",
      " 0.85714286 0.85714286 0.92857143 0.92857143 1.         1.        ]\n"
     ]
    }
   ],
   "source": [
    "#your code here\n",
    "auc = roc_auc_score(y_test, nb_probs[:,1])\n",
    "nb_fpr, nb_tpr, thresholds = roc_curve(y_test, nb_probs[:,1])\n",
    "\n",
    "print(\"Thresholds:\\n\",thresholds)\n",
    "print(\"FPR:\\n\",nb_fpr)\n",
    "print(\"TPR:\\n\",nb_tpr)"
   ]
  },
  {
   "cell_type": "markdown",
   "id": "a13db3dc",
   "metadata": {},
   "source": [
    "**You now have the FPR and TPR for each threshold! You can now plot an ROC graph (FPR vs TPR). Print the AUC in your title.**"
   ]
  },
  {
   "cell_type": "code",
   "execution_count": 49,
   "id": "d594d71d",
   "metadata": {},
   "outputs": [
    {
     "data": {
      "text/plain": "Text(0.5, 1.0, 'The AUC is 0.9332298136645962')"
     },
     "execution_count": 49,
     "metadata": {},
     "output_type": "execute_result"
    },
    {
     "data": {
      "text/plain": "<Figure size 432x288 with 1 Axes>",
      "image/png": "[encoded data removed]"
     },
     "metadata": {},
     "output_type": "display_data"
    }
   ],
   "source": [
    "#your code here\n",
    "plt.plot(nb_fpr, nb_tpr)\n",
    "plt.title('The AUC is ' + str(auc))"
   ]
  },
  {
   "cell_type": "markdown",
   "id": "77230f4b",
   "metadata": {},
   "source": [
    "**You can do the same for any of your three models. Try doing this for KNN and LogisticRegression, then take their results and plot them in the same ROC plot to compare them.**"
   ]
  },
  {
   "cell_type": "code",
   "execution_count": 56,
   "id": "cae1019e",
   "metadata": {},
   "outputs": [],
   "source": [
    "#your code here\n",
    "# probabilities, AUC, ROC\n",
    "knn_probs = knn_hf.predict_proba(X_test)\n",
    "knn_auc = roc_auc_score(y_test, knn_probs[:,1])\n",
    "knn_fpr, knn_tpr, knn_thresholds = roc_curve(y_test, knn_probs[:,1])\n",
    "\n",
    "clf_probs = clf.predict_proba(X_test)\n",
    "clf_auc = roc_auc_score(y_test, clf_probs[:,1])\n",
    "clf_fpr, clf_tpr, clf_thresholds = roc_curve(y_test, clf_probs[:,1])"
   ]
  },
  {
   "cell_type": "code",
   "execution_count": 57,
   "id": "4dcb0f40",
   "metadata": {},
   "outputs": [
    {
     "data": {
      "text/plain": "<Figure size 432x288 with 1 Axes>",
      "image/png": "[encoded data removed]"
     },
     "metadata": {},
     "output_type": "display_data"
    }
   ],
   "source": [
    "#Combined\n",
    "#your code here\n",
    "plt\n",
    "plt.plot(nb_fpr, nb_tpr, color='Red')\n",
    "plt.plot(knn_fpr, knn_tpr, color='green')\n",
    "plt.plot(clf_fpr, clf_tpr, color='blue')\n",
    "plt.show()"
   ]
  },
  {
   "cell_type": "markdown",
   "id": "b31a3d9b",
   "metadata": {},
   "source": [
    "**Which one is your best model out of LR, NB and KNN?**"
   ]
  },
  {
   "cell_type": "markdown",
   "id": "c2c7281f",
   "metadata": {},
   "source": [
    "--> your answer here\n",
    "\n",
    "The Naive Bayes is the best model out of LR and KNN."
   ]
  }
 ],
 "metadata": {
  "kernelspec": {
   "display_name": "Python 3 (ipykernel)",
   "language": "python",
   "name": "python3"
  },
  "language_info": {
   "codemirror_mode": {
    "name": "ipython",
    "version": 3
   },
   "file_extension": ".py",
   "mimetype": "text/x-python",
   "name": "python",
   "nbconvert_exporter": "python",
   "pygments_lexer": "ipython3",
   "version": "3.8.11"
  }
 },
 "nbformat": 4,
 "nbformat_minor": 5
}