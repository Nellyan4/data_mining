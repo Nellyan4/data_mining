{
 "cells": [
  {
   "cell_type": "markdown",
   "id": "0ca57a1f",
   "metadata": {},
   "source": [
    "# Classification Exercise\n",
    "## 95-791 Data Mining (Fall 2021) \n",
    "#### Date: Tuesday, November 9th\n"
   ]
  },
  {
   "cell_type": "markdown",
   "id": "6ca37784",
   "metadata": {},
   "source": [
    "### Changing the author field and file name.\n",
    "\n",
    " (a) Change the `name:` field on the ipynb document from Your Name Here to your own name.\n",
    "\n",
    " (b) Rename this file to \"Classification_A2_YourHameHere.ipynb\", where YourNameHere is changed to your own name.\n",
    "\n",
    "\n",
    "### Installing and loading packages\n",
    "\n",
    "Before you begin this exercise make sure you have installed all the required libraries. Load the libraries as indicated below."
   ]
  },
  {
   "cell_type": "markdown",
   "id": "95624d66",
   "metadata": {},
   "source": [
    "You only need to install libraries once.  Once they're installed, you may use them by **importing** the libraries using the `import` command.  For today's lab, you'll want to run the following code\n"
   ]
  },
  {
   "cell_type": "code",
   "execution_count": 1,
   "id": "1e5f4897",
   "metadata": {},
   "outputs": [],
   "source": [
    "import numpy as np\n",
    "import pandas as pd\n",
    "import seaborn as sns\n",
    "from matplotlib import pyplot as plt\n",
    "import plotly.express as px\n",
    "from sklearn.metrics import confusion_matrix, classification_report\n",
    "from sklearn.model_selection import train_test_split\n",
    "from sklearn import metrics, preprocessing\n",
    "from sklearn.datasets import load_breast_cancer\n",
    "%matplotlib inline\n",
    "plt.style.use('seaborn-white')"
   ]
  },
  {
   "cell_type": "markdown",
   "id": "fe5467ea",
   "metadata": {},
   "source": [
    "The dataset - Heart failure clinical records Data Set- we will be working with comes from UCI's Machine Learning Repository. \n",
    "\n",
    "This dataset contains thirteen (13) clinical features:\n",
    "\n",
    "- age: age of the patient (years)\n",
    "- anaemia: decrease of red blood cells or hemoglobin (boolean)\n",
    "- high blood pressure: if the patient has hypertension (boolean)\n",
    "- creatinine phosphokinase (CPK): level of the CPK enzyme in the blood (mcg/L)\n",
    "- diabetes: if the patient has diabetes (boolean)\n",
    "- ejection fraction: percentage of blood leaving the heart at each contraction (percentage)\n",
    "- platelets: platelets in the blood (kiloplatelets/mL)\n",
    "- sex: woman or man\n",
    "- serum creatinine: level of serum creatinine in the blood (mg/dL)\n",
    "- serum sodium: level of serum sodium in the blood (mEq/L)\n",
    "- smoking: if the patient smokes or not (boolean)\n",
    "- time: follow-up period (days)\n",
    "\n",
    "Target\n",
    "- death event: if the patient deceased during the follow-up period (boolean)"
   ]
  },
  {
   "cell_type": "markdown",
   "id": "072e7171",
   "metadata": {},
   "source": [
    "**Read the dataset and print the first 5 rows**"
   ]
  },
  {
   "cell_type": "code",
   "execution_count": 2,
   "id": "1b04cf44",
   "metadata": {},
   "outputs": [
    {
     "name": "stdout",
     "output_type": "stream",
     "text": [
      "    age  anaemia  creatinine_phosphokinase  diabetes  ejection_fraction  \\\n",
      "0  75.0        0                       582         0                 20   \n",
      "1  55.0        0                      7861         0                 38   \n",
      "2  65.0        0                       146         0                 20   \n",
      "3  50.0        1                       111         0                 20   \n",
      "4  65.0        1                       160         1                 20   \n",
      "\n",
      "   high_blood_pressure  platelets  serum_creatinine  serum_sodium sex  \\\n",
      "0                    1  265000.00               1.9           130   F   \n",
      "1                    0  263358.03               1.1           136   F   \n",
      "2                    0  162000.00               1.3           129   F   \n",
      "3                    0  210000.00               1.9           137   F   \n",
      "4                    0  327000.00               2.7           116   M   \n",
      "\n",
      "   smoking  time  DEATH_EVENT  \n",
      "0        0     4            1  \n",
      "1        0     6            1  \n",
      "2        1     7            1  \n",
      "3        0     7            1  \n",
      "4        0     8            1  \n"
     ]
    }
   ],
   "source": [
    "#your code here\n",
    "df = pd.read_csv('./heart_failure_clinical_records_dataset.csv')\n",
    "print(df.head(5))"
   ]
  },
  {
   "cell_type": "markdown",
   "id": "fd871722",
   "metadata": {},
   "source": [
    "**Check if there are any missing values**"
   ]
  },
  {
   "cell_type": "code",
   "execution_count": 20,
   "id": "4154a3a8",
   "metadata": {},
   "outputs": [
    {
     "data": {
      "text/plain": "      age  anaemia  creatinine_phosphokinase  diabetes  ejection_fraction  \\\n0    75.0        0                       582         0                 20   \n1    55.0        0                      7861         0                 38   \n2    65.0        0                       146         0                 20   \n3    50.0        1                       111         0                 20   \n4    65.0        1                       160         1                 20   \n..    ...      ...                       ...       ...                ...   \n294  62.0        0                        61         1                 38   \n295  55.0        0                      1820         0                 38   \n296  45.0        0                      2060         1                 60   \n297  45.0        0                      2413         0                 38   \n298  50.0        0                       196         0                 45   \n\n     high_blood_pressure  platelets  serum_creatinine  serum_sodium sex  \\\n0                      1  265000.00               1.9           130   F   \n1                      0  263358.03               1.1           136   F   \n2                      0  162000.00               1.3           129   F   \n3                      0  210000.00               1.9           137   F   \n4                      0  327000.00               2.7           116   M   \n..                   ...        ...               ...           ...  ..   \n294                    1  155000.00               1.1           143   F   \n295                    0  270000.00               1.2           139   M   \n296                    0  742000.00               0.8           138   M   \n297                    0  140000.00               1.4           140   F   \n298                    0  395000.00               1.6           136   F   \n\n     smoking  time  DEATH_EVENT  \n0          0     4            1  \n1          0     6            1  \n2          1     7            1  \n3          0     7            1  \n4          0     8            1  \n..       ...   ...          ...  \n294        1   270            0  \n295        0   271            0  \n296        0   278            0  \n297        1   280            0  \n298        1   285            0  \n\n[299 rows x 13 columns]",
      "text/html": "<div>\n<style scoped>\n    .dataframe tbody tr th:only-of-type {\n        vertical-align: middle;\n    }\n\n    .dataframe tbody tr th {\n        vertical-align: top;\n    }\n\n    .dataframe thead th {\n        text-align: right;\n    }\n</style>\n<table border=\"1\" class=\"dataframe\">\n  <thead>\n    <tr style=\"text-align: right;\">\n      <th></th>\n      <th>age</th>\n      <th>anaemia</th>\n      <th>creatinine_phosphokinase</th>\n      <th>diabetes</th>\n      <th>ejection_fraction</th>\n      <th>high_blood_pressure</th>\n      <th>platelets</th>\n      <th>serum_creatinine</th>\n      <th>serum_sodium</th>\n      <th>sex</th>\n      <th>smoking</th>\n      <th>time</th>\n      <th>DEATH_EVENT</th>\n    </tr>\n  </thead>\n  <tbody>\n    <tr>\n      <th>0</th>\n      <td>75.0</td>\n      <td>0</td>\n      <td>582</td>\n      <td>0</td>\n      <td>20</td>\n      <td>1</td>\n      <td>265000.00</td>\n      <td>1.9</td>\n      <td>130</td>\n      <td>F</td>\n      <td>0</td>\n      <td>4</td>\n      <td>1</td>\n    </tr>\n    <tr>\n      <th>1</th>\n      <td>55.0</td>\n      <td>0</td>\n      <td>7861</td>\n      <td>0</td>\n      <td>38</td>\n      <td>0</td>\n      <td>263358.03</td>\n      <td>1.1</td>\n      <td>136</td>\n      <td>F</td>\n      <td>0</td>\n      <td>6</td>\n      <td>1</td>\n    </tr>\n    <tr>\n      <th>2</th>\n      <td>65.0</td>\n      <td>0</td>\n      <td>146</td>\n      <td>0</td>\n      <td>20</td>\n      <td>0</td>\n      <td>162000.00</td>\n      <td>1.3</td>\n      <td>129</td>\n      <td>F</td>\n      <td>1</td>\n      <td>7</td>\n      <td>1</td>\n    </tr>\n    <tr>\n      <th>3</th>\n      <td>50.0</td>\n      <td>1</td>\n      <td>111</td>\n      <td>0</td>\n      <td>20</td>\n      <td>0</td>\n      <td>210000.00</td>\n      <td>1.9</td>\n      <td>137</td>\n      <td>F</td>\n      <td>0</td>\n      <td>7</td>\n      <td>1</td>\n    </tr>\n    <tr>\n      <th>4</th>\n      <td>65.0</td>\n      <td>1</td>\n      <td>160</td>\n      <td>1</td>\n      <td>20</td>\n      <td>0</td>\n      <td>327000.00</td>\n      <td>2.7</td>\n      <td>116</td>\n      <td>M</td>\n      <td>0</td>\n      <td>8</td>\n      <td>1</td>\n    </tr>\n    <tr>\n      <th>...</th>\n      <td>...</td>\n      <td>...</td>\n      <td>...</td>\n      <td>...</td>\n      <td>...</td>\n      <td>...</td>\n      <td>...</td>\n      <td>...</td>\n      <td>...</td>\n      <td>...</td>\n      <td>...</td>\n      <td>...</td>\n      <td>...</td>\n    </tr>\n    <tr>\n      <th>294</th>\n      <td>62.0</td>\n      <td>0</td>\n      <td>61</td>\n      <td>1</td>\n      <td>38</td>\n      <td>1</td>\n      <td>155000.00</td>\n      <td>1.1</td>\n      <td>143</td>\n      <td>F</td>\n      <td>1</td>\n      <td>270</td>\n      <td>0</td>\n    </tr>\n    <tr>\n      <th>295</th>\n      <td>55.0</td>\n      <td>0</td>\n      <td>1820</td>\n      <td>0</td>\n      <td>38</td>\n      <td>0</td>\n      <td>270000.00</td>\n      <td>1.2</td>\n      <td>139</td>\n      <td>M</td>\n      <td>0</td>\n      <td>271</td>\n      <td>0</td>\n    </tr>\n    <tr>\n      <th>296</th>\n      <td>45.0</td>\n      <td>0</td>\n      <td>2060</td>\n      <td>1</td>\n      <td>60</td>\n      <td>0</td>\n      <td>742000.00</td>\n      <td>0.8</td>\n      <td>138</td>\n      <td>M</td>\n      <td>0</td>\n      <td>278</td>\n      <td>0</td>\n    </tr>\n    <tr>\n      <th>297</th>\n      <td>45.0</td>\n      <td>0</td>\n      <td>2413</td>\n      <td>0</td>\n      <td>38</td>\n      <td>0</td>\n      <td>140000.00</td>\n      <td>1.4</td>\n      <td>140</td>\n      <td>F</td>\n      <td>1</td>\n      <td>280</td>\n      <td>0</td>\n    </tr>\n    <tr>\n      <th>298</th>\n      <td>50.0</td>\n      <td>0</td>\n      <td>196</td>\n      <td>0</td>\n      <td>45</td>\n      <td>0</td>\n      <td>395000.00</td>\n      <td>1.6</td>\n      <td>136</td>\n      <td>F</td>\n      <td>1</td>\n      <td>285</td>\n      <td>0</td>\n    </tr>\n  </tbody>\n</table>\n<p>299 rows × 13 columns</p>\n</div>"
     },
     "execution_count": 20,
     "metadata": {},
     "output_type": "execute_result"
    }
   ],
   "source": [
    "#your code here\n",
    "df.dropna()"
   ]
  },
  {
   "cell_type": "markdown",
   "id": "58eaa0e1",
   "metadata": {},
   "source": [
    "**Before you go into modeling your data, you will need to turn `sex` into a numerical/binary columns.**\n",
    "\n",
    "**Hint: the easiest way would be to create [dummy variables](https://pandas.pydata.org/docs/reference/api/pandas.get_dummies.html)."
   ]
  },
  {
   "cell_type": "code",
   "execution_count": 21,
   "id": "0a67b5ad",
   "metadata": {},
   "outputs": [
    {
     "name": "stdout",
     "output_type": "stream",
     "text": [
      "    age  anaemia  creatinine_phosphokinase  diabetes  ejection_fraction  \\\n",
      "0  75.0        0                       582         0                 20   \n",
      "1  55.0        0                      7861         0                 38   \n",
      "2  65.0        0                       146         0                 20   \n",
      "3  50.0        1                       111         0                 20   \n",
      "4  65.0        1                       160         1                 20   \n",
      "\n",
      "   high_blood_pressure  platelets  serum_creatinine  serum_sodium  smoking  \\\n",
      "0                    1  265000.00               1.9           130        0   \n",
      "1                    0  263358.03               1.1           136        0   \n",
      "2                    0  162000.00               1.3           129        1   \n",
      "3                    0  210000.00               1.9           137        0   \n",
      "4                    0  327000.00               2.7           116        0   \n",
      "\n",
      "   time  DEATH_EVENT  sex_F  sex_M  \n",
      "0     4            1      1      0  \n",
      "1     6            1      1      0  \n",
      "2     7            1      1      0  \n",
      "3     7            1      1      0  \n",
      "4     8            1      0      1  \n"
     ]
    }
   ],
   "source": [
    "#your code here\n",
    "df = pd.get_dummies(df, columns=['sex'])\n",
    "print(df.head(5))"
   ]
  },
  {
   "cell_type": "markdown",
   "id": "ec4a8096",
   "metadata": {},
   "source": [
    "**We now need to divide our dataset into `X` and `y`.**"
   ]
  },
  {
   "cell_type": "code",
   "execution_count": 22,
   "id": "00cef082",
   "metadata": {},
   "outputs": [],
   "source": [
    "#your code here\n",
    "X = df.drop(['DEATH_EVENT'], axis=1)\n",
    "X = X.drop(['sex_F'], axis = 1)\n",
    "y = df['DEATH_EVENT']"
   ]
  },
  {
   "cell_type": "markdown",
   "id": "21c64bdd",
   "metadata": {},
   "source": [
    "**As any other classification or regression problem we are going to split our dataset into train and test datasets. Use a 20-80 ratio**"
   ]
  },
  {
   "cell_type": "code",
   "execution_count": 23,
   "id": "98d46ef5",
   "metadata": {},
   "outputs": [],
   "source": [
    "#your code here\n",
    "X_train, X_test, y_train, y_test = train_test_split(X, y, test_size=0.2, random_state=1)"
   ]
  },
  {
   "cell_type": "markdown",
   "id": "665dae2e",
   "metadata": {},
   "source": [
    "---\n",
    "\n",
    "### KNN\n",
    "\n",
    "We are going to try a kNN (k-Nearest Naighbours) as our first classifier You can read more about it [here](https://scikit-learn.org/stable/modules/neighbors.html) or in last lecture slides. These will be explained in detail during Monday's class. We can use KNN for classification, as well as regression and unsupervised learning. Take a look at the documentation for the KNN Classifier in [scikitlearn](https://scikit-learn.org/stable/modules/generated/sklearn.neighbors.KNeighborsClassifier.html#sklearn.neighbors.KNeighborsClassifier).\n",
    "\n",
    "There are default parameter for the KNNClassifier:\n",
    "- k=5 (Number of neighbors to use by default for kneighbors queries)\n",
    "- weights = ’uniform’ (All points in each neighborhood are weighted equally)\n",
    "- metric = ’minkowski’ (metric used to calculate [distances](https://scikit-learn.org/stable/modules/generated/sklearn.neighbors.DistanceMetric.html#sklearn.neighbors.DistanceMetric)) \n",
    "    - \tsum(|x - y|^p)^(1/p)  --> if p=2, then this is equivalent to the Euclidean distance. By default p=2\n"
   ]
  },
  {
   "cell_type": "code",
   "execution_count": 24,
   "id": "15902af5",
   "metadata": {},
   "outputs": [],
   "source": [
    "from sklearn.neighbors import KNeighborsClassifier\n",
    "from sklearn.metrics import confusion_matrix, ConfusionMatrixDisplay, classification_report"
   ]
  },
  {
   "cell_type": "markdown",
   "id": "d48828c7",
   "metadata": {},
   "source": [
    "**We first fit our KNN Classifier with our training data, and we will start by using the default number of neighbours.**"
   ]
  },
  {
   "cell_type": "code",
   "execution_count": 25,
   "id": "5dc08b42",
   "metadata": {},
   "outputs": [],
   "source": [
    "#your code here\n",
    "knn = KNeighborsClassifier()"
   ]
  },
  {
   "cell_type": "markdown",
   "id": "4b2f52a8",
   "metadata": {},
   "source": [
    "**We test our classifier with X_test, get their predictions. Use your test dataset to predict with your KNN classifier**"
   ]
  },
  {
   "cell_type": "code",
   "execution_count": 26,
   "id": "8ac3a2e7",
   "metadata": {},
   "outputs": [
    {
     "data": {
      "text/plain": "KNeighborsClassifier()"
     },
     "execution_count": 26,
     "metadata": {},
     "output_type": "execute_result"
    }
   ],
   "source": [
    "#your code here\n",
    "knn.fit(X_train,y_train)"
   ]
  },
  {
   "cell_type": "markdown",
   "id": "a9ec79ef",
   "metadata": {},
   "source": [
    "**Now we need to know how good was that classification!**\n",
    "\n",
    "$$Accuracy = \\frac{TP + TN}{n}$$\n",
    "\n",
    "Use your metrics.accuracy_score to obtain an accuracy score on your previous predictions"
   ]
  },
  {
   "cell_type": "code",
   "execution_count": 31,
   "id": "23723b17",
   "metadata": {},
   "outputs": [
    {
     "data": {
      "text/plain": "0.6333333333333333"
     },
     "execution_count": 31,
     "metadata": {},
     "output_type": "execute_result"
    }
   ],
   "source": [
    "#your code here\n",
    "y_pred = knn.predict(X_test)\n",
    "metrics.accuracy_score(y_test, y_pred)"
   ]
  },
  {
   "cell_type": "markdown",
   "id": "912aadcf",
   "metadata": {},
   "source": [
    "We can also calculate the confusion matrix for the classification we just performed.\n",
    "\n",
    "\n",
    "| Predicted\\Observed     | Event | Non-event   |\n",
    "| :---        |    :----:   |          ---: |\n",
    "| Event    | TP      | FP  |\n",
    "| Non-event   | FN       | TN    |\n",
    "\n",
    "**Calculate the [confusion matrix](https://scikit-learn.org/stable/modules/generated/sklearn.metrics.confusion_matrix.html) and [classification report](https://scikit-learn.org/stable/modules/generated/sklearn.metrics.classification_report.html) based on your y_test and your predictions. Print out your results.**"
   ]
  },
  {
   "cell_type": "code",
   "execution_count": 45,
   "id": "1ae8466a",
   "metadata": {},
   "outputs": [
    {
     "name": "stdout",
     "output_type": "stream",
     "text": [
      "[[45  1]\n",
      " [ 3 11]]\n"
     ]
    }
   ],
   "source": [
    "#your code here\n",
    "c_matrix = confusion_matrix(y_test, y_pred)\n",
    "print(c_matrix)"
   ]
  },
  {
   "cell_type": "code",
   "execution_count": 34,
   "outputs": [
    {
     "name": "stdout",
     "output_type": "stream",
     "text": [
      "              precision    recall  f1-score   support\n",
      "\n",
      "           0       0.74      0.80      0.77        46\n",
      "           1       0.10      0.07      0.08        14\n",
      "\n",
      "    accuracy                           0.63        60\n",
      "   macro avg       0.42      0.44      0.43        60\n",
      "weighted avg       0.59      0.63      0.61        60\n",
      "\n"
     ]
    }
   ],
   "source": [
    "print(classification_report(y_test, y_pred))"
   ],
   "metadata": {
    "collapsed": false,
    "pycharm": {
     "name": "#%%\n"
    }
   }
  },
  {
   "cell_type": "markdown",
   "id": "9114dde7",
   "metadata": {},
   "source": [
    "**Are both your classes classified the same? Is there one harder to classify?**"
   ]
  },
  {
   "cell_type": "markdown",
   "id": "085442db",
   "metadata": {},
   "source": [
    "--> your answer here\n",
    "I dont know how to answer this question"
   ]
  },
  {
   "cell_type": "markdown",
   "id": "c4e8e399",
   "metadata": {},
   "source": [
    "During last week's lectures we talked about the metrics you see in the classification report. Their definition are below.\n",
    "\n",
    "$$Recall = \\frac{TP}{TP + FN}$$\n",
    "\n",
    "$$Precision = \\frac{TP}{TP + FP} $$\n",
    "\n",
    "$$F_1 = 2•\\frac{precision•recall}{precision+recall} $$ Read more abiut the f1-score [here](https://scikit-learn.org/stable/modules/generated/sklearn.metrics.f1_score.html)"
   ]
  },
  {
   "cell_type": "markdown",
   "id": "57721939",
   "metadata": {},
   "source": [
    "**Use the [ConfusionMatrixDisplay](https://scikit-learn.org/stable/modules/generated/sklearn.metrics.ConfusionMatrixDisplay.html) to plot your confusion matrix and appropriate labels. After calculated it do a `.plot()` on it**"
   ]
  },
  {
   "cell_type": "code",
   "execution_count": 38,
   "id": "6eb50015",
   "metadata": {},
   "outputs": [
    {
     "data": {
      "text/plain": "<Figure size 432x288 with 2 Axes>",
      "image/png": "[encoded data removed]"
     },
     "metadata": {},
     "output_type": "display_data"
    }
   ],
   "source": [
    "#your code here\n",
    "disp = ConfusionMatrixDisplay(confusion_matrix=c_matrix, display_labels=knn.classes_)\n",
    "disp.plot()\n",
    "plt.show()"
   ]
  },
  {
   "cell_type": "markdown",
   "id": "8a3969a9",
   "metadata": {},
   "source": [
    "**How does this plot help us?**"
   ]
  },
  {
   "cell_type": "markdown",
   "id": "02a619e1",
   "metadata": {},
   "source": [
    "--> your answer here\n",
    "I don' know how to interpret this"
   ]
  },
  {
   "cell_type": "markdown",
   "id": "28da0905",
   "metadata": {},
   "source": [
    "**As a final task use the [accuracy_score](https://scikit-learn.org/stable/modules/generated/sklearn.metrics.accuracy_score.html) and [precision_score](https://scikit-learn.org/stable/modules/generated/sklearn.metrics.precision_score.html) to print out each of these metrics seperately**"
   ]
  },
  {
   "cell_type": "code",
   "execution_count": 39,
   "id": "9eff31f5",
   "metadata": {},
   "outputs": [
    {
     "data": {
      "text/plain": "0.6333333333333333"
     },
     "execution_count": 39,
     "metadata": {},
     "output_type": "execute_result"
    }
   ],
   "source": [
    "#your code here\n",
    "metrics.accuracy_score(y_test, y_pred)"
   ]
  },
  {
   "cell_type": "code",
   "execution_count": 41,
   "outputs": [
    {
     "data": {
      "text/plain": "array([0.74, 0.1 ])"
     },
     "execution_count": 41,
     "metadata": {},
     "output_type": "execute_result"
    }
   ],
   "source": [
    "metrics.precision_score(y_test, y_pred, average=None)"
   ],
   "metadata": {
    "collapsed": false,
    "pycharm": {
     "name": "#%%\n"
    }
   }
  },
  {
   "cell_type": "markdown",
   "id": "32a169e1",
   "metadata": {},
   "source": [
    "---\n",
    "\n",
    "### Naive Bayes\n",
    "\n",
    "Let's try a different classifier with the same dataset. This time we'll try a [Naive Bayes classifier](https://scikit-learn.org/stable/modules/naive_bayes.html)"
   ]
  },
  {
   "cell_type": "code",
   "execution_count": 42,
   "id": "68a59fdb",
   "metadata": {},
   "outputs": [],
   "source": [
    "from sklearn.naive_bayes import GaussianNB"
   ]
  },
  {
   "cell_type": "markdown",
   "id": "0b747012",
   "metadata": {},
   "source": [
    "**We need to fit a Naive Bayes classifier to our data. We will use X_test to make predictions with our classifier and print out its confusion matrix**\n",
    "\n",
    "As you might have already figured out, most scikit-learn models are classes, therefore we need:\n",
    "- Create an object if that class\n",
    "- Fit our train data to that object (to create a model)\n",
    "- Use our model to predict on our test data\n",
    "\n",
    "After these three steos you can use your predictions to create a confusion matrix and a classification report."
   ]
  },
  {
   "cell_type": "code",
   "execution_count": 43,
   "id": "4847ef2e",
   "metadata": {},
   "outputs": [
    {
     "data": {
      "text/plain": "0.9333333333333333"
     },
     "execution_count": 43,
     "metadata": {},
     "output_type": "execute_result"
    }
   ],
   "source": [
    "#your code here\n",
    "gnb = GaussianNB()\n",
    "y_pred = gnb.fit(X_train, y_train).predict(X_test)\n",
    "metrics.accuracy_score(y_test, y_pred)"
   ]
  },
  {
   "cell_type": "markdown",
   "id": "3d32bdec",
   "metadata": {},
   "source": [
    "**How well did this model do compared to KNN?**"
   ]
  },
  {
   "cell_type": "markdown",
   "id": "e6861e3a",
   "metadata": {},
   "source": [
    "--> your answer here\n",
    "Better"
   ]
  },
  {
   "cell_type": "markdown",
   "id": "dea3b66c",
   "metadata": {},
   "source": [
    "**Use the ConfusionMatrixDisplay on your confusion matrix**"
   ]
  },
  {
   "cell_type": "code",
   "execution_count": 46,
   "id": "f4743c22",
   "metadata": {},
   "outputs": [
    {
     "data": {
      "text/plain": "<Figure size 432x288 with 2 Axes>",
      "image/png": "[encoded data removed]"
     },
     "metadata": {},
     "output_type": "display_data"
    }
   ],
   "source": [
    "#your code here\n",
    "c_matrix1 = confusion_matrix(y_test, y_pred)\n",
    "disp1 = ConfusionMatrixDisplay(confusion_matrix=c_matrix1, display_labels=gnb.classes_)\n",
    "disp1.plot()\n",
    "plt.show()"
   ]
  },
  {
   "cell_type": "markdown",
   "id": "e80137f7",
   "metadata": {},
   "source": [
    "---\n",
    "\n",
    "## STOP HERE\n",
    "\n",
    "We need to go over Logistic Regression before we get to the next part."
   ]
  },
  {
   "cell_type": "markdown",
   "id": "3004f90b",
   "metadata": {},
   "source": [
    "\n",
    "---\n",
    "\n",
    "### Logistic Regression\n",
    "\n",
    "**Let's try a third classifier with the same dataset. This time we'll try a [LogisticRegression](https://scikit-learn.org/stable/modules/generated/sklearn.linear_model.LogisticRegression.html)**"
   ]
  },
  {
   "cell_type": "code",
   "execution_count": 17,
   "id": "b50e6792",
   "metadata": {},
   "outputs": [],
   "source": [
    "from sklearn.linear_model import LogisticRegression"
   ]
  },
  {
   "cell_type": "markdown",
   "id": "21f22892",
   "metadata": {},
   "source": [
    "**We need to fit a LogisticRegression to our data. We will use X_test to make predictions with our classifier and print out its confusion matrix**\n",
    "\n",
    "As you might have already figured out, most scikit-learn models are classes, therefore we need:\n",
    "- Create an object if that class\n",
    "- Fit our train data to that object (to create a model)\n",
    "- Use our model to predict on our test data\n",
    "\n",
    "After these three steos you can use your predictions to create a confusion matrix and a classification report.\n",
    "\n",
    "*Warning: you might get a \"TOTAL NO. of ITERATIONS REACHED LIMIT.\" error when running this model. If this happens consider increasing the `max_iter` for the `LogisticRegression`.*"
   ]
  },
  {
   "cell_type": "code",
   "execution_count": 18,
   "id": "424442c6",
   "metadata": {},
   "outputs": [],
   "source": [
    "#your code here"
   ]
  },
  {
   "cell_type": "markdown",
   "id": "dfd7b311",
   "metadata": {},
   "source": [
    "**Use the ConfusionMatrixDisplay on your confusion matrix**"
   ]
  },
  {
   "cell_type": "code",
   "execution_count": 19,
   "id": "4ffae3fd",
   "metadata": {},
   "outputs": [],
   "source": [
    "#your code here"
   ]
  },
  {
   "cell_type": "markdown",
   "id": "edbbec30",
   "metadata": {},
   "source": [
    "**How well did this model do compared to Naive Bayes?**"
   ]
  },
  {
   "cell_type": "markdown",
   "id": "079c5896",
   "metadata": {},
   "source": [
    "--> your answer here"
   ]
  },
  {
   "cell_type": "markdown",
   "id": "2bb27111",
   "metadata": {},
   "source": [
    "**Overall which model (KNN, NB and LR) did better with this dataset?**"
   ]
  },
  {
   "cell_type": "markdown",
   "id": "b8108b36",
   "metadata": {},
   "source": [
    "--> your answer here"
   ]
  }
 ],
 "metadata": {
  "kernelspec": {
   "display_name": "Python 3",
   "language": "python",
   "name": "python3"
  },
  "language_info": {
   "codemirror_mode": {
    "name": "ipython",
    "version": 3
   },
   "file_extension": ".py",
   "mimetype": "text/x-python",
   "name": "python",
   "nbconvert_exporter": "python",
   "pygments_lexer": "ipython3",
   "version": "3.8.8"
  }
 },
 "nbformat": 4,
 "nbformat_minor": 5
}