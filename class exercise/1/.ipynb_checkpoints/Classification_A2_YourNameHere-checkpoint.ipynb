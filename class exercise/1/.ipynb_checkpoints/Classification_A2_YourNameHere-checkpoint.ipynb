{
 "cells": [
  {
   "cell_type": "markdown",
   "id": "0ca57a1f",
   "metadata": {},
   "source": [
    "# Classification Exercise\n",
    "## 95-791 Data Mining (Fall 2021) \n",
    "#### Date: Tuesday, November 9th\n"
   ]
  },
  {
   "cell_type": "markdown",
   "id": "6ca37784",
   "metadata": {},
   "source": [
    "### Changing the author field and file name.\n",
    "\n",
    " (a) Change the `name:` field on the ipynb document from Your Name Here to your own name.\n",
    "\n",
    " (b) Rename this file to \"Classification_A2_YourHameHere.ipynb\", where YourNameHere is changed to your own name.\n",
    "\n",
    "\n",
    "### Installing and loading packages\n",
    "\n",
    "Before you begin this exercise make sure you have installed all the required libraries. Load the libraries as indicated below."
   ]
  },
  {
   "cell_type": "markdown",
   "id": "95624d66",
   "metadata": {},
   "source": [
    "You only need to install libraries once.  Once they're installed, you may use them by **importing** the libraries using the `import` command.  For today's lab, you'll want to run the following code\n"
   ]
  },
  {
   "cell_type": "code",
   "execution_count": 1,
   "id": "1e5f4897",
   "metadata": {},
   "outputs": [],
   "source": [
    "import numpy as np\n",
    "import pandas as pd\n",
    "import seaborn as sns\n",
    "from matplotlib import pyplot as plt\n",
    "import plotly.express as px\n",
    "from sklearn.metrics import confusion_matrix, classification_report\n",
    "from sklearn.model_selection import train_test_split\n",
    "from sklearn import metrics, preprocessing\n",
    "from sklearn.datasets import load_breast_cancer\n",
    "%matplotlib inline\n",
    "plt.style.use('seaborn-white')"
   ]
  },
  {
   "cell_type": "markdown",
   "id": "fe5467ea",
   "metadata": {},
   "source": [
    "The dataset - Heart failure clinical records Data Set- we will be working with comes from UCI's Machine Learning Repository. \n",
    "\n",
    "This dataset contains thirteen (13) clinical features:\n",
    "\n",
    "- age: age of the patient (years)\n",
    "- anaemia: decrease of red blood cells or hemoglobin (boolean)\n",
    "- high blood pressure: if the patient has hypertension (boolean)\n",
    "- creatinine phosphokinase (CPK): level of the CPK enzyme in the blood (mcg/L)\n",
    "- diabetes: if the patient has diabetes (boolean)\n",
    "- ejection fraction: percentage of blood leaving the heart at each contraction (percentage)\n",
    "- platelets: platelets in the blood (kiloplatelets/mL)\n",
    "- sex: woman or man\n",
    "- serum creatinine: level of serum creatinine in the blood (mg/dL)\n",
    "- serum sodium: level of serum sodium in the blood (mEq/L)\n",
    "- smoking: if the patient smokes or not (boolean)\n",
    "- time: follow-up period (days)\n",
    "\n",
    "Target\n",
    "- death event: if the patient deceased during the follow-up period (boolean)"
   ]
  },
  {
   "cell_type": "markdown",
   "id": "072e7171",
   "metadata": {},
   "source": [
    "**Read the dataset and print the first 5 rows**"
   ]
  },
  {
   "cell_type": "code",
   "execution_count": 2,
   "id": "1b04cf44",
   "metadata": {},
   "outputs": [],
   "source": [
    "#your code here\n",
    "df = pd.read_csv('')"
   ]
  },
  {
   "cell_type": "markdown",
   "id": "fd871722",
   "metadata": {},
   "source": [
    "**Check if there are any missing values**"
   ]
  },
  {
   "cell_type": "code",
   "execution_count": 3,
   "id": "4154a3a8",
   "metadata": {},
   "outputs": [],
   "source": [
    "#your code here"
   ]
  },
  {
   "cell_type": "markdown",
   "id": "58eaa0e1",
   "metadata": {},
   "source": [
    "**Before you go into modeling your data, you will need to turn `sex` into a numerical/binary columns.**\n",
    "\n",
    "**Hint: the easiest way would be to create [dummy variables](https://pandas.pydata.org/docs/reference/api/pandas.get_dummies.html)."
   ]
  },
  {
   "cell_type": "code",
   "execution_count": 4,
   "id": "0a67b5ad",
   "metadata": {},
   "outputs": [],
   "source": [
    "#your code here"
   ]
  },
  {
   "cell_type": "markdown",
   "id": "ec4a8096",
   "metadata": {},
   "source": [
    "**We now need to divide our dataset into `X` and `y`.**"
   ]
  },
  {
   "cell_type": "code",
   "execution_count": 5,
   "id": "00cef082",
   "metadata": {},
   "outputs": [],
   "source": [
    "#your code here"
   ]
  },
  {
   "cell_type": "markdown",
   "id": "21c64bdd",
   "metadata": {},
   "source": [
    "**As any other classification or regression problem we are going to split our dataset into train and test datasets. Use a 20-80 ratio**"
   ]
  },
  {
   "cell_type": "code",
   "execution_count": 6,
   "id": "98d46ef5",
   "metadata": {},
   "outputs": [],
   "source": [
    "#your code here"
   ]
  },
  {
   "cell_type": "markdown",
   "id": "665dae2e",
   "metadata": {},
   "source": [
    "---\n",
    "\n",
    "### KNN\n",
    "\n",
    "We are going to try a kNN (k-Nearest Naighbours) as our first classifier You can read more about it [here](https://scikit-learn.org/stable/modules/neighbors.html) or in last lecture slides. These will be explained in detail during Monday's class. We can use KNN for classification, as well as regression and unsupervised learning. Take a look at the documentation for the KNN Classifier in [scikitlearn](https://scikit-learn.org/stable/modules/generated/sklearn.neighbors.KNeighborsClassifier.html#sklearn.neighbors.KNeighborsClassifier).\n",
    "\n",
    "There are default parameter for the KNNClassifier:\n",
    "- k=5 (Number of neighbors to use by default for kneighbors queries)\n",
    "- weights = ’uniform’ (All points in each neighborhood are weighted equally)\n",
    "- metric = ’minkowski’ (metric used to calculate [distances](https://scikit-learn.org/stable/modules/generated/sklearn.neighbors.DistanceMetric.html#sklearn.neighbors.DistanceMetric)) \n",
    "    - \tsum(|x - y|^p)^(1/p)  --> if p=2, then this is equivalent to the Euclidean distance. By default p=2\n"
   ]
  },
  {
   "cell_type": "code",
   "execution_count": 7,
   "id": "15902af5",
   "metadata": {},
   "outputs": [],
   "source": [
    "from sklearn.neighbors import KNeighborsClassifier\n",
    "from sklearn.metrics import confusion_matrix, ConfusionMatrixDisplay, classification_report"
   ]
  },
  {
   "cell_type": "markdown",
   "id": "d48828c7",
   "metadata": {},
   "source": [
    "**We first fit our KNN Classifier with our training data, and we will start by using the default number of neighbours.**"
   ]
  },
  {
   "cell_type": "code",
   "execution_count": 8,
   "id": "5dc08b42",
   "metadata": {},
   "outputs": [],
   "source": [
    "#your code here"
   ]
  },
  {
   "cell_type": "markdown",
   "id": "4b2f52a8",
   "metadata": {},
   "source": [
    "**We test our classifier with X_test, get their predictions. Use your test dataset to predict with your KNN classifier**"
   ]
  },
  {
   "cell_type": "code",
   "execution_count": 9,
   "id": "8ac3a2e7",
   "metadata": {},
   "outputs": [],
   "source": [
    "#your code here"
   ]
  },
  {
   "cell_type": "markdown",
   "id": "a9ec79ef",
   "metadata": {},
   "source": [
    "**Now we need to know how good was that classification!**\n",
    "\n",
    "$$Accuracy = \\frac{TP + TN}{n}$$\n",
    "\n",
    "Use your metrics.accuracy_score to obtain an accuracy score on your previous predictions"
   ]
  },
  {
   "cell_type": "code",
   "execution_count": 10,
   "id": "23723b17",
   "metadata": {},
   "outputs": [],
   "source": [
    "#your code here"
   ]
  },
  {
   "cell_type": "markdown",
   "id": "912aadcf",
   "metadata": {},
   "source": [
    "We can also calculate the confusion matrix for the classification we just performed.\n",
    "\n",
    "\n",
    "| Predicted\\Observed     | Event | Non-event   |\n",
    "| :---        |    :----:   |          ---: |\n",
    "| Event    | TP      | FP  |\n",
    "| Non-event   | FN       | TN    |\n",
    "\n",
    "**Calculate the [confusion matrix](https://scikit-learn.org/stable/modules/generated/sklearn.metrics.confusion_matrix.html) and [classification report](https://scikit-learn.org/stable/modules/generated/sklearn.metrics.classification_report.html) based on your y_test and your predictions. Print out your results.**"
   ]
  },
  {
   "cell_type": "code",
   "execution_count": 11,
   "id": "1ae8466a",
   "metadata": {},
   "outputs": [],
   "source": [
    "#your code here"
   ]
  },
  {
   "cell_type": "markdown",
   "id": "9114dde7",
   "metadata": {},
   "source": [
    "**Are both your classes classified the same? Is there one harder to classify?**"
   ]
  },
  {
   "cell_type": "markdown",
   "id": "085442db",
   "metadata": {},
   "source": [
    "--> your answer here"
   ]
  },
  {
   "cell_type": "markdown",
   "id": "c4e8e399",
   "metadata": {},
   "source": [
    "During last week's lectures we talked about the metrics you see in the classification report. Their definition are below.\n",
    "\n",
    "$$Recall = \\frac{TP}{TP + FN}$$\n",
    "\n",
    "$$Precision = \\frac{TP}{TP + FP} $$\n",
    "\n",
    "$$F_1 = 2•\\frac{precision•recall}{precision+recall} $$ Read more abiut the f1-score [here](https://scikit-learn.org/stable/modules/generated/sklearn.metrics.f1_score.html)"
   ]
  },
  {
   "cell_type": "markdown",
   "id": "57721939",
   "metadata": {},
   "source": [
    "**Use the [ConfusionMatrixDisplay](https://scikit-learn.org/stable/modules/generated/sklearn.metrics.ConfusionMatrixDisplay.html) to plot your confusion matrix and appropriate labels. After calculated it do a `.plot()` on it**"
   ]
  },
  {
   "cell_type": "code",
   "execution_count": 12,
   "id": "6eb50015",
   "metadata": {},
   "outputs": [],
   "source": [
    "#your code here"
   ]
  },
  {
   "cell_type": "markdown",
   "id": "8a3969a9",
   "metadata": {},
   "source": [
    "**How does this plot help us?**"
   ]
  },
  {
   "cell_type": "markdown",
   "id": "02a619e1",
   "metadata": {},
   "source": [
    "--> your answer here"
   ]
  },
  {
   "cell_type": "markdown",
   "id": "28da0905",
   "metadata": {},
   "source": [
    "**As a final task use the [accuracy_score](https://scikit-learn.org/stable/modules/generated/sklearn.metrics.accuracy_score.html) and [precision_score](https://scikit-learn.org/stable/modules/generated/sklearn.metrics.precision_score.html) to print out each of these metrics seperately**"
   ]
  },
  {
   "cell_type": "code",
   "execution_count": 13,
   "id": "9eff31f5",
   "metadata": {},
   "outputs": [],
   "source": [
    "#your code here"
   ]
  },
  {
   "cell_type": "markdown",
   "id": "32a169e1",
   "metadata": {},
   "source": [
    "---\n",
    "\n",
    "### Naive Bayes\n",
    "\n",
    "Let's try a different classifier with the same dataset. This time we'll try a [Naive Bayes classifier](https://scikit-learn.org/stable/modules/naive_bayes.html)"
   ]
  },
  {
   "cell_type": "code",
   "execution_count": 14,
   "id": "68a59fdb",
   "metadata": {},
   "outputs": [],
   "source": [
    "from sklearn.naive_bayes import GaussianNB"
   ]
  },
  {
   "cell_type": "markdown",
   "id": "0b747012",
   "metadata": {},
   "source": [
    "**We need to fit a Naive Bayes classifier to our data. We will use X_test to make predictions with our classifier and print out its confusion matrix**\n",
    "\n",
    "As you might have already figured out, most scikit-learn models are classes, therefore we need:\n",
    "- Create an object if that class\n",
    "- Fit our train data to that object (to create a model)\n",
    "- Use our model to predict on our test data\n",
    "\n",
    "After these three steos you can use your predictions to create a confusion matrix and a classification report."
   ]
  },
  {
   "cell_type": "code",
   "execution_count": 15,
   "id": "4847ef2e",
   "metadata": {},
   "outputs": [],
   "source": [
    "#your code here"
   ]
  },
  {
   "cell_type": "markdown",
   "id": "3d32bdec",
   "metadata": {},
   "source": [
    "**How well did this model do compared to KNN?**"
   ]
  },
  {
   "cell_type": "markdown",
   "id": "e6861e3a",
   "metadata": {},
   "source": [
    "--> your answer here"
   ]
  },
  {
   "cell_type": "markdown",
   "id": "dea3b66c",
   "metadata": {},
   "source": [
    "**Use the ConfusionMatrixDisplay on your confusion matrix**"
   ]
  },
  {
   "cell_type": "code",
   "execution_count": 16,
   "id": "f4743c22",
   "metadata": {},
   "outputs": [],
   "source": [
    "#your code here"
   ]
  },
  {
   "cell_type": "markdown",
   "id": "e80137f7",
   "metadata": {},
   "source": [
    "---\n",
    "\n",
    "## STOP HERE\n",
    "\n",
    "We need to go over Logistic Regression before we get to the next part."
   ]
  },
  {
   "cell_type": "markdown",
   "id": "3004f90b",
   "metadata": {},
   "source": [
    "\n",
    "---\n",
    "\n",
    "### Logistic Regression\n",
    "\n",
    "**Let's try a third classifier with the same dataset. This time we'll try a [LogisticRegression](https://scikit-learn.org/stable/modules/generated/sklearn.linear_model.LogisticRegression.html)**"
   ]
  },
  {
   "cell_type": "code",
   "execution_count": 17,
   "id": "b50e6792",
   "metadata": {},
   "outputs": [],
   "source": [
    "from sklearn.linear_model import LogisticRegression"
   ]
  },
  {
   "cell_type": "markdown",
   "id": "21f22892",
   "metadata": {},
   "source": [
    "**We need to fit a LogisticRegression to our data. We will use X_test to make predictions with our classifier and print out its confusion matrix**\n",
    "\n",
    "As you might have already figured out, most scikit-learn models are classes, therefore we need:\n",
    "- Create an object if that class\n",
    "- Fit our train data to that object (to create a model)\n",
    "- Use our model to predict on our test data\n",
    "\n",
    "After these three steos you can use your predictions to create a confusion matrix and a classification report.\n",
    "\n",
    "*Warning: you might get a \"TOTAL NO. of ITERATIONS REACHED LIMIT.\" error when running this model. If this happens consider increasing the `max_iter` for the `LogisticRegression`.*"
   ]
  },
  {
   "cell_type": "code",
   "execution_count": 18,
   "id": "424442c6",
   "metadata": {},
   "outputs": [],
   "source": [
    "#your code here"
   ]
  },
  {
   "cell_type": "markdown",
   "id": "dfd7b311",
   "metadata": {},
   "source": [
    "**Use the ConfusionMatrixDisplay on your confusion matrix**"
   ]
  },
  {
   "cell_type": "code",
   "execution_count": 19,
   "id": "4ffae3fd",
   "metadata": {},
   "outputs": [],
   "source": [
    "#your code here"
   ]
  },
  {
   "cell_type": "markdown",
   "id": "edbbec30",
   "metadata": {},
   "source": [
    "**How well did this model do compared to Naive Bayes?**"
   ]
  },
  {
   "cell_type": "markdown",
   "id": "079c5896",
   "metadata": {},
   "source": [
    "--> your answer here"
   ]
  },
  {
   "cell_type": "markdown",
   "id": "2bb27111",
   "metadata": {},
   "source": [
    "**Overall which model (KNN, NB and LR) did better with this dataset?**"
   ]
  },
  {
   "cell_type": "markdown",
   "id": "b8108b36",
   "metadata": {},
   "source": [
    "--> your answer here"
   ]
  }
 ],
 "metadata": {
  "kernelspec": {
   "display_name": "Python 3",
   "language": "python",
   "name": "python3"
  },
  "language_info": {
   "codemirror_mode": {
    "name": "ipython",
    "version": 3
   },
   "file_extension": ".py",
   "mimetype": "text/x-python",
   "name": "python",
   "nbconvert_exporter": "python",
   "pygments_lexer": "ipython3",
   "version": "3.8.8"
  }
 },
 "nbformat": 4,
 "nbformat_minor": 5
}
