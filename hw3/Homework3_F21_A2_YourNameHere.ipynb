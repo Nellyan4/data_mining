{
 "cells": [
  {
   "cell_type": "markdown",
   "id": "19bebda1",
   "metadata": {},
   "source": [
    "# Homework 3 - 95-791 Data Mining (Fall 2021) \n",
    "## Name: \n",
    "#### Due: Sunday, December 5th, 2021\n"
   ]
  },
  {
   "cell_type": "markdown",
   "id": "9161d26c",
   "metadata": {},
   "source": [
    "### Changing the author field and file name.\n",
    "\n",
    " (a) Change the `name:` field on the Rmd document from Your Name Here to your own name.\n",
    "\n",
    " (b) Rename this file to \"Homework3_F21_YourHameHere.ipynb\", where YourNameHere is changed to your own name.\n",
    "\n",
    "\n",
    "### Installing and loading packages\n",
    "\n",
    "Before you begin this Lab make sure you have installed all the required libraries. Load the libraries as indicated below."
   ]
  },
  {
   "cell_type": "markdown",
   "id": "57100cc3",
   "metadata": {},
   "source": [
    "You only need to install libraries once.  Once they're installed, you may use them by **importing** the libraries using the `import` command.  For today's lab, you'll want to run the following code\n"
   ]
  },
  {
   "cell_type": "code",
   "execution_count": null,
   "id": "f69a9884",
   "metadata": {},
   "outputs": [],
   "source": [
    "import numpy as np\n",
    "import pandas as pd\n",
    "import seaborn as sns\n",
    "from matplotlib import pyplot as plt\n",
    "import plotly.express as px\n",
    "from sklearn import tree\n",
    "from IPython.display import Image\n",
    "from sklearn.tree import DecisionTreeRegressor, DecisionTreeClassifier, export_graphviz\n",
    "from sklearn.ensemble import BaggingClassifier, RandomForestClassifier, BaggingRegressor \n",
    "from sklearn.ensemble import RandomForestRegressor, GradientBoostingRegressor\n",
    "from sklearn.metrics import mean_squared_error, confusion_matrix, classification_report\n",
    "from sklearn.model_selection import train_test_split, cross_val_score, GridSearchCV\n",
    "from sklearn.preprocessing import OneHotEncoder\n",
    "from mlxtend.preprocessing import TransactionEncoder\n",
    "from mlxtend.frequent_patterns import apriori\n",
    "from sklearn.cluster import KMeans\n",
    "from yellowbrick.cluster import KElbowVisualizer, InterclusterDistance, SilhouetteVisualizer\n",
    "from yellowbrick.datasets import load_nfl\n",
    "#from apyori import apriori\n",
    "from mlxtend.preprocessing import TransactionEncoder\n",
    "from mlxtend.frequent_patterns import apriori\n",
    "from mlxtend.frequent_patterns import association_rules\n",
    "from yellowbrick.datasets import load_nfl\n",
    "from sklearn.datasets import fetch_california_housing\n",
    "%matplotlib inline\n",
    "plt.style.use('seaborn-white')"
   ]
  },
  {
   "cell_type": "markdown",
   "id": "ff5090ac",
   "metadata": {},
   "source": [
    "\n",
    "\n",
    "---\n",
    "\n",
    "### Question 1 - RandomForests [ 22 pts]\n",
    "\n",
    "\n",
    "**1)a) Read the `heart_failure_clinical_records_dataset`, convert any categorical variable to numerical and print the first 5 rows of the dataset.** [1 pts]"
   ]
  },
  {
   "cell_type": "code",
   "execution_count": null,
   "id": "1c39fc84",
   "metadata": {},
   "outputs": [],
   "source": [
    "#your code here"
   ]
  },
  {
   "cell_type": "markdown",
   "id": "8aff17cf",
   "metadata": {},
   "source": [
    "**1)b) Divide intro training and testing datasets, with a 20-70 ratio. Print out your y_test dataset.** [1 pts]"
   ]
  },
  {
   "cell_type": "code",
   "execution_count": 41,
   "id": "c4f05798",
   "metadata": {},
   "outputs": [],
   "source": [
    "#your code here"
   ]
  },
  {
   "cell_type": "markdown",
   "id": "4cc3460e",
   "metadata": {},
   "source": [
    "**1)c)Build a DecisionTreeClassifier with your datasets. Plot the generated tree. How good are your classification results?** [2 pts]\n",
    "\n",
    "**Note: you may use any function we learned in Lab 3 to plot your DecisionTreeClassifier"
   ]
  },
  {
   "cell_type": "code",
   "execution_count": null,
   "id": "f081c9b1",
   "metadata": {},
   "outputs": [],
   "source": [
    "#your code here"
   ]
  },
  {
   "cell_type": "markdown",
   "id": "32dec076",
   "metadata": {},
   "source": [
    "--> Your Answer Here"
   ]
  },
  {
   "cell_type": "markdown",
   "id": "d0dd9cbe",
   "metadata": {},
   "source": [
    "**1)d) Repeat the process the process from 1)c) but this time using a RandomForestClassifier. How good are your results?** [4 pts]"
   ]
  },
  {
   "cell_type": "code",
   "execution_count": null,
   "id": "5c515bbb",
   "metadata": {},
   "outputs": [],
   "source": [
    "#your code here"
   ]
  },
  {
   "cell_type": "markdown",
   "id": "25ec8778",
   "metadata": {},
   "source": [
    "--> Your Answer Here"
   ]
  },
  {
   "cell_type": "markdown",
   "id": "499546ce",
   "metadata": {},
   "source": [
    "**1)e) Repeat the process the process from 1)d) but this time tune the number of trees (n_estimators) in your RF. You can use CV to tune your RF. Plot your number of trees against your CV score. What is your best number of trees?** [6 pts]\n",
    "**Hint: try a minimum of 20 trees, all the way to 500 trees."
   ]
  },
  {
   "cell_type": "code",
   "execution_count": null,
   "id": "91a1d75b",
   "metadata": {},
   "outputs": [],
   "source": [
    "#your code here\n",
    "#add as many cells as you want"
   ]
  },
  {
   "cell_type": "markdown",
   "id": "45e26acd",
   "metadata": {},
   "source": [
    "--> Your Answer Here"
   ]
  },
  {
   "cell_type": "markdown",
   "id": "f2e55fc4",
   "metadata": {},
   "source": [
    "**1)f) Random Forest have a few parameters we can tune. We could tune each one separately through CV, or we could use [GridSearchCV](https://scikit-learn.org/stable/modules/generated/sklearn.model_selection.GridSearchCV.html) to try all our parameters at one. This is called hyperparameter tuning. Read the documentation to run GridSearchCV on at least 3 different parameter from your RandomForest. Once you've obtained the best parameters, re-train your RandomForest with them and report your results. Did this results improve compared to 1)e)?** [6 pts]"
   ]
  },
  {
   "cell_type": "code",
   "execution_count": null,
   "id": "337151b9",
   "metadata": {},
   "outputs": [],
   "source": [
    "#your code here\n",
    "#add as many cells as you want"
   ]
  },
  {
   "cell_type": "markdown",
   "id": "e34a5860",
   "metadata": {},
   "source": [
    "--> Your Answer Here"
   ]
  },
  {
   "cell_type": "markdown",
   "id": "e067fcff",
   "metadata": {},
   "source": [
    "**1)g) For 1)f) plot the variable importance. What is your most important variable? Describe the differences between variables.** [2 pts]"
   ]
  },
  {
   "cell_type": "code",
   "execution_count": null,
   "id": "ff191fc7",
   "metadata": {},
   "outputs": [],
   "source": [
    "#your code here\n",
    "#add as many cells as you want"
   ]
  },
  {
   "cell_type": "markdown",
   "id": "0159f29c",
   "metadata": {},
   "source": [
    "--> Your Answer Here"
   ]
  },
  {
   "cell_type": "markdown",
   "id": "c4d141b8",
   "metadata": {},
   "source": [
    "---\n",
    "\n",
    "\n",
    "### Question 2 - Unsupervised Learning - Clustering [ 16 pts]\n",
    "\n"
   ]
  },
  {
   "cell_type": "markdown",
   "id": "2a4c5638",
   "metadata": {},
   "source": [
    "**2)a) For this question we will work with the NFL dataset from [yellowbrick](https://www.scikit-yb.org/en/latest/api/datasets/nfl.html). Load the dataset, split it into X and y. We will only need X for this question. Print out X and print out the information for the dataset to make sure there are no categorical variables.** [ 2 pts]\n"
   ]
  },
  {
   "cell_type": "code",
   "execution_count": null,
   "id": "bbc920cc",
   "metadata": {},
   "outputs": [],
   "source": [
    "#your code here\n"
   ]
  },
  {
   "cell_type": "markdown",
   "id": "379bb283",
   "metadata": {},
   "source": [
    "**2)b) Fit a k-means model with the data from 2)a). For us to fit this model we must first determine an optimal k. Use a an elbow graph to plot a comprehensive range of k's and fit your model to the chosen k.** [ 4 pts]\n"
   ]
  },
  {
   "cell_type": "code",
   "execution_count": null,
   "id": "93db6c60",
   "metadata": {},
   "outputs": [],
   "source": [
    "# Your code here"
   ]
  },
  {
   "cell_type": "markdown",
   "id": "1f3de6b5",
   "metadata": {},
   "source": [
    "**2)c) Repeat 2)a) using the Calinski-Harabasz metric. Did your k change or remain the same?** [ 4 pts]"
   ]
  },
  {
   "cell_type": "code",
   "execution_count": null,
   "id": "3e86c4f8",
   "metadata": {},
   "outputs": [],
   "source": [
    "# Your code here"
   ]
  },
  {
   "cell_type": "markdown",
   "id": "6ef0bc7c",
   "metadata": {},
   "source": [
    "--> Your answer here"
   ]
  },
  {
   "cell_type": "markdown",
   "id": "63a8bc55",
   "metadata": {},
   "source": [
    "**2)d) Examine your results from 2)a) and 2)c). How good are the clusters formed by each? What makes sense and what doesn't make sense?** [ 4 pts]"
   ]
  },
  {
   "cell_type": "code",
   "execution_count": null,
   "id": "cbd2339e",
   "metadata": {},
   "outputs": [],
   "source": [
    "# Your code here"
   ]
  },
  {
   "cell_type": "markdown",
   "id": "cb525bab",
   "metadata": {},
   "source": [
    "--> Your answer here"
   ]
  },
  {
   "cell_type": "markdown",
   "id": "4a30bfd9",
   "metadata": {},
   "source": [
    "**2)e) Go to yellowbrick [Feature Analysis Visualizers](https://www.scikit-yb.org/en/latest/api/features/index.html) and read through the categories. Creates a correlation plot with yellowbrick. Pick an additional plot and use it on your features. What did you learn from both plots?**[4pts]"
   ]
  },
  {
   "cell_type": "code",
   "execution_count": null,
   "id": "75998d81",
   "metadata": {},
   "outputs": [],
   "source": [
    "#your code here\n",
    "#add as many cells as you want\n"
   ]
  },
  {
   "cell_type": "markdown",
   "id": "b90034fb",
   "metadata": {},
   "source": [
    "--> Your answer here"
   ]
  },
  {
   "cell_type": "markdown",
   "id": "73561688",
   "metadata": {},
   "source": [
    "---\n",
    "\n",
    "### Question 3 - Market Basket Analysis [ 12 pts]\n"
   ]
  },
  {
   "cell_type": "markdown",
   "id": "289b8bef",
   "metadata": {},
   "source": [
    "**3)a) Begin by loading and cleaning the bread basket dataset.** [2 pts]"
   ]
  },
  {
   "cell_type": "code",
   "execution_count": null,
   "id": "2a99dad8",
   "metadata": {},
   "outputs": [],
   "source": [
    "#Your code here"
   ]
  },
  {
   "cell_type": "markdown",
   "id": "a1bf817d",
   "metadata": {},
   "source": [
    "**3)b) From the dataset extract the transactions, and print out a single random transaction.** [ 2 pts]"
   ]
  },
  {
   "cell_type": "code",
   "execution_count": null,
   "id": "6d514275",
   "metadata": {},
   "outputs": [],
   "source": [
    "# your code here"
   ]
  },
  {
   "cell_type": "markdown",
   "id": "0a51f1a4",
   "metadata": {},
   "source": [
    "**3)c) Use the Transaction encoder on your transactions dataset. Print out your encoded transactions** [2 pts]"
   ]
  },
  {
   "cell_type": "code",
   "execution_count": null,
   "id": "b9ab450d",
   "metadata": {},
   "outputs": [],
   "source": [
    "#your code here"
   ]
  },
  {
   "cell_type": "markdown",
   "id": "ce79f2ed",
   "metadata": {},
   "source": [
    "**3)d) Use the apriori algorithm and generate association rules to extract the most frequent itemsets.** [ 2 pts]"
   ]
  },
  {
   "cell_type": "code",
   "execution_count": null,
   "id": "104d8703",
   "metadata": {},
   "outputs": [],
   "source": [
    "#your code here"
   ]
  },
  {
   "cell_type": "markdown",
   "id": "1cc8880e",
   "metadata": {},
   "source": [
    "--> Your answer here"
   ]
  },
  {
   "cell_type": "markdown",
   "id": "a5821e7d",
   "metadata": {},
   "source": [
    "**3)e) Play around with the generating association rules according to different thresholds. Comment on the levels of support, lift, and confidence of this dataset. What are the levels of your most popular itemsets? What are good thresholds?** [ 4 pts]"
   ]
  },
  {
   "cell_type": "code",
   "execution_count": null,
   "id": "cd8cffaf",
   "metadata": {},
   "outputs": [],
   "source": [
    "#your code here\n"
   ]
  },
  {
   "cell_type": "markdown",
   "id": "77fc544d",
   "metadata": {},
   "source": [
    "--> Your answer here"
   ]
  },
  {
   "cell_type": "markdown",
   "id": "845f612c",
   "metadata": {},
   "source": [
    "---\n",
    "\n",
    "### REFERENCES\n",
    "List any references (even if these are previous homeworks, office hours, class exercises, websites, etc) you used to complete your homework. Even if they are one of the books assigned for this class. If this section is incomplete you will be deducted 50% of your final grade from this homework.\n",
    "\n",
    "**Note: if there are no comments to explain your code you will receive 0 in this homework**\n",
    "\n",
    "### Total Score:  --/50\n",
    "\n",
    "### END OF HOMEWORK 3"
   ]
  },
  {
   "cell_type": "markdown",
   "id": "c3d31109",
   "metadata": {},
   "source": []
  }
 ],
 "metadata": {
  "kernelspec": {
   "display_name": "Python 3 (ipykernel)",
   "language": "python",
   "name": "python3"
  },
  "language_info": {
   "codemirror_mode": {
    "name": "ipython",
    "version": 3
   },
   "file_extension": ".py",
   "mimetype": "text/x-python",
   "name": "python",
   "nbconvert_exporter": "python",
   "pygments_lexer": "ipython3",
   "version": "3.8.11"
  }
 },
 "nbformat": 4,
 "nbformat_minor": 5
}
