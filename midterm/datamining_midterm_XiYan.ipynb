{
 "cells": [
  {
   "cell_type": "code",
   "execution_count": 232,
   "metadata": {
    "collapsed": true
   },
   "outputs": [],
   "source": []
  },
  {
   "cell_type": "markdown",
   "source": [
    "# Data mining midterm\n",
    "# Xi Yan"
   ],
   "metadata": {
    "collapsed": false,
    "pycharm": {
     "name": "#%% md\n"
    }
   }
  },
  {
   "cell_type": "code",
   "execution_count": 233,
   "outputs": [],
   "source": [
    "import numpy as np\n",
    "import pandas as pd\n",
    "import seaborn as sns\n",
    "from matplotlib import pyplot as plt\n",
    "import plotly.express as px\n",
    "from sklearn.metrics import mean_squared_error\n",
    "from sklearn.linear_model import LinearRegression\n",
    "from sklearn.preprocessing import PolynomialFeatures\n",
    "from sklearn.model_selection import train_test_split, LeaveOneOut, KFold, cross_val_score\n",
    "from sklearn.linear_model import Ridge, RidgeCV, Lasso, LassoCV\n",
    "from sklearn.feature_selection import SequentialFeatureSelector\n",
    "from sklearn.neighbors import KNeighborsClassifier\n",
    "from sklearn import metrics\n",
    "from sklearn.metrics import confusion_matrix, ConfusionMatrixDisplay, classification_report\n",
    "from sklearn import preprocessing\n",
    "from sklearn import neighbors\n",
    "from sklearn.metrics import r2_score\n",
    "import time\n",
    "\n",
    "%matplotlib inline\n",
    "plt.style.use('seaborn-white')"
   ],
   "metadata": {
    "collapsed": false,
    "pycharm": {
     "name": "#%%\n"
    }
   }
  },
  {
   "cell_type": "markdown",
   "source": [
    "### Data cleaning"
   ],
   "metadata": {
    "collapsed": false,
    "pycharm": {
     "name": "#%% md\n"
    }
   }
  },
  {
   "cell_type": "code",
   "execution_count": 234,
   "outputs": [
    {
     "data": {
      "text/plain": "       country Regional indicator  happinessScore  GDPperCap  socialSupport  \\\n0      Finland     Western Europe           7.769      1.340          1.587   \n1      Denmark     Western Europe           7.600      1.383          1.573   \n2       Norway     Western Europe           7.554      1.488          1.582   \n3      Iceland     Western Europe           7.494      1.380          1.624   \n4  Netherlands     Western Europe           7.488      1.396          1.522   \n\n   healthLE  freedom  generosity  trustGovernment  year  \n0     0.986    0.596       0.153            0.393  2019  \n1     0.996    0.592       0.252            0.410  2019  \n2     1.028    0.603       0.271            0.341  2019  \n3     1.026    0.591       0.354            0.118  2019  \n4     0.999    0.557       0.322            0.298  2019  ",
      "text/html": "<div>\n<style scoped>\n    .dataframe tbody tr th:only-of-type {\n        vertical-align: middle;\n    }\n\n    .dataframe tbody tr th {\n        vertical-align: top;\n    }\n\n    .dataframe thead th {\n        text-align: right;\n    }\n</style>\n<table border=\"1\" class=\"dataframe\">\n  <thead>\n    <tr style=\"text-align: right;\">\n      <th></th>\n      <th>country</th>\n      <th>Regional indicator</th>\n      <th>happinessScore</th>\n      <th>GDPperCap</th>\n      <th>socialSupport</th>\n      <th>healthLE</th>\n      <th>freedom</th>\n      <th>generosity</th>\n      <th>trustGovernment</th>\n      <th>year</th>\n    </tr>\n  </thead>\n  <tbody>\n    <tr>\n      <th>0</th>\n      <td>Finland</td>\n      <td>Western Europe</td>\n      <td>7.769</td>\n      <td>1.340</td>\n      <td>1.587</td>\n      <td>0.986</td>\n      <td>0.596</td>\n      <td>0.153</td>\n      <td>0.393</td>\n      <td>2019</td>\n    </tr>\n    <tr>\n      <th>1</th>\n      <td>Denmark</td>\n      <td>Western Europe</td>\n      <td>7.600</td>\n      <td>1.383</td>\n      <td>1.573</td>\n      <td>0.996</td>\n      <td>0.592</td>\n      <td>0.252</td>\n      <td>0.410</td>\n      <td>2019</td>\n    </tr>\n    <tr>\n      <th>2</th>\n      <td>Norway</td>\n      <td>Western Europe</td>\n      <td>7.554</td>\n      <td>1.488</td>\n      <td>1.582</td>\n      <td>1.028</td>\n      <td>0.603</td>\n      <td>0.271</td>\n      <td>0.341</td>\n      <td>2019</td>\n    </tr>\n    <tr>\n      <th>3</th>\n      <td>Iceland</td>\n      <td>Western Europe</td>\n      <td>7.494</td>\n      <td>1.380</td>\n      <td>1.624</td>\n      <td>1.026</td>\n      <td>0.591</td>\n      <td>0.354</td>\n      <td>0.118</td>\n      <td>2019</td>\n    </tr>\n    <tr>\n      <th>4</th>\n      <td>Netherlands</td>\n      <td>Western Europe</td>\n      <td>7.488</td>\n      <td>1.396</td>\n      <td>1.522</td>\n      <td>0.999</td>\n      <td>0.557</td>\n      <td>0.322</td>\n      <td>0.298</td>\n      <td>2019</td>\n    </tr>\n  </tbody>\n</table>\n</div>"
     },
     "execution_count": 234,
     "metadata": {},
     "output_type": "execute_result"
    }
   ],
   "source": [
    "# Load csv file, display top 5 rows\n",
    "df = pd.read_csv('worldHapinness_2015_2020.csv')\n",
    "df.head(5)"
   ],
   "metadata": {
    "collapsed": false,
    "pycharm": {
     "name": "#%%\n"
    }
   }
  },
  {
   "cell_type": "code",
   "execution_count": 235,
   "outputs": [
    {
     "name": "stdout",
     "output_type": "stream",
     "text": [
      "<class 'pandas.core.frame.DataFrame'>\n",
      "RangeIndex: 935 entries, 0 to 934\n",
      "Data columns (total 10 columns):\n",
      " #   Column              Non-Null Count  Dtype  \n",
      "---  ------              --------------  -----  \n",
      " 0   country             935 non-null    object \n",
      " 1   Regional indicator  933 non-null    object \n",
      " 2   happinessScore      935 non-null    float64\n",
      " 3   GDPperCap           935 non-null    float64\n",
      " 4   socialSupport       935 non-null    float64\n",
      " 5   healthLE            935 non-null    float64\n",
      " 6   freedom             935 non-null    float64\n",
      " 7   generosity          935 non-null    float64\n",
      " 8   trustGovernment     934 non-null    float64\n",
      " 9   year                935 non-null    int64  \n",
      "dtypes: float64(7), int64(1), object(2)\n",
      "memory usage: 73.2+ KB\n"
     ]
    }
   ],
   "source": [
    "# Verify if there are any missing values, if yes, then drop the NaN value rows\n",
    "df.info()\n",
    "df.isnull().sum(axis=0)\n",
    "df = df.dropna()"
   ],
   "metadata": {
    "collapsed": false,
    "pycharm": {
     "name": "#%%\n"
    }
   }
  },
  {
   "cell_type": "code",
   "execution_count": 236,
   "outputs": [
    {
     "data": {
      "text/plain": "'\\n0- Central and Eastern Europe\\n1- Commonwealth of Independent States\\n2- East Asia\\n3- Latin America and Caribbean\\n4- Middle East and North Africa\\n5- North America and ANZ\\n6- Southern Asia\\n7- Southeastern Asia\\n8- Sub-Saharan Africa\\n9- Western Europe\\n'"
     },
     "execution_count": 236,
     "metadata": {},
     "output_type": "execute_result"
    }
   ],
   "source": [
    "# Turn regional indicator into numerical categories\n",
    "df['Regional indicator'] = df['Regional indicator'].astype('category')\n",
    "df['Regional indicator'] = df['Regional indicator'].cat.codes\n",
    "\n",
    "\"\"\"\n",
    "0- Central and Eastern Europe\n",
    "1- Commonwealth of Independent States\n",
    "2- East Asia\n",
    "3- Latin America and Caribbean\n",
    "4- Middle East and North Africa\n",
    "5- North America and ANZ\n",
    "6- Southern Asia\n",
    "7- Southeastern Asia\n",
    "8- Sub-Saharan Africa\n",
    "9- Western Europe\n",
    "\"\"\""
   ],
   "metadata": {
    "collapsed": false,
    "pycharm": {
     "name": "#%%\n"
    }
   }
  },
  {
   "cell_type": "code",
   "execution_count": 237,
   "outputs": [],
   "source": [
    "# Split data into 2015-2019 and 2020, drop country name since it should not be included in the training model set\n",
    "df_1519 = df.loc[df['year'].isin([2015, 2016, 2017, 2018, 2019])]\n",
    "df_20 = df.loc[df['year'] == 2020]\n"
   ],
   "metadata": {
    "collapsed": false,
    "pycharm": {
     "name": "#%%\n"
    }
   }
  },
  {
   "cell_type": "code",
   "execution_count": 238,
   "outputs": [],
   "source": [
    "# Set up X, y, drop country names\n",
    "X = df_1519.drop(['happinessScore', 'country'], axis=1)\n",
    "y = df_1519['happinessScore']"
   ],
   "metadata": {
    "collapsed": false,
    "pycharm": {
     "name": "#%%\n"
    }
   }
  },
  {
   "cell_type": "markdown",
   "source": [
    "### 2 Visualization plots"
   ],
   "metadata": {
    "collapsed": false,
    "pycharm": {
     "name": "#%% md\n"
    }
   }
  },
  {
   "cell_type": "code",
   "execution_count": 239,
   "outputs": [
    {
     "data": {
      "text/plain": "<Figure size 432x288 with 2 Axes>",
      "image/png": "[encoded data removed]"
     },
     "metadata": {},
     "output_type": "display_data"
    }
   ],
   "source": [
    "# Data visualization plots (first)\n",
    "corr = X.corr()\n",
    "sns.heatmap(corr, xticklabels=corr.columns, yticklabels=corr.columns,).set_title('Correlation matrix heatmap between independent variables')\n",
    "plt.show()"
   ],
   "metadata": {
    "collapsed": false,
    "pycharm": {
     "name": "#%%\n"
    }
   }
  },
  {
   "cell_type": "code",
   "execution_count": 240,
   "outputs": [
    {
     "data": {
      "text/plain": "<Figure size 432x288 with 1 Axes>",
      "image/png": "[encoded data removed]"
     },
     "metadata": {},
     "output_type": "display_data"
    }
   ],
   "source": [
    "# Data visualization plots (second)\n",
    "plt.hist(y, bins=20)\n",
    "plt.xlabel('Happiness Scores of countries')\n",
    "plt.ylabel('Frequencies')\n",
    "plt.title('Histogram of the distribution of happiness score')\n",
    "plt.show()"
   ],
   "metadata": {
    "collapsed": false,
    "pycharm": {
     "name": "#%%\n"
    }
   }
  },
  {
   "cell_type": "code",
   "execution_count": 241,
   "outputs": [],
   "source": [
    "# Set up train and test sets of data\n",
    "X_train, X_test, y_train, y_test = train_test_split(X, y, test_size=0.25, random_state=1)"
   ],
   "metadata": {
    "collapsed": false,
    "pycharm": {
     "name": "#%%\n"
    }
   }
  },
  {
   "cell_type": "markdown",
   "source": [
    "### Prediction: Step 1 Fit a model, First model - Linear regression"
   ],
   "metadata": {
    "collapsed": false,
    "pycharm": {
     "name": "#%% md\n"
    }
   }
  },
  {
   "cell_type": "code",
   "execution_count": 242,
   "outputs": [
    {
     "name": "stdout",
     "output_type": "stream",
     "text": [
      "Train MSE is 0.27818234246035545\n",
      "Test MSE is 0.32059351594341645\n",
      "Train R^2 is 0.7888747512447358\n",
      "Test R^2 is 0.7144171756012081\n"
     ]
    },
    {
     "name": "stderr",
     "output_type": "stream",
     "text": [
      "/Users/nellyan45/.conda/envs/untitled/lib/python3.8/site-packages/sklearn/linear_model/_base.py:141: FutureWarning: 'normalize' was deprecated in version 1.0 and will be removed in 1.2.\n",
      "If you wish to scale the data, use Pipeline with a StandardScaler in a preprocessing stage. To reproduce the previous behavior:\n",
      "\n",
      "from sklearn.pipeline import make_pipeline\n",
      "\n",
      "model = make_pipeline(StandardScaler(with_mean=False), LinearRegression())\n",
      "\n",
      "If you wish to pass a sample_weight parameter, you need to pass it as a fit parameter to each step of the pipeline as follows:\n",
      "\n",
      "kwargs = {s[0] + '__sample_weight': sample_weight for s in model.steps}\n",
      "model.fit(X, y, **kwargs)\n",
      "\n",
      "\n",
      "  warnings.warn(\n"
     ]
    }
   ],
   "source": [
    "lm = LinearRegression(normalize=True)\n",
    "lm.fit(X_train, y_train)\n",
    "y_train_pred = lm.predict(X_train)\n",
    "y_test_pred = lm.predict(X_test)\n",
    "print('Train MSE is', mean_squared_error(y_train, y_train_pred))\n",
    "print('Test MSE is', mean_squared_error(y_test, y_test_pred))\n",
    "print('Train R^2 is', lm.score(X_train, y_train))\n",
    "print('Test R^2 is', lm.score(X_test, y_test))"
   ],
   "metadata": {
    "collapsed": false,
    "pycharm": {
     "name": "#%%\n"
    }
   }
  },
  {
   "cell_type": "markdown",
   "source": [
    "### Prediction: Step 1 Fit a model, Second model - Polynomial regression degree 1-6"
   ],
   "metadata": {
    "collapsed": false
   }
  },
  {
   "cell_type": "code",
   "execution_count": 243,
   "outputs": [
    {
     "name": "stderr",
     "output_type": "stream",
     "text": [
      "/Users/nellyan45/.conda/envs/untitled/lib/python3.8/site-packages/sklearn/linear_model/_base.py:141: FutureWarning: 'normalize' was deprecated in version 1.0 and will be removed in 1.2.\n",
      "If you wish to scale the data, use Pipeline with a StandardScaler in a preprocessing stage. To reproduce the previous behavior:\n",
      "\n",
      "from sklearn.pipeline import make_pipeline\n",
      "\n",
      "model = make_pipeline(StandardScaler(with_mean=False), LinearRegression())\n",
      "\n",
      "If you wish to pass a sample_weight parameter, you need to pass it as a fit parameter to each step of the pipeline as follows:\n",
      "\n",
      "kwargs = {s[0] + '__sample_weight': sample_weight for s in model.steps}\n",
      "model.fit(X, y, **kwargs)\n",
      "\n",
      "\n",
      "  warnings.warn(\n",
      "/Users/nellyan45/.conda/envs/untitled/lib/python3.8/site-packages/sklearn/linear_model/_base.py:141: FutureWarning: 'normalize' was deprecated in version 1.0 and will be removed in 1.2.\n",
      "If you wish to scale the data, use Pipeline with a StandardScaler in a preprocessing stage. To reproduce the previous behavior:\n",
      "\n",
      "from sklearn.pipeline import make_pipeline\n",
      "\n",
      "model = make_pipeline(StandardScaler(with_mean=False), LinearRegression())\n",
      "\n",
      "If you wish to pass a sample_weight parameter, you need to pass it as a fit parameter to each step of the pipeline as follows:\n",
      "\n",
      "kwargs = {s[0] + '__sample_weight': sample_weight for s in model.steps}\n",
      "model.fit(X, y, **kwargs)\n",
      "\n",
      "\n",
      "  warnings.warn(\n",
      "/Users/nellyan45/.conda/envs/untitled/lib/python3.8/site-packages/sklearn/linear_model/_base.py:141: FutureWarning: 'normalize' was deprecated in version 1.0 and will be removed in 1.2.\n",
      "If you wish to scale the data, use Pipeline with a StandardScaler in a preprocessing stage. To reproduce the previous behavior:\n",
      "\n",
      "from sklearn.pipeline import make_pipeline\n",
      "\n",
      "model = make_pipeline(StandardScaler(with_mean=False), LinearRegression())\n",
      "\n",
      "If you wish to pass a sample_weight parameter, you need to pass it as a fit parameter to each step of the pipeline as follows:\n",
      "\n",
      "kwargs = {s[0] + '__sample_weight': sample_weight for s in model.steps}\n",
      "model.fit(X, y, **kwargs)\n",
      "\n",
      "\n",
      "  warnings.warn(\n",
      "/Users/nellyan45/.conda/envs/untitled/lib/python3.8/site-packages/sklearn/linear_model/_base.py:141: FutureWarning: 'normalize' was deprecated in version 1.0 and will be removed in 1.2.\n",
      "If you wish to scale the data, use Pipeline with a StandardScaler in a preprocessing stage. To reproduce the previous behavior:\n",
      "\n",
      "from sklearn.pipeline import make_pipeline\n",
      "\n",
      "model = make_pipeline(StandardScaler(with_mean=False), LinearRegression())\n",
      "\n",
      "If you wish to pass a sample_weight parameter, you need to pass it as a fit parameter to each step of the pipeline as follows:\n",
      "\n",
      "kwargs = {s[0] + '__sample_weight': sample_weight for s in model.steps}\n",
      "model.fit(X, y, **kwargs)\n",
      "\n",
      "\n",
      "  warnings.warn(\n",
      "/Users/nellyan45/.conda/envs/untitled/lib/python3.8/site-packages/sklearn/linear_model/_base.py:141: FutureWarning: 'normalize' was deprecated in version 1.0 and will be removed in 1.2.\n",
      "If you wish to scale the data, use Pipeline with a StandardScaler in a preprocessing stage. To reproduce the previous behavior:\n",
      "\n",
      "from sklearn.pipeline import make_pipeline\n",
      "\n",
      "model = make_pipeline(StandardScaler(with_mean=False), LinearRegression())\n",
      "\n",
      "If you wish to pass a sample_weight parameter, you need to pass it as a fit parameter to each step of the pipeline as follows:\n",
      "\n",
      "kwargs = {s[0] + '__sample_weight': sample_weight for s in model.steps}\n",
      "model.fit(X, y, **kwargs)\n",
      "\n",
      "\n",
      "  warnings.warn(\n",
      "/Users/nellyan45/.conda/envs/untitled/lib/python3.8/site-packages/sklearn/linear_model/_base.py:141: FutureWarning: 'normalize' was deprecated in version 1.0 and will be removed in 1.2.\n",
      "If you wish to scale the data, use Pipeline with a StandardScaler in a preprocessing stage. To reproduce the previous behavior:\n",
      "\n",
      "from sklearn.pipeline import make_pipeline\n",
      "\n",
      "model = make_pipeline(StandardScaler(with_mean=False), LinearRegression())\n",
      "\n",
      "If you wish to pass a sample_weight parameter, you need to pass it as a fit parameter to each step of the pipeline as follows:\n",
      "\n",
      "kwargs = {s[0] + '__sample_weight': sample_weight for s in model.steps}\n",
      "model.fit(X, y, **kwargs)\n",
      "\n",
      "\n",
      "  warnings.warn(\n"
     ]
    },
    {
     "name": "stdout",
     "output_type": "stream",
     "text": [
      "MSE for polynomial model degree 1 train is 0.27818234246035584\n",
      "MSE for polynomial model degree 1 test is 0.32059351594341556\n",
      "R^2 for polynomial model degree 1 train is 0.7888747512447355\n",
      "R^2 for polynomial model degree 1 test is 0.7144171756012089\n",
      "\n",
      "\n",
      "MSE for polynomial model degree 2 train is 0.21700503794827147\n",
      "MSE for polynomial model degree 2 test is 0.2528401132321522\n",
      "R^2 for polynomial model degree 2 train is 0.8353049937937609\n",
      "R^2 for polynomial model degree 2 test is 0.7747715095058485\n",
      "\n",
      "\n",
      "MSE for polynomial model degree 3 train is 0.11418765833744243\n",
      "MSE for polynomial model degree 3 test is 0.278382140519873\n",
      "R^2 for polynomial model degree 3 train is 0.9133377857197772\n",
      "R^2 for polynomial model degree 3 test is 0.7520188213479703\n",
      "\n",
      "\n",
      "MSE for polynomial model degree 4 train is 0.02050986728278804\n",
      "MSE for polynomial model degree 4 test is 11.350211206843463\n",
      "R^2 for polynomial model degree 4 train is 0.984434127652681\n",
      "R^2 for polynomial model degree 4 test is -9.110701598048777\n",
      "\n",
      "\n",
      "MSE for polynomial model degree 5 train is 9.683042446168745e-23\n",
      "MSE for polynomial model degree 5 test is 146.6519878847277\n",
      "R^2 for polynomial model degree 5 train is 1.0\n",
      "R^2 for polynomial model degree 5 test is -129.63673100366086\n",
      "\n",
      "\n",
      "MSE for polynomial model degree 6 train is 4.1135118761203654e-22\n",
      "MSE for polynomial model degree 6 test is 122.35575238098109\n",
      "R^2 for polynomial model degree 6 train is 1.0\n",
      "R^2 for polynomial model degree 6 test is -107.99378686301017\n",
      "\n",
      "\n"
     ]
    }
   ],
   "source": [
    "for i in [1, 2, 3, 4, 5, 6]:\n",
    "    poly_model = PolynomialFeatures(degree=i)\n",
    "\n",
    "    X_poly_train = poly_model.fit_transform(X_train)\n",
    "    X_poly_test = poly_model.fit_transform(X_test)\n",
    "\n",
    "    lm_poly = LinearRegression(normalize=True)\n",
    "    lm_poly.fit(X_poly_train, y_train)\n",
    "    y_train_pred_poly = lm_poly.predict(X_poly_train)\n",
    "    y_test_pred_poly = lm_poly.predict(X_poly_test)\n",
    "\n",
    "    print('MSE for polynomial model degree', i, \"train is\", mean_squared_error(y_train, y_train_pred_poly))\n",
    "    print('MSE for polynomial model degree', i, \"test is\", mean_squared_error(y_test, y_test_pred_poly))\n",
    "    print('R^2 for polynomial model degree', i, \"train is\", lm_poly.score(X_poly_train, y_train))\n",
    "    print('R^2 for polynomial model degree', i, \"test is\", lm_poly.score(X_poly_test, y_test))\n",
    "    print('\\n')"
   ],
   "metadata": {
    "collapsed": false,
    "pycharm": {
     "name": "#%%\n"
    }
   }
  },
  {
   "cell_type": "markdown",
   "source": [
    "From the MSE and R^2 above, we are able to see that degree 2 is the best model due to bias-variance trade-off. The MSE for both test and train data is one of the smallest, and the R^2 of test and train data is one of the highest among other degrees."
   ],
   "metadata": {
    "collapsed": false,
    "pycharm": {
     "name": "#%% md\n"
    }
   }
  },
  {
   "cell_type": "markdown",
   "source": [
    "### Prediction: Step 1 Fit a model, Third model - LASSO regression"
   ],
   "metadata": {
    "collapsed": false
   }
  },
  {
   "cell_type": "code",
   "execution_count": 244,
   "outputs": [
    {
     "name": "stdout",
     "output_type": "stream",
     "text": [
      "LassoCV - best alpha: 0.0004055460735840828\n",
      "LassoCV train - R-squared: 0.788534826225302\n",
      "LassoCV test - R-squared: 0.7163818581778771\n",
      "MSE for Lasso train is: 0.2786302336468643\n",
      "MSE for Lasso test is: 0.3183879754096218\n"
     ]
    },
    {
     "name": "stderr",
     "output_type": "stream",
     "text": [
      "/Users/nellyan45/.conda/envs/untitled/lib/python3.8/site-packages/sklearn/linear_model/_base.py:141: FutureWarning: 'normalize' was deprecated in version 1.0 and will be removed in 1.2.\n",
      "If you wish to scale the data, use Pipeline with a StandardScaler in a preprocessing stage. To reproduce the previous behavior:\n",
      "\n",
      "from sklearn.pipeline import make_pipeline\n",
      "\n",
      "model = make_pipeline(StandardScaler(with_mean=False), Lasso())\n",
      "\n",
      "If you wish to pass a sample_weight parameter, you need to pass it as a fit parameter to each step of the pipeline as follows:\n",
      "\n",
      "kwargs = {s[0] + '__sample_weight': sample_weight for s in model.steps}\n",
      "model.fit(X, y, **kwargs)\n",
      "\n",
      "Set parameter alpha to: original_alpha * np.sqrt(n_samples). \n",
      "  warnings.warn(\n"
     ]
    }
   ],
   "source": [
    "alphas = np.logspace(-5, 5, 200)\n",
    "model_lassoCV = LassoCV(normalize=True, alphas=alphas, cv=10).fit(X_train, y_train)\n",
    "y_train_pred_lasso = model_lassoCV.predict(X_train)\n",
    "y_test_pred_lasso = model_lassoCV.predict(X_test)\n",
    "print(\"LassoCV - best alpha: \"+str(model_lassoCV.alpha_))\n",
    "print(\"LassoCV train - R-squared: \"+str(model_lassoCV.score(X_train, y_train)))\n",
    "print(\"LassoCV test - R-squared: \"+str(model_lassoCV.score(X_test, y_test)))\n",
    "print('MSE for Lasso train is:', mean_squared_error(y_train, y_train_pred_lasso))\n",
    "print('MSE for Lasso test is:', mean_squared_error(y_test, y_test_pred_lasso))\n"
   ],
   "metadata": {
    "collapsed": false,
    "pycharm": {
     "name": "#%%\n"
    }
   }
  },
  {
   "cell_type": "markdown",
   "source": [
    "Based on these three models, I would conclude that Polynomial degree 2 regression is the best model out of the three models. Since it has the higher R-squared (0.84, 0.77) for both test and train data, while maintaining the lowest MSE (0.21, 0.25) for test and train data among them all."
   ],
   "metadata": {
    "collapsed": false,
    "pycharm": {
     "name": "#%% md\n"
    }
   }
  },
  {
   "cell_type": "markdown",
   "source": [
    "### Prediction: Step 2 Feature selection - Forward stepwise selection"
   ],
   "metadata": {
    "collapsed": false
   }
  },
  {
   "cell_type": "code",
   "execution_count": 245,
   "outputs": [
    {
     "name": "stdout",
     "output_type": "stream",
     "text": [
      "1 features selected by forward sequential selection: ['GDPperCap']\n",
      "\n",
      "\n",
      "2 features selected by forward sequential selection: ['GDPperCap' 'freedom']\n",
      "\n",
      "\n",
      "3 features selected by forward sequential selection: ['GDPperCap' 'healthLE' 'freedom']\n",
      "\n",
      "\n",
      "4 features selected by forward sequential selection: ['GDPperCap' 'healthLE' 'freedom' 'generosity']\n",
      "\n",
      "\n",
      "5 features selected by forward sequential selection: ['GDPperCap' 'socialSupport' 'healthLE' 'freedom' 'generosity']\n",
      "\n",
      "\n",
      "6 features selected by forward sequential selection: ['GDPperCap' 'socialSupport' 'healthLE' 'freedom' 'generosity'\n",
      " 'trustGovernment']\n",
      "\n",
      "\n",
      "7 features selected by forward sequential selection: ['Regional indicator' 'GDPperCap' 'socialSupport' 'healthLE' 'freedom'\n",
      " 'generosity' 'trustGovernment']\n",
      "\n",
      "\n"
     ]
    }
   ],
   "source": [
    "for i in range(1,len(X.columns)):\n",
    "    model= LinearRegression()\n",
    "    sfs = SequentialFeatureSelector(model,\n",
    "                                n_features_to_select = i,\n",
    "                                direction=\"forward\",\n",
    "                                scoring='neg_mean_squared_error',\n",
    "                                cv= 10)\n",
    "    sfs = sfs.fit(X,y)\n",
    "    feature_names= X_train.columns.values#column names for X\n",
    "    print(i, \"features selected by forward sequential selection: \"+str(feature_names[sfs.get_support()]))\n",
    "    print('\\n')"
   ],
   "metadata": {
    "collapsed": false,
    "pycharm": {
     "name": "#%%\n"
    }
   }
  },
  {
   "cell_type": "markdown",
   "source": [
    "Based on the forward stepwise selection, it shows that the top 3 most significant feature is GDPperCAP, freedom, and healthLE and the least 3 significant feature is regional indicator, trust government, social support.\n",
    "\n",
    "Let's see if dropping the regional indicator and trust government is going to increase R^2 and decrease MSE for Polynomial degree 2 model or not."
   ],
   "metadata": {
    "collapsed": false,
    "pycharm": {
     "name": "#%% md\n"
    }
   }
  },
  {
   "cell_type": "markdown",
   "source": [
    "### Prediction: Step 2 Feature selection - eliminate 'Regional indicator' and 'trustGovernment' features"
   ],
   "metadata": {
    "collapsed": false,
    "pycharm": {
     "name": "#%% md\n"
    }
   }
  },
  {
   "cell_type": "code",
   "execution_count": 251,
   "outputs": [
    {
     "name": "stdout",
     "output_type": "stream",
     "text": [
      "Eliminated Regional indicator and trustGovernment features\n",
      "MSE for polynomial model degree 2 train is 0.2802714460473792\n",
      "MSE for polynomial model degree 2 test is 0.28375499722876985\n",
      "R^2 for polynomial model degree 2 train is 0.7872892353899732\n",
      "R^2 for polynomial model degree 2 test is 0.7472327120921375\n",
      "\n",
      "\n",
      "Eliminated Regional indicator features\n",
      "MSE for polynomial model degree 2 train is 0.27011574966465157\n",
      "MSE for polynomial model degree 2 test is 0.2768391783693554\n",
      "R^2 for polynomial model degree 2 train is 0.7949968558885383\n",
      "R^2 for polynomial model degree 2 test is 0.7533932829854384\n"
     ]
    },
    {
     "name": "stderr",
     "output_type": "stream",
     "text": [
      "/Users/nellyan45/.conda/envs/untitled/lib/python3.8/site-packages/sklearn/linear_model/_base.py:141: FutureWarning: 'normalize' was deprecated in version 1.0 and will be removed in 1.2.\n",
      "If you wish to scale the data, use Pipeline with a StandardScaler in a preprocessing stage. To reproduce the previous behavior:\n",
      "\n",
      "from sklearn.pipeline import make_pipeline\n",
      "\n",
      "model = make_pipeline(StandardScaler(with_mean=False), LinearRegression())\n",
      "\n",
      "If you wish to pass a sample_weight parameter, you need to pass it as a fit parameter to each step of the pipeline as follows:\n",
      "\n",
      "kwargs = {s[0] + '__sample_weight': sample_weight for s in model.steps}\n",
      "model.fit(X, y, **kwargs)\n",
      "\n",
      "\n",
      "  warnings.warn(\n",
      "/Users/nellyan45/.conda/envs/untitled/lib/python3.8/site-packages/sklearn/linear_model/_base.py:141: FutureWarning: 'normalize' was deprecated in version 1.0 and will be removed in 1.2.\n",
      "If you wish to scale the data, use Pipeline with a StandardScaler in a preprocessing stage. To reproduce the previous behavior:\n",
      "\n",
      "from sklearn.pipeline import make_pipeline\n",
      "\n",
      "model = make_pipeline(StandardScaler(with_mean=False), LinearRegression())\n",
      "\n",
      "If you wish to pass a sample_weight parameter, you need to pass it as a fit parameter to each step of the pipeline as follows:\n",
      "\n",
      "kwargs = {s[0] + '__sample_weight': sample_weight for s in model.steps}\n",
      "model.fit(X, y, **kwargs)\n",
      "\n",
      "\n",
      "  warnings.warn(\n"
     ]
    }
   ],
   "source": [
    "# eliminate 'Regional indicator' and 'trustGovernment' features\n",
    "X_train_selected = X_train[['GDPperCap', 'socialSupport', 'healthLE', 'freedom', 'generosity']]\n",
    "X_test_selected = X_test[['GDPperCap', 'socialSupport', 'healthLE', 'freedom', 'generosity']]\n",
    "\n",
    "poly_model = PolynomialFeatures(degree=2)\n",
    "\n",
    "X_poly_train_selected = poly_model.fit_transform(X_train_selected)\n",
    "X_poly_test_selected = poly_model.fit_transform(X_test_selected)\n",
    "\n",
    "lm_poly = LinearRegression(normalize=True)\n",
    "lm_poly.fit(X_poly_train_selected, y_train)\n",
    "y_train_pred_poly_selected = lm_poly.predict(X_poly_train_selected)\n",
    "y_test_pred_poly_selected = lm_poly.predict(X_poly_test_selected)\n",
    "\n",
    "print('Eliminated Regional indicator and trustGovernment features')\n",
    "print('MSE for polynomial model degree 2 train is', mean_squared_error(y_train, y_train_pred_poly_selected))\n",
    "print('MSE for polynomial model degree 2 test is', mean_squared_error(y_test, y_test_pred_poly_selected))\n",
    "print('R^2 for polynomial model degree 2 train is', lm_poly.score(X_poly_train_selected, y_train))\n",
    "print('R^2 for polynomial model degree 2 test is', lm_poly.score(X_poly_test_selected, y_test))\n",
    "print('\\n')\n",
    "\n",
    "# eliminate 'Regional indicator' features\n",
    "print('Eliminated Regional indicator features')\n",
    "X_train_selected = X_train[['GDPperCap', 'socialSupport', 'healthLE', 'freedom', 'generosity', 'trustGovernment']]\n",
    "X_test_selected = X_test[['GDPperCap', 'socialSupport', 'healthLE', 'freedom', 'generosity', 'trustGovernment']]\n",
    "\n",
    "poly_model = PolynomialFeatures(degree=2)\n",
    "\n",
    "X_poly_train_selected = poly_model.fit_transform(X_train_selected)\n",
    "X_poly_test_selected = poly_model.fit_transform(X_test_selected)\n",
    "\n",
    "lm_poly = LinearRegression(normalize=True)\n",
    "lm_poly.fit(X_poly_train_selected, y_train)\n",
    "y_train_pred_poly_selected = lm_poly.predict(X_poly_train_selected)\n",
    "y_test_pred_poly_selected = lm_poly.predict(X_poly_test_selected)\n",
    "\n",
    "print('MSE for polynomial model degree 2 train is', mean_squared_error(y_train, y_train_pred_poly_selected))\n",
    "print('MSE for polynomial model degree 2 test is', mean_squared_error(y_test, y_test_pred_poly_selected))\n",
    "print('R^2 for polynomial model degree 2 train is', lm_poly.score(X_poly_train_selected, y_train))\n",
    "print('R^2 for polynomial model degree 2 test is', lm_poly.score(X_poly_test_selected, y_test))"
   ],
   "metadata": {
    "collapsed": false,
    "pycharm": {
     "name": "#%%\n"
    }
   }
  },
  {
   "cell_type": "markdown",
   "source": [
    "The above code show that dropping any of the feature will increase MSE and reduce R^2 for both of train and test of the Polynomial degree 2 model, therefore, it shows that all features are significant to the model, therefore we should not eliminate any of the features.\n"
   ],
   "metadata": {
    "collapsed": false,
    "pycharm": {
     "name": "#%% md\n"
    }
   }
  },
  {
   "cell_type": "markdown",
   "source": [
    "### Prediction: Step 3 Predict 2020"
   ],
   "metadata": {
    "collapsed": false
   }
  },
  {
   "cell_type": "code",
   "execution_count": null,
   "outputs": [],
   "source": [],
   "metadata": {
    "collapsed": false,
    "pycharm": {
     "name": "#%%\n"
    }
   }
  },
  {
   "cell_type": "markdown",
   "source": [
    "### Reference\n",
    "1. Convert categorical data in pandas dataframe https://stackoverflow.com/questions/32011359/convert-categorical-data-in-pandas-dataframe/46186626\n",
    "2. How do I select rows from a DataFrame based on column values? https://stackoverflow.com/questions/17071871/how-do-i-select-rows-from-a-dataframe-based-on-column-values\n",
    "3. Correlation heatmap https://stackoverflow.com/questions/39409866/correlation-heatmap\n",
    "4. Homework 2 and lab 2 of data mining\n",
    "5.\n"
   ],
   "metadata": {
    "collapsed": false,
    "pycharm": {
     "name": "#%% md\n"
    }
   }
  }
 ],
 "metadata": {
  "kernelspec": {
   "display_name": "Python 3",
   "language": "python",
   "name": "python3"
  },
  "language_info": {
   "codemirror_mode": {
    "name": "ipython",
    "version": 2
   },
   "file_extension": ".py",
   "mimetype": "text/x-python",
   "name": "python",
   "nbconvert_exporter": "python",
   "pygments_lexer": "ipython2",
   "version": "2.7.6"
  }
 },
 "nbformat": 4,
 "nbformat_minor": 0
}