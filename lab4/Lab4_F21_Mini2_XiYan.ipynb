{
 "cells": [
  {
   "cell_type": "markdown",
   "id": "2b4ae730",
   "metadata": {
    "slideshow": {
     "slide_type": "slide"
    }
   },
   "source": [
    "# Lab 4\n",
    "## 95-791 Data Mining (Fall 2021) \n",
    "### Name: Xi Yan\n",
    "#### Date: Friday, December 3rd, 2021\n",
    "\n",
    "### Topics covered in this Lab:\n",
    "- Market Basket Analysis\n",
    "- Jupyter Notebooks Presentations\n"
   ]
  },
  {
   "cell_type": "markdown",
   "id": "b8c28fb8",
   "metadata": {
    "slideshow": {
     "slide_type": "slide"
    }
   },
   "source": [
    "### Changing the author field and file name.\n",
    "\n",
    " (a) Change the `Name:` field on the Jupyter Notebook document by adding your own name.\n",
    "\n",
    " (b) Rename this file to \"Lab4_F21_Mini2_YourHameHere.ipynb\", where YourNameHere is changed to your own name.\n",
    "\n",
    "\n",
    "\n",
    "### Installing and loading packages\n",
    "\n",
    "Before you begin this Lab make sure you have installed all the required libraries. Load the libraries as indicated below.\n",
    "\n",
    "* [nbconvert](https://nbconvert.readthedocs.io/en/latest/install.html)\n",
    "* [mlxtend](http://rasbt.github.io/mlxtend/installation/)\n",
    "* [yellowbrick](https://www.scikit-yb.org/en/latest/quickstart.html)\n",
    "    * In previous Labs we upgraded our scikitlearn to 0.24, therefore make sure you install yellowbrick 1.3 (pip install yellowbrick==1.3). If you install another version just uninstall it and repeat the installation with 1.3.\n",
    "\n",
    "\n",
    "In case you are having trouble with your paths try the following\n",
    "\n",
    "**Windows**\n",
    "* Using python in [windows](https://docs.python.org/3/using/windows.html)\n",
    "* Adding PATH variables in [windows](https://www.educative.io/edpresso/how-to-add-python-to-path-variable-in-windows)\n",
    "* It could also be that pip is not installed in your [conda environment](https://stackoverflow.com/questions/29055393/pip-is-not-recognized-in-anaconda-prompt)\n",
    "* Look at this example of how to add python to your path and replicate for [packages](https://datatofish.com/add-python-to-windows-path/)\n",
    "\n",
    "**Mac/Linux**\n",
    "* Finding modules in [python](https://realpython.com/lessons/why-cant-python-find-my-modules/)\n",
    "* Find out where your `pip` is pointing to by executing: *which pip*\n",
    "* Using pip to install packages to [anaconda](https://stackoverflow.com/questions/41060382/using-pip-to-install-packages-to-anaconda-environment)\n",
    "* If your terminal doesn't even recognize pip, start by: *conda install pip*\n",
    "* Fixing your [PATH](https://landlab.readthedocs.io/en/master/install/correcting_paths.html)\n",
    "\n",
    "\n",
    "Additional problems you might have:\n",
    "* https://stackoverflow.com/questions/21201003/anaconda-not-finding-my-packages-installed-with-pip\n",
    "* https://portal.biohpc.swmed.edu/media/filer_public/3e/e8/3ee83309-a745-43f8-909b-ea6263518896/guide-conda_02-09.pdf\n",
    "\n",
    "\n",
    "\n",
    "You only need to install libraries once.  Once they're installed, you may use them by **importing** the libraries using the `import` command.  For today's lab, you'll want to run the following code"
   ]
  },
  {
   "cell_type": "code",
   "execution_count": 1,
   "id": "efc79682",
   "metadata": {
    "slideshow": {
     "slide_type": "subslide"
    }
   },
   "outputs": [],
   "source": [
    "import numpy as np\n",
    "import pandas as pd\n",
    "import seaborn as sns\n",
    "from matplotlib import pyplot as plt\n",
    "import plotly.express as px\n",
    "#from apyori import apriori\n",
    "from mlxtend.preprocessing import TransactionEncoder\n",
    "from mlxtend.frequent_patterns import apriori\n",
    "from mlxtend.frequent_patterns import association_rules\n",
    "%matplotlib inline\n",
    "plt.style.use('seaborn-white')"
   ]
  },
  {
   "cell_type": "markdown",
   "id": "ead3512b",
   "metadata": {
    "slideshow": {
     "slide_type": "slide"
    }
   },
   "source": [
    "---\n",
    "\n",
    "## Market Basket Analysis"
   ]
  },
  {
   "cell_type": "markdown",
   "id": "66437fe1",
   "metadata": {
    "slideshow": {
     "slide_type": "subslide"
    }
   },
   "source": [
    "- Apriori algorithm from [mlxtend](http://rasbt.github.io/mlxtend/user_guide/frequent_patterns/apriori/)\n",
    "- Apriori algorithm from [apyori](https://pypi.org/project/apyori/)"
   ]
  },
  {
   "cell_type": "markdown",
   "id": "61bae0a7",
   "metadata": {
    "slideshow": {
     "slide_type": "slide"
    }
   },
   "source": [
    "**1)a) Read the products and order_products datasets. Print the first 5 rows of products.**"
   ]
  },
  {
   "cell_type": "code",
   "execution_count": 3,
   "id": "237aaa7c",
   "metadata": {
    "slideshow": {
     "slide_type": "subslide"
    }
   },
   "outputs": [
    {
     "data": {
      "text/html": [
       "<div>\n",
       "<style scoped>\n",
       "    .dataframe tbody tr th:only-of-type {\n",
       "        vertical-align: middle;\n",
       "    }\n",
       "\n",
       "    .dataframe tbody tr th {\n",
       "        vertical-align: top;\n",
       "    }\n",
       "\n",
       "    .dataframe thead th {\n",
       "        text-align: right;\n",
       "    }\n",
       "</style>\n",
       "<table border=\"1\" class=\"dataframe\">\n",
       "  <thead>\n",
       "    <tr style=\"text-align: right;\">\n",
       "      <th></th>\n",
       "      <th>product_id</th>\n",
       "      <th>product_name</th>\n",
       "      <th>aisle_id</th>\n",
       "      <th>department_id</th>\n",
       "    </tr>\n",
       "  </thead>\n",
       "  <tbody>\n",
       "    <tr>\n",
       "      <th>0</th>\n",
       "      <td>1</td>\n",
       "      <td>Chocolate Sandwich Cookies</td>\n",
       "      <td>61</td>\n",
       "      <td>19</td>\n",
       "    </tr>\n",
       "    <tr>\n",
       "      <th>1</th>\n",
       "      <td>2</td>\n",
       "      <td>All-Seasons Salt</td>\n",
       "      <td>104</td>\n",
       "      <td>13</td>\n",
       "    </tr>\n",
       "    <tr>\n",
       "      <th>2</th>\n",
       "      <td>3</td>\n",
       "      <td>Robust Golden Unsweetened Oolong Tea</td>\n",
       "      <td>94</td>\n",
       "      <td>7</td>\n",
       "    </tr>\n",
       "    <tr>\n",
       "      <th>3</th>\n",
       "      <td>4</td>\n",
       "      <td>Smart Ones Classic Favorites Mini Rigatoni Wit...</td>\n",
       "      <td>38</td>\n",
       "      <td>1</td>\n",
       "    </tr>\n",
       "    <tr>\n",
       "      <th>4</th>\n",
       "      <td>5</td>\n",
       "      <td>Green Chile Anytime Sauce</td>\n",
       "      <td>5</td>\n",
       "      <td>13</td>\n",
       "    </tr>\n",
       "  </tbody>\n",
       "</table>\n",
       "</div>"
      ],
      "text/plain": [
       "   product_id                                       product_name  aisle_id  \\\n",
       "0           1                         Chocolate Sandwich Cookies        61   \n",
       "1           2                                   All-Seasons Salt       104   \n",
       "2           3               Robust Golden Unsweetened Oolong Tea        94   \n",
       "3           4  Smart Ones Classic Favorites Mini Rigatoni Wit...        38   \n",
       "4           5                          Green Chile Anytime Sauce         5   \n",
       "\n",
       "   department_id  \n",
       "0             19  \n",
       "1             13  \n",
       "2              7  \n",
       "3              1  \n",
       "4             13  "
      ]
     },
     "execution_count": 3,
     "metadata": {},
     "output_type": "execute_result"
    }
   ],
   "source": [
    "#your code here\n",
    "product = pd.read_csv('products.csv')\n",
    "order = pd.read_csv('order_products.csv')\n",
    "product.head(5)"
   ]
  },
  {
   "cell_type": "code",
   "execution_count": 4,
   "id": "b389f77a",
   "metadata": {
    "pycharm": {
     "name": "#%%\n"
    },
    "slideshow": {
     "slide_type": "subslide"
    }
   },
   "outputs": [
    {
     "data": {
      "text/html": [
       "<div>\n",
       "<style scoped>\n",
       "    .dataframe tbody tr th:only-of-type {\n",
       "        vertical-align: middle;\n",
       "    }\n",
       "\n",
       "    .dataframe tbody tr th {\n",
       "        vertical-align: top;\n",
       "    }\n",
       "\n",
       "    .dataframe thead th {\n",
       "        text-align: right;\n",
       "    }\n",
       "</style>\n",
       "<table border=\"1\" class=\"dataframe\">\n",
       "  <thead>\n",
       "    <tr style=\"text-align: right;\">\n",
       "      <th></th>\n",
       "      <th>order_id</th>\n",
       "      <th>product_id</th>\n",
       "      <th>add_to_cart_order</th>\n",
       "      <th>reordered</th>\n",
       "    </tr>\n",
       "  </thead>\n",
       "  <tbody>\n",
       "    <tr>\n",
       "      <th>0</th>\n",
       "      <td>1</td>\n",
       "      <td>49302</td>\n",
       "      <td>1</td>\n",
       "      <td>1</td>\n",
       "    </tr>\n",
       "    <tr>\n",
       "      <th>1</th>\n",
       "      <td>1</td>\n",
       "      <td>11109</td>\n",
       "      <td>2</td>\n",
       "      <td>1</td>\n",
       "    </tr>\n",
       "    <tr>\n",
       "      <th>2</th>\n",
       "      <td>1</td>\n",
       "      <td>10246</td>\n",
       "      <td>3</td>\n",
       "      <td>0</td>\n",
       "    </tr>\n",
       "    <tr>\n",
       "      <th>3</th>\n",
       "      <td>1</td>\n",
       "      <td>49683</td>\n",
       "      <td>4</td>\n",
       "      <td>0</td>\n",
       "    </tr>\n",
       "    <tr>\n",
       "      <th>4</th>\n",
       "      <td>1</td>\n",
       "      <td>43633</td>\n",
       "      <td>5</td>\n",
       "      <td>1</td>\n",
       "    </tr>\n",
       "  </tbody>\n",
       "</table>\n",
       "</div>"
      ],
      "text/plain": [
       "   order_id  product_id  add_to_cart_order  reordered\n",
       "0         1       49302                  1          1\n",
       "1         1       11109                  2          1\n",
       "2         1       10246                  3          0\n",
       "3         1       49683                  4          0\n",
       "4         1       43633                  5          1"
      ]
     },
     "execution_count": 4,
     "metadata": {},
     "output_type": "execute_result"
    }
   ],
   "source": [
    "order.head(5)"
   ]
  },
  {
   "cell_type": "markdown",
   "id": "b9203689",
   "metadata": {
    "slideshow": {
     "slide_type": "slide"
    }
   },
   "source": [
    "**1)b) Join products and order_products into a single dataframe called `basket`. You can us the `product_id` as the common columns. Then sort this joined `basket` dataframe by `order_id` and print the first 5 rows.**"
   ]
  },
  {
   "cell_type": "code",
   "execution_count": 10,
   "id": "20419240",
   "metadata": {
    "slideshow": {
     "slide_type": "subslide"
    }
   },
   "outputs": [
    {
     "data": {
      "text/html": [
       "<div>\n",
       "<style scoped>\n",
       "    .dataframe tbody tr th:only-of-type {\n",
       "        vertical-align: middle;\n",
       "    }\n",
       "\n",
       "    .dataframe tbody tr th {\n",
       "        vertical-align: top;\n",
       "    }\n",
       "\n",
       "    .dataframe thead th {\n",
       "        text-align: right;\n",
       "    }\n",
       "</style>\n",
       "<table border=\"1\" class=\"dataframe\">\n",
       "  <thead>\n",
       "    <tr style=\"text-align: right;\">\n",
       "      <th></th>\n",
       "      <th>product_id</th>\n",
       "      <th>product_name</th>\n",
       "      <th>aisle_id</th>\n",
       "      <th>department_id</th>\n",
       "      <th>order_id</th>\n",
       "      <th>add_to_cart_order</th>\n",
       "      <th>reordered</th>\n",
       "    </tr>\n",
       "  </thead>\n",
       "  <tbody>\n",
       "    <tr>\n",
       "      <th>588447</th>\n",
       "      <td>22035</td>\n",
       "      <td>Organic Whole String Cheese</td>\n",
       "      <td>21</td>\n",
       "      <td>16</td>\n",
       "      <td>1</td>\n",
       "      <td>8</td>\n",
       "      <td>1</td>\n",
       "    </tr>\n",
       "    <tr>\n",
       "      <th>256931</th>\n",
       "      <td>10246</td>\n",
       "      <td>Organic Celery Hearts</td>\n",
       "      <td>83</td>\n",
       "      <td>4</td>\n",
       "      <td>1</td>\n",
       "      <td>3</td>\n",
       "      <td>0</td>\n",
       "    </tr>\n",
       "    <tr>\n",
       "      <th>277441</th>\n",
       "      <td>11109</td>\n",
       "      <td>Organic 4% Milk Fat Whole Milk Cottage Cheese</td>\n",
       "      <td>108</td>\n",
       "      <td>16</td>\n",
       "      <td>1</td>\n",
       "      <td>2</td>\n",
       "      <td>1</td>\n",
       "    </tr>\n",
       "    <tr>\n",
       "      <th>1194893</th>\n",
       "      <td>43633</td>\n",
       "      <td>Lightly Smoked Sardines in Olive Oil</td>\n",
       "      <td>95</td>\n",
       "      <td>15</td>\n",
       "      <td>1</td>\n",
       "      <td>5</td>\n",
       "      <td>1</td>\n",
       "    </tr>\n",
       "    <tr>\n",
       "      <th>1302365</th>\n",
       "      <td>47209</td>\n",
       "      <td>Organic Hass Avocado</td>\n",
       "      <td>24</td>\n",
       "      <td>4</td>\n",
       "      <td>1</td>\n",
       "      <td>7</td>\n",
       "      <td>0</td>\n",
       "    </tr>\n",
       "  </tbody>\n",
       "</table>\n",
       "</div>"
      ],
      "text/plain": [
       "         product_id                                   product_name  aisle_id  \\\n",
       "588447        22035                    Organic Whole String Cheese        21   \n",
       "256931        10246                          Organic Celery Hearts        83   \n",
       "277441        11109  Organic 4% Milk Fat Whole Milk Cottage Cheese       108   \n",
       "1194893       43633           Lightly Smoked Sardines in Olive Oil        95   \n",
       "1302365       47209                           Organic Hass Avocado        24   \n",
       "\n",
       "         department_id  order_id  add_to_cart_order  reordered  \n",
       "588447              16         1                  8          1  \n",
       "256931               4         1                  3          0  \n",
       "277441              16         1                  2          1  \n",
       "1194893             15         1                  5          1  \n",
       "1302365              4         1                  7          0  "
      ]
     },
     "execution_count": 10,
     "metadata": {},
     "output_type": "execute_result"
    }
   ],
   "source": [
    "#your code here\n",
    "basket = pd.merge(product, order, on=['product_id'])\n",
    "basket = basket.sort_values(by=['order_id'])\n",
    "basket.head(5)"
   ]
  },
  {
   "cell_type": "markdown",
   "id": "0cc04c89",
   "metadata": {
    "slideshow": {
     "slide_type": "slide"
    }
   },
   "source": [
    "**1)c) Run the line below to create your transactions. Print out the first five rows of your transactions.**"
   ]
  },
  {
   "cell_type": "code",
   "execution_count": 11,
   "id": "c62b5e1f",
   "metadata": {
    "slideshow": {
     "slide_type": "subslide"
    }
   },
   "outputs": [
    {
     "data": {
      "text/html": [
       "<div>\n",
       "<style scoped>\n",
       "    .dataframe tbody tr th:only-of-type {\n",
       "        vertical-align: middle;\n",
       "    }\n",
       "\n",
       "    .dataframe tbody tr th {\n",
       "        vertical-align: top;\n",
       "    }\n",
       "\n",
       "    .dataframe thead th {\n",
       "        text-align: right;\n",
       "    }\n",
       "</style>\n",
       "<table border=\"1\" class=\"dataframe\">\n",
       "  <thead>\n",
       "    <tr style=\"text-align: right;\">\n",
       "      <th></th>\n",
       "      <th>order_id</th>\n",
       "      <th>items</th>\n",
       "    </tr>\n",
       "  </thead>\n",
       "  <tbody>\n",
       "    <tr>\n",
       "      <th>0</th>\n",
       "      <td>1</td>\n",
       "      <td>[Organic Whole String Cheese, Organic Celery H...</td>\n",
       "    </tr>\n",
       "    <tr>\n",
       "      <th>1</th>\n",
       "      <td>36</td>\n",
       "      <td>[Super Greens Salad, Spring Water, Organic Gar...</td>\n",
       "    </tr>\n",
       "    <tr>\n",
       "      <th>2</th>\n",
       "      <td>38</td>\n",
       "      <td>[Green Peas, Organic Baby Arugula, Shelled Pis...</td>\n",
       "    </tr>\n",
       "    <tr>\n",
       "      <th>3</th>\n",
       "      <td>96</td>\n",
       "      <td>[Organic Raspberries, Organic Pomegranate Kern...</td>\n",
       "    </tr>\n",
       "    <tr>\n",
       "      <th>4</th>\n",
       "      <td>98</td>\n",
       "      <td>[Uncured Applewood Smoked Bacon, Black Beans, ...</td>\n",
       "    </tr>\n",
       "  </tbody>\n",
       "</table>\n",
       "</div>"
      ],
      "text/plain": [
       "   order_id                                              items\n",
       "0         1  [Organic Whole String Cheese, Organic Celery H...\n",
       "1        36  [Super Greens Salad, Spring Water, Organic Gar...\n",
       "2        38  [Green Peas, Organic Baby Arugula, Shelled Pis...\n",
       "3        96  [Organic Raspberries, Organic Pomegranate Kern...\n",
       "4        98  [Uncured Applewood Smoked Bacon, Black Beans, ..."
      ]
     },
     "execution_count": 11,
     "metadata": {},
     "output_type": "execute_result"
    }
   ],
   "source": [
    "transactions = basket.groupby(\"order_id\")['product_name'].apply(list).reset_index(name='items')\n",
    "#your code here\n",
    "transactions.head(5)"
   ]
  },
  {
   "cell_type": "markdown",
   "id": "57aafddf",
   "metadata": {
    "slideshow": {
     "slide_type": "slide"
    }
   },
   "source": [
    "**1)d) Run the code above. Pick a random number from 50-100, and print out the equivalent transaction. What items does your transaction contain?**"
   ]
  },
  {
   "cell_type": "code",
   "execution_count": 13,
   "id": "6e66eb50",
   "metadata": {
    "slideshow": {
     "slide_type": "subslide"
    }
   },
   "outputs": [
    {
     "name": "stdout",
     "output_type": "stream",
     "text": [
      "order_id                                                 2853\n",
      "items       [Organic Avocados 5 Count, Clementines, Organi...\n",
      "Name: 77, dtype: object\n"
     ]
    }
   ],
   "source": [
    "#your code here\n",
    "print(transactions.iloc[77])"
   ]
  },
  {
   "cell_type": "markdown",
   "id": "3197f24e",
   "metadata": {
    "slideshow": {
     "slide_type": "subslide"
    }
   },
   "source": [
    "--> Your answer here\n",
    "\n",
    "The item lists are 'Organic Avocados 5 Count', 'Clementines', 'Organic Blueberries Clamshell', 'Original Hawaiian Sweet Rolls'\n"
   ]
  },
  {
   "cell_type": "markdown",
   "id": "473d57d1",
   "metadata": {
    "slideshow": {
     "slide_type": "slide"
    }
   },
   "source": [
    "**2)e) Run the [TransactionEncoder](http://rasbt.github.io/mlxtend/user_guide/preprocessing/TransactionEncoder/) on your dataset and display the encoded dataframe.**\n",
    "\n",
    "Steps:\n",
    "1. Create an object of TransactionEncoder()\n",
    "2. Create a variable and assign your fitted and transorformed object from 1 to it. It should look something like this:\n",
    "    * your_variable = your_prev_variable.fit(your_dataset).transform(your_dataset)\n",
    "    * For the previous code consider that you don't need the whole dataset, just the items.\n",
    "3. Turn step 2 into a dataframe, where the content is the output from 2. Be sure to name your columns (you can get these from step 1).\n",
    "4. Print out your dataframe"
   ]
  },
  {
   "cell_type": "code",
   "execution_count": 31,
   "id": "f9c6b0b2",
   "metadata": {
    "slideshow": {
     "slide_type": "subslide"
    }
   },
   "outputs": [
    {
     "name": "stdout",
     "output_type": "stream",
     "text": [
      "        #2 Coffee Filters  #2 Cone White Coffee Filters  \\\n",
      "0                   False                         False   \n",
      "1                   False                         False   \n",
      "2                   False                         False   \n",
      "3                   False                         False   \n",
      "4                   False                         False   \n",
      "...                   ...                           ...   \n",
      "131204              False                         False   \n",
      "131205              False                         False   \n",
      "131206              False                         False   \n",
      "131207              False                         False   \n",
      "131208              False                         False   \n",
      "\n",
      "        #2 Mechanical Pencils  #4 Natural Brown Coffee Filters  \\\n",
      "0                       False                            False   \n",
      "1                       False                            False   \n",
      "2                       False                            False   \n",
      "3                       False                            False   \n",
      "4                       False                            False   \n",
      "...                       ...                              ...   \n",
      "131204                  False                            False   \n",
      "131205                  False                            False   \n",
      "131206                  False                            False   \n",
      "131207                  False                            False   \n",
      "131208                  False                            False   \n",
      "\n",
      "        & Go! Hazelnut Spread + Pretzel Sticks  \\\n",
      "0                                        False   \n",
      "1                                        False   \n",
      "2                                        False   \n",
      "3                                        False   \n",
      "4                                        False   \n",
      "...                                        ...   \n",
      "131204                                   False   \n",
      "131205                                   False   \n",
      "131206                                   False   \n",
      "131207                                   False   \n",
      "131208                                   False   \n",
      "\n",
      "        +Energy Black Cherry Vegetable & Fruit Juice  \\\n",
      "0                                              False   \n",
      "1                                              False   \n",
      "2                                              False   \n",
      "3                                              False   \n",
      "4                                              False   \n",
      "...                                              ...   \n",
      "131204                                         False   \n",
      "131205                                         False   \n",
      "131206                                         False   \n",
      "131207                                         False   \n",
      "131208                                         False   \n",
      "\n",
      "        0 Calorie Acai Raspberry Water Beverage  \\\n",
      "0                                         False   \n",
      "1                                         False   \n",
      "2                                         False   \n",
      "3                                         False   \n",
      "4                                         False   \n",
      "...                                         ...   \n",
      "131204                                    False   \n",
      "131205                                    False   \n",
      "131206                                    False   \n",
      "131207                                    False   \n",
      "131208                                    False   \n",
      "\n",
      "        0 Calorie Fuji Apple Pear Water Beverage  \\\n",
      "0                                          False   \n",
      "1                                          False   \n",
      "2                                          False   \n",
      "3                                          False   \n",
      "4                                          False   \n",
      "...                                          ...   \n",
      "131204                                     False   \n",
      "131205                                     False   \n",
      "131206                                     False   \n",
      "131207                                     False   \n",
      "131208                                     False   \n",
      "\n",
      "        0 Calorie Strawberry Dragonfruit Water Beverage  \\\n",
      "0                                                 False   \n",
      "1                                                 False   \n",
      "2                                                 False   \n",
      "3                                                 False   \n",
      "4                                                 False   \n",
      "...                                                 ...   \n",
      "131204                                            False   \n",
      "131205                                            False   \n",
      "131206                                            False   \n",
      "131207                                            False   \n",
      "131208                                            False   \n",
      "\n",
      "        0% Fat Black Cherry Greek Yogurt y  ...  \\\n",
      "0                                    False  ...   \n",
      "1                                    False  ...   \n",
      "2                                    False  ...   \n",
      "3                                    False  ...   \n",
      "4                                    False  ...   \n",
      "...                                    ...  ...   \n",
      "131204                               False  ...   \n",
      "131205                               False  ...   \n",
      "131206                               False  ...   \n",
      "131207                               False  ...   \n",
      "131208                               False  ...   \n",
      "\n",
      "        with Sweet Cinnamon Bunches Cereal  \\\n",
      "0                                    False   \n",
      "1                                    False   \n",
      "2                                    False   \n",
      "3                                    False   \n",
      "4                                    False   \n",
      "...                                    ...   \n",
      "131204                               False   \n",
      "131205                               False   \n",
      "131206                               False   \n",
      "131207                               False   \n",
      "131208                               False   \n",
      "\n",
      "        with Xylitol Cinnamon 18 Sticks Sugar Free Gum  \\\n",
      "0                                                False   \n",
      "1                                                False   \n",
      "2                                                False   \n",
      "3                                                False   \n",
      "4                                                False   \n",
      "...                                                ...   \n",
      "131204                                           False   \n",
      "131205                                           False   \n",
      "131206                                           False   \n",
      "131207                                           False   \n",
      "131208                                           False   \n",
      "\n",
      "        with Xylitol Island Berry Lime 18 Sticks Sugar Free Gum  \\\n",
      "0                                                   False         \n",
      "1                                                   False         \n",
      "2                                                   False         \n",
      "3                                                   False         \n",
      "4                                                   False         \n",
      "...                                                   ...         \n",
      "131204                                              False         \n",
      "131205                                              False         \n",
      "131206                                              False         \n",
      "131207                                              False         \n",
      "131208                                              False         \n",
      "\n",
      "        with Xylitol Minty Sweet Twist 18 Sticks Sugar Free Gum  \\\n",
      "0                                                   False         \n",
      "1                                                   False         \n",
      "2                                                   False         \n",
      "3                                                   False         \n",
      "4                                                   False         \n",
      "...                                                   ...         \n",
      "131204                                              False         \n",
      "131205                                              False         \n",
      "131206                                              False         \n",
      "131207                                              False         \n",
      "131208                                              False         \n",
      "\n",
      "        with Xylitol Original Flavor 18 Sticks Sugar Free Gum  \\\n",
      "0                                                   False       \n",
      "1                                                   False       \n",
      "2                                                   False       \n",
      "3                                                   False       \n",
      "4                                                   False       \n",
      "...                                                   ...       \n",
      "131204                                              False       \n",
      "131205                                              False       \n",
      "131206                                              False       \n",
      "131207                                              False       \n",
      "131208                                              False       \n",
      "\n",
      "        with Xylitol Unwrapped Original Flavor 50 Sticks Sugar Free Gum  \\\n",
      "0                                                   False                 \n",
      "1                                                   False                 \n",
      "2                                                   False                 \n",
      "3                                                   False                 \n",
      "4                                                   False                 \n",
      "...                                                   ...                 \n",
      "131204                                              False                 \n",
      "131205                                              False                 \n",
      "131206                                              False                 \n",
      "131207                                              False                 \n",
      "131208                                              False                 \n",
      "\n",
      "        with Xylitol Unwrapped Spearmint 50 Sticks Sugar Free Gum  \\\n",
      "0                                                   False           \n",
      "1                                                   False           \n",
      "2                                                   False           \n",
      "3                                                   False           \n",
      "4                                                   False           \n",
      "...                                                   ...           \n",
      "131204                                              False           \n",
      "131205                                              False           \n",
      "131206                                              False           \n",
      "131207                                              False           \n",
      "131208                                              False           \n",
      "\n",
      "        with Xylitol Watermelon Twist 18 Sticks Sugar Free Gum  \\\n",
      "0                                                   False        \n",
      "1                                                   False        \n",
      "2                                                   False        \n",
      "3                                                   False        \n",
      "4                                                   False        \n",
      "...                                                   ...        \n",
      "131204                                              False        \n",
      "131205                                              False        \n",
      "131206                                              False        \n",
      "131207                                              False        \n",
      "131208                                              False        \n",
      "\n",
      "        with a Splash of Mango Coconut Water  \\\n",
      "0                                      False   \n",
      "1                                      False   \n",
      "2                                      False   \n",
      "3                                      False   \n",
      "4                                      False   \n",
      "...                                      ...   \n",
      "131204                                 False   \n",
      "131205                                 False   \n",
      "131206                                 False   \n",
      "131207                                 False   \n",
      "131208                                 False   \n",
      "\n",
      "        with a Splash of Pineapple Coconut Water  \n",
      "0                                          False  \n",
      "1                                          False  \n",
      "2                                          False  \n",
      "3                                          False  \n",
      "4                                          False  \n",
      "...                                          ...  \n",
      "131204                                     False  \n",
      "131205                                     False  \n",
      "131206                                     False  \n",
      "131207                                     False  \n",
      "131208                                     False  \n",
      "\n",
      "[131209 rows x 39123 columns]\n"
     ]
    }
   ],
   "source": [
    "#your code here\n",
    "encoder = TransactionEncoder()\n",
    "enc = encoder.fit(transactions['items']).transform(transactions['items'])\n",
    "enc = pd.DataFrame(enc, columns=encoder.columns_)\n",
    "print(enc)"
   ]
  },
  {
   "cell_type": "markdown",
   "id": "f5d86c28",
   "metadata": {
    "slideshow": {
     "slide_type": "slide"
    }
   },
   "source": [
    "**2)f) Before we can create association rules, we must obtain the most frequent item sets through the [apriori](http://rasbt.github.io/mlxtend/user_guide/frequent_patterns/apriori/) algorithm. You might need to play around with a min_support for this dataset to determine a good threshold. Print your frequent itemsets dataset.**\n",
    "\n",
    "Hint: apriori(your_dataset, min_support=your_threshold)"
   ]
  },
  {
   "cell_type": "code",
   "execution_count": 35,
   "id": "2ec5577c",
   "metadata": {
    "slideshow": {
     "slide_type": "subslide"
    }
   },
   "outputs": [
    {
     "name": "stdout",
     "output_type": "stream",
     "text": [
      "      support        itemsets\n",
      "0    0.017514           (381)\n",
      "1    0.011737           (541)\n",
      "2    0.017163          (2000)\n",
      "3    0.029480          (2289)\n",
      "4    0.117980          (2641)\n",
      "..        ...             ...\n",
      "115  0.010281  (22465, 17475)\n",
      "116  0.010685  (22496, 22465)\n",
      "117  0.012492  (22496, 25128)\n",
      "118  0.011729  (23736, 25128)\n",
      "119  0.012728  (24656, 25128)\n",
      "\n",
      "[120 rows x 2 columns]\n"
     ]
    }
   ],
   "source": [
    "#your code here\n",
    "ap = apriori(enc, min_support=0.01)\n",
    "print(ap)"
   ]
  },
  {
   "cell_type": "markdown",
   "id": "fc841c0f",
   "metadata": {
    "slideshow": {
     "slide_type": "notes"
    }
   },
   "source": [
    "**Metrics we looked at in class:**\n",
    "\n",
    "- $support(A->C) = support(A+C)$\n",
    "    * range: [0, 1]\n",
    "    * Support is used to measure the abundance or frequency of items. \n",
    "\n",
    "\n",
    "- $confidence(A->C) = support(A+C) / support(A)$\n",
    "    * range: [0, 1]\n",
    "    * Probability of seeing item/s C in a transaction given that it also contains item/s A.\n",
    "\n",
    "\n",
    "- $lift(A->C) = confidence(A->C) / support(C)$ \n",
    "    * range: [0, inf]\n",
    "    * Measure of how ofter A->C happen together. If A and C are independent this score is exactly 1. \n",
    "\n",
    "\n",
    "**Other Metrics:**\n",
    "\n",
    "- $leverage(A->C) = support(A->C) - support(A)*support(C)$\n",
    "    * range: [-1, 1]\n",
    "\n",
    "\n",
    "- $conviction = [1 - support(C)] / [1 - confidence(A->C)]$ \n",
    "    * range: [0, inf]\n",
    "\n",
    "Read more about them [here](http://rasbt.github.io/mlxtend/user_guide/frequent_patterns/association_rules/)"
   ]
  },
  {
   "cell_type": "markdown",
   "id": "f648b091",
   "metadata": {
    "slideshow": {
     "slide_type": "slide"
    }
   },
   "source": [
    "**1)g) Now you are ready to generate [association rules](http://rasbt.github.io/mlxtend/user_guide/frequent_patterns/association_rules/)! Use the function below on your frequent itemsets. Use `support` as your metric. You will need to test a few thresholds. Print out the rules, sorting them by the `support`**"
   ]
  },
  {
   "cell_type": "code",
   "execution_count": 42,
   "id": "bbf91538",
   "metadata": {
    "slideshow": {
     "slide_type": "subslide"
    }
   },
   "outputs": [
    {
     "name": "stdout",
     "output_type": "stream",
     "text": [
      "   antecedents consequents  antecedent support  consequent support   support  \\\n",
      "10     (18278)      (2814)            0.045980            0.142719  0.010144   \n",
      "11      (2814)     (18278)            0.142719            0.045980  0.010144   \n",
      "23     (17475)     (22465)            0.062000            0.056467  0.010281   \n",
      "22     (22465)     (17475)            0.056467            0.062000  0.010281   \n",
      "24     (22496)     (22465)            0.074568            0.056467  0.010685   \n",
      "25     (22465)     (22496)            0.056467            0.074568  0.010685   \n",
      "29     (25128)     (23736)            0.083028            0.055583  0.011729   \n",
      "28     (23736)     (25128)            0.055583            0.083028  0.011729   \n",
      "20     (17475)     (18278)            0.062000            0.045980  0.012156   \n",
      "21     (18278)     (17475)            0.045980            0.062000  0.012156   \n",
      "27     (25128)     (22496)            0.083028            0.074568  0.012492   \n",
      "26     (22496)     (25128)            0.074568            0.083028  0.012492   \n",
      "30     (24656)     (25128)            0.042268            0.083028  0.012728   \n",
      "31     (25128)     (24656)            0.083028            0.042268  0.012728   \n",
      "5       (2641)     (24656)            0.117980            0.042268  0.013566   \n",
      "4      (24656)      (2641)            0.042268            0.117980  0.013566   \n",
      "19      (2814)     (33836)            0.142719            0.049494  0.014847   \n",
      "18     (33836)      (2814)            0.049494            0.142719  0.014847   \n",
      "15      (2814)     (22496)            0.142719            0.074568  0.015243   \n",
      "14     (22496)      (2814)            0.074568            0.142719  0.015243   \n",
      "9       (2814)     (17475)            0.142719            0.062000  0.016447   \n",
      "8      (17475)      (2814)            0.062000            0.142719  0.016447   \n",
      "16     (25128)      (2814)            0.083028            0.142719  0.016569   \n",
      "17      (2814)     (25128)            0.142719            0.083028  0.016569   \n",
      "13      (2814)     (22465)            0.142719            0.056467  0.016889   \n",
      "12     (22465)      (2814)            0.056467            0.142719  0.016889   \n",
      "1       (2641)     (22496)            0.117980            0.074568  0.017042   \n",
      "0      (22496)      (2641)            0.074568            0.117980  0.017042   \n",
      "3       (2641)     (23736)            0.117980            0.055583  0.018444   \n",
      "2      (23736)      (2641)            0.055583            0.117980  0.018444   \n",
      "7       (2641)     (25128)            0.117980            0.083028  0.023428   \n",
      "6      (25128)      (2641)            0.083028            0.117980  0.023428   \n",
      "\n",
      "    confidence      lift  leverage  conviction  \n",
      "10    0.220620  1.545836  0.003582    1.099953  \n",
      "11    0.071078  1.545836  0.003582    1.027018  \n",
      "23    0.165827  2.936692  0.006780    1.131099  \n",
      "22    0.182076  2.936692  0.006780    1.146805  \n",
      "24    0.143295  2.537673  0.006475    1.101351  \n",
      "25    0.189229  2.537673  0.006475    1.141423  \n",
      "29    0.141270  2.541609  0.007114    1.099784  \n",
      "28    0.211024  2.541609  0.007114    1.162231  \n",
      "20    0.196066  4.264159  0.009305    1.186690  \n",
      "21    0.264379  4.264159  0.009305    1.275113  \n",
      "27    0.150450  2.017617  0.006300    1.089320  \n",
      "26    0.167518  2.017617  0.006300    1.101492  \n",
      "30    0.301118  3.626710  0.009218    1.312056  \n",
      "31    0.153295  3.626710  0.009218    1.131128  \n",
      "5     0.114987  2.720400  0.008579    1.082167  \n",
      "4     0.320952  2.720400  0.008579    1.298907  \n",
      "19    0.104026  2.101819  0.007783    1.060864  \n",
      "18    0.299969  2.101819  0.007783    1.224633  \n",
      "15    0.106803  1.432294  0.004601    1.036090  \n",
      "14    0.204415  1.432294  0.004601    1.077549  \n",
      "9     0.115241  1.858714  0.007598    1.060175  \n",
      "8     0.265274  1.858714  0.007598    1.166803  \n",
      "16    0.199559  1.398269  0.004719    1.071012  \n",
      "17    0.116095  1.398269  0.004719    1.037411  \n",
      "13    0.118338  2.095698  0.008830    1.070175  \n",
      "12    0.299096  2.095698  0.008830    1.223107  \n",
      "1     0.144444  1.937082  0.008244    1.081674  \n",
      "0     0.228536  1.937082  0.008244    1.143308  \n",
      "3     0.156331  2.812560  0.011886    1.119416  \n",
      "2     0.331825  2.812560  0.011886    1.320044  \n",
      "7     0.198579  2.391714  0.013633    1.144183  \n",
      "6     0.282174  2.391714  0.013633    1.228738  \n"
     ]
    }
   ],
   "source": [
    "sup1 = association_rules(ap, metric='support', min_threshold=0.01)\n",
    "sup1 = sup1.sort_values(by=['support'])\n",
    "print(sup1)\n"
   ]
  },
  {
   "cell_type": "code",
   "execution_count": 45,
   "id": "6389974a",
   "metadata": {
    "pycharm": {
     "name": "#%%\n"
    },
    "slideshow": {
     "slide_type": "subslide"
    }
   },
   "outputs": [
    {
     "name": "stdout",
     "output_type": "stream",
     "text": [
      "   antecedents consequents  antecedent support  consequent support   support  \\\n",
      "10     (18278)      (2814)            0.045980            0.142719  0.010144   \n",
      "11      (2814)     (18278)            0.142719            0.045980  0.010144   \n",
      "23     (17475)     (22465)            0.062000            0.056467  0.010281   \n",
      "22     (22465)     (17475)            0.056467            0.062000  0.010281   \n",
      "24     (22496)     (22465)            0.074568            0.056467  0.010685   \n",
      "25     (22465)     (22496)            0.056467            0.074568  0.010685   \n",
      "29     (25128)     (23736)            0.083028            0.055583  0.011729   \n",
      "28     (23736)     (25128)            0.055583            0.083028  0.011729   \n",
      "20     (17475)     (18278)            0.062000            0.045980  0.012156   \n",
      "21     (18278)     (17475)            0.045980            0.062000  0.012156   \n",
      "27     (25128)     (22496)            0.083028            0.074568  0.012492   \n",
      "26     (22496)     (25128)            0.074568            0.083028  0.012492   \n",
      "30     (24656)     (25128)            0.042268            0.083028  0.012728   \n",
      "31     (25128)     (24656)            0.083028            0.042268  0.012728   \n",
      "4      (24656)      (2641)            0.042268            0.117980  0.013566   \n",
      "5       (2641)     (24656)            0.117980            0.042268  0.013566   \n",
      "19      (2814)     (33836)            0.142719            0.049494  0.014847   \n",
      "18     (33836)      (2814)            0.049494            0.142719  0.014847   \n",
      "15      (2814)     (22496)            0.142719            0.074568  0.015243   \n",
      "14     (22496)      (2814)            0.074568            0.142719  0.015243   \n",
      "9       (2814)     (17475)            0.142719            0.062000  0.016447   \n",
      "8      (17475)      (2814)            0.062000            0.142719  0.016447   \n",
      "17      (2814)     (25128)            0.142719            0.083028  0.016569   \n",
      "16     (25128)      (2814)            0.083028            0.142719  0.016569   \n",
      "13      (2814)     (22465)            0.142719            0.056467  0.016889   \n",
      "12     (22465)      (2814)            0.056467            0.142719  0.016889   \n",
      "1       (2641)     (22496)            0.117980            0.074568  0.017042   \n",
      "0      (22496)      (2641)            0.074568            0.117980  0.017042   \n",
      "3       (2641)     (23736)            0.117980            0.055583  0.018444   \n",
      "2      (23736)      (2641)            0.055583            0.117980  0.018444   \n",
      "7       (2641)     (25128)            0.117980            0.083028  0.023428   \n",
      "6      (25128)      (2641)            0.083028            0.117980  0.023428   \n",
      "\n",
      "    confidence      lift  leverage  conviction  \n",
      "10    0.220620  1.545836  0.003582    1.099953  \n",
      "11    0.071078  1.545836  0.003582    1.027018  \n",
      "23    0.165827  2.936692  0.006780    1.131099  \n",
      "22    0.182076  2.936692  0.006780    1.146805  \n",
      "24    0.143295  2.537673  0.006475    1.101351  \n",
      "25    0.189229  2.537673  0.006475    1.141423  \n",
      "29    0.141270  2.541609  0.007114    1.099784  \n",
      "28    0.211024  2.541609  0.007114    1.162231  \n",
      "20    0.196066  4.264159  0.009305    1.186690  \n",
      "21    0.264379  4.264159  0.009305    1.275113  \n",
      "27    0.150450  2.017617  0.006300    1.089320  \n",
      "26    0.167518  2.017617  0.006300    1.101492  \n",
      "30    0.301118  3.626710  0.009218    1.312056  \n",
      "31    0.153295  3.626710  0.009218    1.131128  \n",
      "4     0.320952  2.720400  0.008579    1.298907  \n",
      "5     0.114987  2.720400  0.008579    1.082167  \n",
      "19    0.104026  2.101819  0.007783    1.060864  \n",
      "18    0.299969  2.101819  0.007783    1.224633  \n",
      "15    0.106803  1.432294  0.004601    1.036090  \n",
      "14    0.204415  1.432294  0.004601    1.077549  \n",
      "9     0.115241  1.858714  0.007598    1.060175  \n",
      "8     0.265274  1.858714  0.007598    1.166803  \n",
      "17    0.116095  1.398269  0.004719    1.037411  \n",
      "16    0.199559  1.398269  0.004719    1.071012  \n",
      "13    0.118338  2.095698  0.008830    1.070175  \n",
      "12    0.299096  2.095698  0.008830    1.223107  \n",
      "1     0.144444  1.937082  0.008244    1.081674  \n",
      "0     0.228536  1.937082  0.008244    1.143308  \n",
      "3     0.156331  2.812560  0.011886    1.119416  \n",
      "2     0.331825  2.812560  0.011886    1.320044  \n",
      "7     0.198579  2.391714  0.013633    1.144183  \n",
      "6     0.282174  2.391714  0.013633    1.228738  \n"
     ]
    }
   ],
   "source": [
    "sup2 = association_rules(ap, metric='support', min_threshold=0.001)\n",
    "sup2 = sup1.sort_values(by=['support'])\n",
    "print(sup2)"
   ]
  },
  {
   "cell_type": "code",
   "execution_count": 46,
   "id": "b1d0ed20",
   "metadata": {
    "pycharm": {
     "name": "#%%\n"
    },
    "slideshow": {
     "slide_type": "subslide"
    }
   },
   "outputs": [
    {
     "name": "stdout",
     "output_type": "stream",
     "text": [
      "   antecedents consequents  antecedent support  consequent support   support  \\\n",
      "10     (18278)      (2814)            0.045980            0.142719  0.010144   \n",
      "11      (2814)     (18278)            0.142719            0.045980  0.010144   \n",
      "23     (17475)     (22465)            0.062000            0.056467  0.010281   \n",
      "22     (22465)     (17475)            0.056467            0.062000  0.010281   \n",
      "24     (22496)     (22465)            0.074568            0.056467  0.010685   \n",
      "25     (22465)     (22496)            0.056467            0.074568  0.010685   \n",
      "29     (25128)     (23736)            0.083028            0.055583  0.011729   \n",
      "28     (23736)     (25128)            0.055583            0.083028  0.011729   \n",
      "20     (17475)     (18278)            0.062000            0.045980  0.012156   \n",
      "21     (18278)     (17475)            0.045980            0.062000  0.012156   \n",
      "27     (25128)     (22496)            0.083028            0.074568  0.012492   \n",
      "26     (22496)     (25128)            0.074568            0.083028  0.012492   \n",
      "30     (24656)     (25128)            0.042268            0.083028  0.012728   \n",
      "31     (25128)     (24656)            0.083028            0.042268  0.012728   \n",
      "4      (24656)      (2641)            0.042268            0.117980  0.013566   \n",
      "5       (2641)     (24656)            0.117980            0.042268  0.013566   \n",
      "19      (2814)     (33836)            0.142719            0.049494  0.014847   \n",
      "18     (33836)      (2814)            0.049494            0.142719  0.014847   \n",
      "15      (2814)     (22496)            0.142719            0.074568  0.015243   \n",
      "14     (22496)      (2814)            0.074568            0.142719  0.015243   \n",
      "9       (2814)     (17475)            0.142719            0.062000  0.016447   \n",
      "8      (17475)      (2814)            0.062000            0.142719  0.016447   \n",
      "17      (2814)     (25128)            0.142719            0.083028  0.016569   \n",
      "16     (25128)      (2814)            0.083028            0.142719  0.016569   \n",
      "13      (2814)     (22465)            0.142719            0.056467  0.016889   \n",
      "12     (22465)      (2814)            0.056467            0.142719  0.016889   \n",
      "1       (2641)     (22496)            0.117980            0.074568  0.017042   \n",
      "0      (22496)      (2641)            0.074568            0.117980  0.017042   \n",
      "3       (2641)     (23736)            0.117980            0.055583  0.018444   \n",
      "2      (23736)      (2641)            0.055583            0.117980  0.018444   \n",
      "7       (2641)     (25128)            0.117980            0.083028  0.023428   \n",
      "6      (25128)      (2641)            0.083028            0.117980  0.023428   \n",
      "\n",
      "    confidence      lift  leverage  conviction  \n",
      "10    0.220620  1.545836  0.003582    1.099953  \n",
      "11    0.071078  1.545836  0.003582    1.027018  \n",
      "23    0.165827  2.936692  0.006780    1.131099  \n",
      "22    0.182076  2.936692  0.006780    1.146805  \n",
      "24    0.143295  2.537673  0.006475    1.101351  \n",
      "25    0.189229  2.537673  0.006475    1.141423  \n",
      "29    0.141270  2.541609  0.007114    1.099784  \n",
      "28    0.211024  2.541609  0.007114    1.162231  \n",
      "20    0.196066  4.264159  0.009305    1.186690  \n",
      "21    0.264379  4.264159  0.009305    1.275113  \n",
      "27    0.150450  2.017617  0.006300    1.089320  \n",
      "26    0.167518  2.017617  0.006300    1.101492  \n",
      "30    0.301118  3.626710  0.009218    1.312056  \n",
      "31    0.153295  3.626710  0.009218    1.131128  \n",
      "4     0.320952  2.720400  0.008579    1.298907  \n",
      "5     0.114987  2.720400  0.008579    1.082167  \n",
      "19    0.104026  2.101819  0.007783    1.060864  \n",
      "18    0.299969  2.101819  0.007783    1.224633  \n",
      "15    0.106803  1.432294  0.004601    1.036090  \n",
      "14    0.204415  1.432294  0.004601    1.077549  \n",
      "9     0.115241  1.858714  0.007598    1.060175  \n",
      "8     0.265274  1.858714  0.007598    1.166803  \n",
      "17    0.116095  1.398269  0.004719    1.037411  \n",
      "16    0.199559  1.398269  0.004719    1.071012  \n",
      "13    0.118338  2.095698  0.008830    1.070175  \n",
      "12    0.299096  2.095698  0.008830    1.223107  \n",
      "1     0.144444  1.937082  0.008244    1.081674  \n",
      "0     0.228536  1.937082  0.008244    1.143308  \n",
      "3     0.156331  2.812560  0.011886    1.119416  \n",
      "2     0.331825  2.812560  0.011886    1.320044  \n",
      "7     0.198579  2.391714  0.013633    1.144183  \n",
      "6     0.282174  2.391714  0.013633    1.228738  \n"
     ]
    }
   ],
   "source": [
    "sup3 = association_rules(ap, metric='support', min_threshold=0.0001)\n",
    "sup3 = sup1.sort_values(by=['support'])\n",
    "print(sup3)"
   ]
  },
  {
   "cell_type": "markdown",
   "id": "c7aa1b55",
   "metadata": {
    "slideshow": {
     "slide_type": "slide"
    }
   },
   "source": [
    "**1)h) Repeat g) but using another metric from the [association rules](http://rasbt.github.io/mlxtend/user_guide/frequent_patterns/association_rules/). We looked at a couple more in class. You will need to test a few thresholds for this metric. Print out the rules, sorting them by the metric you chose.**"
   ]
  },
  {
   "cell_type": "code",
   "execution_count": 47,
   "id": "5003540b",
   "metadata": {
    "slideshow": {
     "slide_type": "subslide"
    }
   },
   "outputs": [
    {
     "name": "stdout",
     "output_type": "stream",
     "text": [
      "   antecedents consequents  antecedent support  consequent support   support  \\\n",
      "11      (2814)     (18278)            0.142719            0.045980  0.010144   \n",
      "19      (2814)     (33836)            0.142719            0.049494  0.014847   \n",
      "15      (2814)     (22496)            0.142719            0.074568  0.015243   \n",
      "5       (2641)     (24656)            0.117980            0.042268  0.013566   \n",
      "9       (2814)     (17475)            0.142719            0.062000  0.016447   \n",
      "17      (2814)     (25128)            0.142719            0.083028  0.016569   \n",
      "13      (2814)     (22465)            0.142719            0.056467  0.016889   \n",
      "29     (25128)     (23736)            0.083028            0.055583  0.011729   \n",
      "24     (22496)     (22465)            0.074568            0.056467  0.010685   \n",
      "1       (2641)     (22496)            0.117980            0.074568  0.017042   \n",
      "27     (25128)     (22496)            0.083028            0.074568  0.012492   \n",
      "31     (25128)     (24656)            0.083028            0.042268  0.012728   \n",
      "3       (2641)     (23736)            0.117980            0.055583  0.018444   \n",
      "23     (17475)     (22465)            0.062000            0.056467  0.010281   \n",
      "26     (22496)     (25128)            0.074568            0.083028  0.012492   \n",
      "22     (22465)     (17475)            0.056467            0.062000  0.010281   \n",
      "25     (22465)     (22496)            0.056467            0.074568  0.010685   \n",
      "20     (17475)     (18278)            0.062000            0.045980  0.012156   \n",
      "7       (2641)     (25128)            0.117980            0.083028  0.023428   \n",
      "16     (25128)      (2814)            0.083028            0.142719  0.016569   \n",
      "14     (22496)      (2814)            0.074568            0.142719  0.015243   \n",
      "28     (23736)     (25128)            0.055583            0.083028  0.011729   \n",
      "10     (18278)      (2814)            0.045980            0.142719  0.010144   \n",
      "0      (22496)      (2641)            0.074568            0.117980  0.017042   \n",
      "21     (18278)     (17475)            0.045980            0.062000  0.012156   \n",
      "8      (17475)      (2814)            0.062000            0.142719  0.016447   \n",
      "6      (25128)      (2641)            0.083028            0.117980  0.023428   \n",
      "12     (22465)      (2814)            0.056467            0.142719  0.016889   \n",
      "18     (33836)      (2814)            0.049494            0.142719  0.014847   \n",
      "30     (24656)     (25128)            0.042268            0.083028  0.012728   \n",
      "4      (24656)      (2641)            0.042268            0.117980  0.013566   \n",
      "2      (23736)      (2641)            0.055583            0.117980  0.018444   \n",
      "\n",
      "    confidence      lift  leverage  conviction  \n",
      "11    0.071078  1.545836  0.003582    1.027018  \n",
      "19    0.104026  2.101819  0.007783    1.060864  \n",
      "15    0.106803  1.432294  0.004601    1.036090  \n",
      "5     0.114987  2.720400  0.008579    1.082167  \n",
      "9     0.115241  1.858714  0.007598    1.060175  \n",
      "17    0.116095  1.398269  0.004719    1.037411  \n",
      "13    0.118338  2.095698  0.008830    1.070175  \n",
      "29    0.141270  2.541609  0.007114    1.099784  \n",
      "24    0.143295  2.537673  0.006475    1.101351  \n",
      "1     0.144444  1.937082  0.008244    1.081674  \n",
      "27    0.150450  2.017617  0.006300    1.089320  \n",
      "31    0.153295  3.626710  0.009218    1.131128  \n",
      "3     0.156331  2.812560  0.011886    1.119416  \n",
      "23    0.165827  2.936692  0.006780    1.131099  \n",
      "26    0.167518  2.017617  0.006300    1.101492  \n",
      "22    0.182076  2.936692  0.006780    1.146805  \n",
      "25    0.189229  2.537673  0.006475    1.141423  \n",
      "20    0.196066  4.264159  0.009305    1.186690  \n",
      "7     0.198579  2.391714  0.013633    1.144183  \n",
      "16    0.199559  1.398269  0.004719    1.071012  \n",
      "14    0.204415  1.432294  0.004601    1.077549  \n",
      "28    0.211024  2.541609  0.007114    1.162231  \n",
      "10    0.220620  1.545836  0.003582    1.099953  \n",
      "0     0.228536  1.937082  0.008244    1.143308  \n",
      "21    0.264379  4.264159  0.009305    1.275113  \n",
      "8     0.265274  1.858714  0.007598    1.166803  \n",
      "6     0.282174  2.391714  0.013633    1.228738  \n",
      "12    0.299096  2.095698  0.008830    1.223107  \n",
      "18    0.299969  2.101819  0.007783    1.224633  \n",
      "30    0.301118  3.626710  0.009218    1.312056  \n",
      "4     0.320952  2.720400  0.008579    1.298907  \n",
      "2     0.331825  2.812560  0.011886    1.320044  \n"
     ]
    }
   ],
   "source": [
    "#your code here\n",
    "con1 = association_rules(ap, metric='confidence', min_threshold=0.01)\n",
    "con1 = sup1.sort_values(by=['confidence'])\n",
    "print(con1)"
   ]
  },
  {
   "cell_type": "code",
   "execution_count": 48,
   "id": "60439396",
   "metadata": {
    "pycharm": {
     "name": "#%%\n"
    },
    "slideshow": {
     "slide_type": "subslide"
    }
   },
   "outputs": [
    {
     "name": "stdout",
     "output_type": "stream",
     "text": [
      "   antecedents consequents  antecedent support  consequent support   support  \\\n",
      "11      (2814)     (18278)            0.142719            0.045980  0.010144   \n",
      "19      (2814)     (33836)            0.142719            0.049494  0.014847   \n",
      "15      (2814)     (22496)            0.142719            0.074568  0.015243   \n",
      "5       (2641)     (24656)            0.117980            0.042268  0.013566   \n",
      "9       (2814)     (17475)            0.142719            0.062000  0.016447   \n",
      "17      (2814)     (25128)            0.142719            0.083028  0.016569   \n",
      "13      (2814)     (22465)            0.142719            0.056467  0.016889   \n",
      "29     (25128)     (23736)            0.083028            0.055583  0.011729   \n",
      "24     (22496)     (22465)            0.074568            0.056467  0.010685   \n",
      "1       (2641)     (22496)            0.117980            0.074568  0.017042   \n",
      "27     (25128)     (22496)            0.083028            0.074568  0.012492   \n",
      "31     (25128)     (24656)            0.083028            0.042268  0.012728   \n",
      "3       (2641)     (23736)            0.117980            0.055583  0.018444   \n",
      "23     (17475)     (22465)            0.062000            0.056467  0.010281   \n",
      "26     (22496)     (25128)            0.074568            0.083028  0.012492   \n",
      "22     (22465)     (17475)            0.056467            0.062000  0.010281   \n",
      "25     (22465)     (22496)            0.056467            0.074568  0.010685   \n",
      "20     (17475)     (18278)            0.062000            0.045980  0.012156   \n",
      "7       (2641)     (25128)            0.117980            0.083028  0.023428   \n",
      "16     (25128)      (2814)            0.083028            0.142719  0.016569   \n",
      "14     (22496)      (2814)            0.074568            0.142719  0.015243   \n",
      "28     (23736)     (25128)            0.055583            0.083028  0.011729   \n",
      "10     (18278)      (2814)            0.045980            0.142719  0.010144   \n",
      "0      (22496)      (2641)            0.074568            0.117980  0.017042   \n",
      "21     (18278)     (17475)            0.045980            0.062000  0.012156   \n",
      "8      (17475)      (2814)            0.062000            0.142719  0.016447   \n",
      "6      (25128)      (2641)            0.083028            0.117980  0.023428   \n",
      "12     (22465)      (2814)            0.056467            0.142719  0.016889   \n",
      "18     (33836)      (2814)            0.049494            0.142719  0.014847   \n",
      "30     (24656)     (25128)            0.042268            0.083028  0.012728   \n",
      "4      (24656)      (2641)            0.042268            0.117980  0.013566   \n",
      "2      (23736)      (2641)            0.055583            0.117980  0.018444   \n",
      "\n",
      "    confidence      lift  leverage  conviction  \n",
      "11    0.071078  1.545836  0.003582    1.027018  \n",
      "19    0.104026  2.101819  0.007783    1.060864  \n",
      "15    0.106803  1.432294  0.004601    1.036090  \n",
      "5     0.114987  2.720400  0.008579    1.082167  \n",
      "9     0.115241  1.858714  0.007598    1.060175  \n",
      "17    0.116095  1.398269  0.004719    1.037411  \n",
      "13    0.118338  2.095698  0.008830    1.070175  \n",
      "29    0.141270  2.541609  0.007114    1.099784  \n",
      "24    0.143295  2.537673  0.006475    1.101351  \n",
      "1     0.144444  1.937082  0.008244    1.081674  \n",
      "27    0.150450  2.017617  0.006300    1.089320  \n",
      "31    0.153295  3.626710  0.009218    1.131128  \n",
      "3     0.156331  2.812560  0.011886    1.119416  \n",
      "23    0.165827  2.936692  0.006780    1.131099  \n",
      "26    0.167518  2.017617  0.006300    1.101492  \n",
      "22    0.182076  2.936692  0.006780    1.146805  \n",
      "25    0.189229  2.537673  0.006475    1.141423  \n",
      "20    0.196066  4.264159  0.009305    1.186690  \n",
      "7     0.198579  2.391714  0.013633    1.144183  \n",
      "16    0.199559  1.398269  0.004719    1.071012  \n",
      "14    0.204415  1.432294  0.004601    1.077549  \n",
      "28    0.211024  2.541609  0.007114    1.162231  \n",
      "10    0.220620  1.545836  0.003582    1.099953  \n",
      "0     0.228536  1.937082  0.008244    1.143308  \n",
      "21    0.264379  4.264159  0.009305    1.275113  \n",
      "8     0.265274  1.858714  0.007598    1.166803  \n",
      "6     0.282174  2.391714  0.013633    1.228738  \n",
      "12    0.299096  2.095698  0.008830    1.223107  \n",
      "18    0.299969  2.101819  0.007783    1.224633  \n",
      "30    0.301118  3.626710  0.009218    1.312056  \n",
      "4     0.320952  2.720400  0.008579    1.298907  \n",
      "2     0.331825  2.812560  0.011886    1.320044  \n"
     ]
    }
   ],
   "source": [
    "con2 = association_rules(ap, metric='confidence', min_threshold=0.001)\n",
    "con2 = sup1.sort_values(by=['confidence'])\n",
    "print(con1)"
   ]
  },
  {
   "cell_type": "code",
   "execution_count": 49,
   "id": "c7ce04fc",
   "metadata": {
    "pycharm": {
     "name": "#%%\n"
    },
    "slideshow": {
     "slide_type": "subslide"
    }
   },
   "outputs": [
    {
     "name": "stdout",
     "output_type": "stream",
     "text": [
      "   antecedents consequents  antecedent support  consequent support   support  \\\n",
      "11      (2814)     (18278)            0.142719            0.045980  0.010144   \n",
      "19      (2814)     (33836)            0.142719            0.049494  0.014847   \n",
      "15      (2814)     (22496)            0.142719            0.074568  0.015243   \n",
      "5       (2641)     (24656)            0.117980            0.042268  0.013566   \n",
      "9       (2814)     (17475)            0.142719            0.062000  0.016447   \n",
      "17      (2814)     (25128)            0.142719            0.083028  0.016569   \n",
      "13      (2814)     (22465)            0.142719            0.056467  0.016889   \n",
      "29     (25128)     (23736)            0.083028            0.055583  0.011729   \n",
      "24     (22496)     (22465)            0.074568            0.056467  0.010685   \n",
      "1       (2641)     (22496)            0.117980            0.074568  0.017042   \n",
      "27     (25128)     (22496)            0.083028            0.074568  0.012492   \n",
      "31     (25128)     (24656)            0.083028            0.042268  0.012728   \n",
      "3       (2641)     (23736)            0.117980            0.055583  0.018444   \n",
      "23     (17475)     (22465)            0.062000            0.056467  0.010281   \n",
      "26     (22496)     (25128)            0.074568            0.083028  0.012492   \n",
      "22     (22465)     (17475)            0.056467            0.062000  0.010281   \n",
      "25     (22465)     (22496)            0.056467            0.074568  0.010685   \n",
      "20     (17475)     (18278)            0.062000            0.045980  0.012156   \n",
      "7       (2641)     (25128)            0.117980            0.083028  0.023428   \n",
      "16     (25128)      (2814)            0.083028            0.142719  0.016569   \n",
      "14     (22496)      (2814)            0.074568            0.142719  0.015243   \n",
      "28     (23736)     (25128)            0.055583            0.083028  0.011729   \n",
      "10     (18278)      (2814)            0.045980            0.142719  0.010144   \n",
      "0      (22496)      (2641)            0.074568            0.117980  0.017042   \n",
      "21     (18278)     (17475)            0.045980            0.062000  0.012156   \n",
      "8      (17475)      (2814)            0.062000            0.142719  0.016447   \n",
      "6      (25128)      (2641)            0.083028            0.117980  0.023428   \n",
      "12     (22465)      (2814)            0.056467            0.142719  0.016889   \n",
      "18     (33836)      (2814)            0.049494            0.142719  0.014847   \n",
      "30     (24656)     (25128)            0.042268            0.083028  0.012728   \n",
      "4      (24656)      (2641)            0.042268            0.117980  0.013566   \n",
      "2      (23736)      (2641)            0.055583            0.117980  0.018444   \n",
      "\n",
      "    confidence      lift  leverage  conviction  \n",
      "11    0.071078  1.545836  0.003582    1.027018  \n",
      "19    0.104026  2.101819  0.007783    1.060864  \n",
      "15    0.106803  1.432294  0.004601    1.036090  \n",
      "5     0.114987  2.720400  0.008579    1.082167  \n",
      "9     0.115241  1.858714  0.007598    1.060175  \n",
      "17    0.116095  1.398269  0.004719    1.037411  \n",
      "13    0.118338  2.095698  0.008830    1.070175  \n",
      "29    0.141270  2.541609  0.007114    1.099784  \n",
      "24    0.143295  2.537673  0.006475    1.101351  \n",
      "1     0.144444  1.937082  0.008244    1.081674  \n",
      "27    0.150450  2.017617  0.006300    1.089320  \n",
      "31    0.153295  3.626710  0.009218    1.131128  \n",
      "3     0.156331  2.812560  0.011886    1.119416  \n",
      "23    0.165827  2.936692  0.006780    1.131099  \n",
      "26    0.167518  2.017617  0.006300    1.101492  \n",
      "22    0.182076  2.936692  0.006780    1.146805  \n",
      "25    0.189229  2.537673  0.006475    1.141423  \n",
      "20    0.196066  4.264159  0.009305    1.186690  \n",
      "7     0.198579  2.391714  0.013633    1.144183  \n",
      "16    0.199559  1.398269  0.004719    1.071012  \n",
      "14    0.204415  1.432294  0.004601    1.077549  \n",
      "28    0.211024  2.541609  0.007114    1.162231  \n",
      "10    0.220620  1.545836  0.003582    1.099953  \n",
      "0     0.228536  1.937082  0.008244    1.143308  \n",
      "21    0.264379  4.264159  0.009305    1.275113  \n",
      "8     0.265274  1.858714  0.007598    1.166803  \n",
      "6     0.282174  2.391714  0.013633    1.228738  \n",
      "12    0.299096  2.095698  0.008830    1.223107  \n",
      "18    0.299969  2.101819  0.007783    1.224633  \n",
      "30    0.301118  3.626710  0.009218    1.312056  \n",
      "4     0.320952  2.720400  0.008579    1.298907  \n",
      "2     0.331825  2.812560  0.011886    1.320044  \n"
     ]
    }
   ],
   "source": [
    "con3 = association_rules(ap, metric='confidence', min_threshold=0.001)\n",
    "con3 = sup1.sort_values(by=['confidence'])\n",
    "print(con3)"
   ]
  },
  {
   "cell_type": "markdown",
   "id": "e892c540",
   "metadata": {
    "slideshow": {
     "slide_type": "slide"
    }
   },
   "source": [
    "**1)i) What are top 3 results from f? What are top 3 results from g? How different are they and why do you think they are different?**"
   ]
  },
  {
   "cell_type": "code",
   "execution_count": 50,
   "id": "8756eaf0",
   "metadata": {
    "pycharm": {
     "name": "#%%\n"
    },
    "slideshow": {
     "slide_type": "subslide"
    }
   },
   "outputs": [
    {
     "data": {
      "text/html": [
       "<div>\n",
       "<style scoped>\n",
       "    .dataframe tbody tr th:only-of-type {\n",
       "        vertical-align: middle;\n",
       "    }\n",
       "\n",
       "    .dataframe tbody tr th {\n",
       "        vertical-align: top;\n",
       "    }\n",
       "\n",
       "    .dataframe thead th {\n",
       "        text-align: right;\n",
       "    }\n",
       "</style>\n",
       "<table border=\"1\" class=\"dataframe\">\n",
       "  <thead>\n",
       "    <tr style=\"text-align: right;\">\n",
       "      <th></th>\n",
       "      <th>antecedents</th>\n",
       "      <th>consequents</th>\n",
       "      <th>antecedent support</th>\n",
       "      <th>consequent support</th>\n",
       "      <th>support</th>\n",
       "      <th>confidence</th>\n",
       "      <th>lift</th>\n",
       "      <th>leverage</th>\n",
       "      <th>conviction</th>\n",
       "    </tr>\n",
       "  </thead>\n",
       "  <tbody>\n",
       "    <tr>\n",
       "      <th>10</th>\n",
       "      <td>(18278)</td>\n",
       "      <td>(2814)</td>\n",
       "      <td>0.045980</td>\n",
       "      <td>0.142719</td>\n",
       "      <td>0.010144</td>\n",
       "      <td>0.220620</td>\n",
       "      <td>1.545836</td>\n",
       "      <td>0.003582</td>\n",
       "      <td>1.099953</td>\n",
       "    </tr>\n",
       "    <tr>\n",
       "      <th>11</th>\n",
       "      <td>(2814)</td>\n",
       "      <td>(18278)</td>\n",
       "      <td>0.142719</td>\n",
       "      <td>0.045980</td>\n",
       "      <td>0.010144</td>\n",
       "      <td>0.071078</td>\n",
       "      <td>1.545836</td>\n",
       "      <td>0.003582</td>\n",
       "      <td>1.027018</td>\n",
       "    </tr>\n",
       "    <tr>\n",
       "      <th>23</th>\n",
       "      <td>(17475)</td>\n",
       "      <td>(22465)</td>\n",
       "      <td>0.062000</td>\n",
       "      <td>0.056467</td>\n",
       "      <td>0.010281</td>\n",
       "      <td>0.165827</td>\n",
       "      <td>2.936692</td>\n",
       "      <td>0.006780</td>\n",
       "      <td>1.131099</td>\n",
       "    </tr>\n",
       "  </tbody>\n",
       "</table>\n",
       "</div>"
      ],
      "text/plain": [
       "   antecedents consequents  antecedent support  consequent support   support  \\\n",
       "10     (18278)      (2814)            0.045980            0.142719  0.010144   \n",
       "11      (2814)     (18278)            0.142719            0.045980  0.010144   \n",
       "23     (17475)     (22465)            0.062000            0.056467  0.010281   \n",
       "\n",
       "    confidence      lift  leverage  conviction  \n",
       "10    0.220620  1.545836  0.003582    1.099953  \n",
       "11    0.071078  1.545836  0.003582    1.027018  \n",
       "23    0.165827  2.936692  0.006780    1.131099  "
      ]
     },
     "execution_count": 50,
     "metadata": {},
     "output_type": "execute_result"
    }
   ],
   "source": [
    "sup1.head(3)"
   ]
  },
  {
   "cell_type": "code",
   "execution_count": 51,
   "id": "604398da",
   "metadata": {
    "pycharm": {
     "name": "#%%\n"
    },
    "slideshow": {
     "slide_type": "subslide"
    }
   },
   "outputs": [
    {
     "data": {
      "text/html": [
       "<div>\n",
       "<style scoped>\n",
       "    .dataframe tbody tr th:only-of-type {\n",
       "        vertical-align: middle;\n",
       "    }\n",
       "\n",
       "    .dataframe tbody tr th {\n",
       "        vertical-align: top;\n",
       "    }\n",
       "\n",
       "    .dataframe thead th {\n",
       "        text-align: right;\n",
       "    }\n",
       "</style>\n",
       "<table border=\"1\" class=\"dataframe\">\n",
       "  <thead>\n",
       "    <tr style=\"text-align: right;\">\n",
       "      <th></th>\n",
       "      <th>antecedents</th>\n",
       "      <th>consequents</th>\n",
       "      <th>antecedent support</th>\n",
       "      <th>consequent support</th>\n",
       "      <th>support</th>\n",
       "      <th>confidence</th>\n",
       "      <th>lift</th>\n",
       "      <th>leverage</th>\n",
       "      <th>conviction</th>\n",
       "    </tr>\n",
       "  </thead>\n",
       "  <tbody>\n",
       "    <tr>\n",
       "      <th>11</th>\n",
       "      <td>(2814)</td>\n",
       "      <td>(18278)</td>\n",
       "      <td>0.142719</td>\n",
       "      <td>0.045980</td>\n",
       "      <td>0.010144</td>\n",
       "      <td>0.071078</td>\n",
       "      <td>1.545836</td>\n",
       "      <td>0.003582</td>\n",
       "      <td>1.027018</td>\n",
       "    </tr>\n",
       "    <tr>\n",
       "      <th>19</th>\n",
       "      <td>(2814)</td>\n",
       "      <td>(33836)</td>\n",
       "      <td>0.142719</td>\n",
       "      <td>0.049494</td>\n",
       "      <td>0.014847</td>\n",
       "      <td>0.104026</td>\n",
       "      <td>2.101819</td>\n",
       "      <td>0.007783</td>\n",
       "      <td>1.060864</td>\n",
       "    </tr>\n",
       "    <tr>\n",
       "      <th>15</th>\n",
       "      <td>(2814)</td>\n",
       "      <td>(22496)</td>\n",
       "      <td>0.142719</td>\n",
       "      <td>0.074568</td>\n",
       "      <td>0.015243</td>\n",
       "      <td>0.106803</td>\n",
       "      <td>1.432294</td>\n",
       "      <td>0.004601</td>\n",
       "      <td>1.036090</td>\n",
       "    </tr>\n",
       "  </tbody>\n",
       "</table>\n",
       "</div>"
      ],
      "text/plain": [
       "   antecedents consequents  antecedent support  consequent support   support  \\\n",
       "11      (2814)     (18278)            0.142719            0.045980  0.010144   \n",
       "19      (2814)     (33836)            0.142719            0.049494  0.014847   \n",
       "15      (2814)     (22496)            0.142719            0.074568  0.015243   \n",
       "\n",
       "    confidence      lift  leverage  conviction  \n",
       "11    0.071078  1.545836  0.003582    1.027018  \n",
       "19    0.104026  2.101819  0.007783    1.060864  \n",
       "15    0.106803  1.432294  0.004601    1.036090  "
      ]
     },
     "execution_count": 51,
     "metadata": {},
     "output_type": "execute_result"
    }
   ],
   "source": [
    "con1.head(3)"
   ]
  },
  {
   "cell_type": "markdown",
   "id": "5760a16c",
   "metadata": {
    "slideshow": {
     "slide_type": "subslide"
    }
   },
   "source": [
    "--> Your answer here\n",
    "\n",
    "The first 3 results from these two sets based on two different metrics are also different. Using the support metrics, the set we selected are 10, 11, 23; and using the confidence metric, the set we selected are 11, 19, 15. I think this is due to the fact that the metrics for sorting these rows are different."
   ]
  },
  {
   "cell_type": "markdown",
   "id": "35db0e27",
   "metadata": {
    "slideshow": {
     "slide_type": "notes"
    }
   },
   "source": [
    "---\n",
    "\n",
    "## Jupyter Notebook Presentation\n",
    "\n",
    "We will use [nbconvert](https://nbconvert.readthedocs.io/en/latest/) for this question.\n",
    "\n",
    "2) Follow these steps:\n",
    "1. On your top menu go to View > Cell Toolbar > Slideshow\n",
    "2. Now on every cell you'll have the the option of: Slide, Sub-slide, Fragment, Skip, Notes. Choose an option for each of your cell.\n",
    "3. Once you are done save your file and head over to your terminal. Type the following:\n",
    "    > jupyter nbconvert Lab4_F21_YourNameHere.ipynb --to slides --post serve\n",
    "4. Go through your slides and see if you like them. Otherwise go back to point 2 and tweak the cells.\n",
    "    * Make sure not everything is a slide\n",
    "    * Pair up questions with code in the same slide\n",
    "    * Make sure the transitions make sense\n",
    "5. One you are done, submit this notebook along with your html file of your slides.\n",
    "\n",
    "\n",
    "Additional resources:\n",
    "* Flag configurations for [nbconvert](https://nbconvert.readthedocs.io/en/latest/config_options.html).\n",
    "* Walkthrough of conversting jupyter notebook to [slides](https://medium.com/@mjspeck/presenting-code-using-jupyter-notebook-slides-a8a3c3b59d67)"
   ]
  },
  {
   "cell_type": "markdown",
   "id": "76af7062",
   "metadata": {
    "slideshow": {
     "slide_type": "skip"
    }
   },
   "source": [
    "---\n",
    "\n",
    "### END OF LAB 4!"
   ]
  },
  {
   "cell_type": "code",
   "execution_count": 52,
   "id": "e1ec1f51",
   "metadata": {
    "slideshow": {
     "slide_type": "skip"
    }
   },
   "outputs": [
    {
     "ename": "SyntaxError",
     "evalue": "invalid syntax (161799643.py, line 1)",
     "output_type": "error",
     "traceback": [
      "\u001B[0;36m  File \u001B[0;32m\"/var/folders/8h/ysxdy2n52md_q48rldhcg5h00000gn/T/ipykernel_2167/161799643.py\"\u001B[0;36m, line \u001B[0;32m1\u001B[0m\n\u001B[0;31m    jupyter nbconvert Lab4_F21_Mini2_XiYan.ipynb –to slides –post serve\u001B[0m\n\u001B[0m            ^\u001B[0m\n\u001B[0;31mSyntaxError\u001B[0m\u001B[0;31m:\u001B[0m invalid syntax\n"
     ]
    }
   ],
   "source": []
  },
  {
   "cell_type": "code",
   "execution_count": null,
   "id": "e200988f",
   "metadata": {},
   "outputs": [],
   "source": []
  }
 ],
 "metadata": {
  "celltoolbar": "Slideshow",
  "kernelspec": {
   "display_name": "Python 3 (ipykernel)",
   "language": "python",
   "name": "python3"
  },
  "language_info": {
   "codemirror_mode": {
    "name": "ipython",
    "version": 3
   },
   "file_extension": ".py",
   "mimetype": "text/x-python",
   "name": "python",
   "nbconvert_exporter": "python",
   "pygments_lexer": "ipython3",
   "version": "3.8.10"
  }
 },
 "nbformat": 4,
 "nbformat_minor": 5
}